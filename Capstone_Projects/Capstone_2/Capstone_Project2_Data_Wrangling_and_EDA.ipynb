{
 "cells": [
  {
   "cell_type": "code",
   "execution_count": 1,
   "id": "01892149",
   "metadata": {},
   "outputs": [],
   "source": [
    "import pandas as pd\n",
    "import numpy as np\n",
    "import seaborn as sns\n",
    "import matplotlib.pyplot as plt"
   ]
  },
  {
   "cell_type": "code",
   "execution_count": 2,
   "id": "0e07d34b",
   "metadata": {},
   "outputs": [],
   "source": [
    "GBBO_df = pd.read_csv('data/GBBO_data_set.csv')"
   ]
  },
  {
   "cell_type": "code",
   "execution_count": 3,
   "id": "2fd131e5",
   "metadata": {},
   "outputs": [],
   "source": [
    "#Remove those last 2 weird columns.\n",
    "GBBO_df=GBBO_df.iloc[:,:16]"
   ]
  },
  {
   "cell_type": "markdown",
   "id": "51978a77",
   "metadata": {},
   "source": [
    "# Info on Dataset"
   ]
  },
  {
   "cell_type": "code",
   "execution_count": 4,
   "id": "45a5bc63",
   "metadata": {},
   "outputs": [
    {
     "data": {
      "text/html": [
       "<div>\n",
       "<style scoped>\n",
       "    .dataframe tbody tr th:only-of-type {\n",
       "        vertical-align: middle;\n",
       "    }\n",
       "\n",
       "    .dataframe tbody tr th {\n",
       "        vertical-align: top;\n",
       "    }\n",
       "\n",
       "    .dataframe thead th {\n",
       "        text-align: right;\n",
       "    }\n",
       "</style>\n",
       "<table border=\"1\" class=\"dataframe\">\n",
       "  <thead>\n",
       "    <tr style=\"text-align: right;\">\n",
       "      <th></th>\n",
       "      <th>Season</th>\n",
       "      <th>Judge</th>\n",
       "      <th>Week Number</th>\n",
       "      <th>Week Name</th>\n",
       "      <th>Baker</th>\n",
       "      <th>Gender</th>\n",
       "      <th>Age</th>\n",
       "      <th>Signature Handshake</th>\n",
       "      <th>Technical Rank</th>\n",
       "      <th>Showstopper Handshake</th>\n",
       "      <th>Favorite</th>\n",
       "      <th>Least Favorite</th>\n",
       "      <th>Star Baker</th>\n",
       "      <th>Eliminated</th>\n",
       "      <th>Competed</th>\n",
       "      <th>Winner</th>\n",
       "    </tr>\n",
       "  </thead>\n",
       "  <tbody>\n",
       "    <tr>\n",
       "      <th>0</th>\n",
       "      <td>Series 1</td>\n",
       "      <td>Mary</td>\n",
       "      <td>1</td>\n",
       "      <td>Cake</td>\n",
       "      <td>Annetha</td>\n",
       "      <td>F</td>\n",
       "      <td>30</td>\n",
       "      <td>0</td>\n",
       "      <td>2.0</td>\n",
       "      <td>0</td>\n",
       "      <td>1.0</td>\n",
       "      <td>0</td>\n",
       "      <td>0</td>\n",
       "      <td>0</td>\n",
       "      <td>1</td>\n",
       "      <td>0</td>\n",
       "    </tr>\n",
       "    <tr>\n",
       "      <th>1</th>\n",
       "      <td>Series 1</td>\n",
       "      <td>Mary</td>\n",
       "      <td>1</td>\n",
       "      <td>Cake</td>\n",
       "      <td>David</td>\n",
       "      <td>M</td>\n",
       "      <td>31</td>\n",
       "      <td>0</td>\n",
       "      <td>3.0</td>\n",
       "      <td>0</td>\n",
       "      <td>0.0</td>\n",
       "      <td>1</td>\n",
       "      <td>0</td>\n",
       "      <td>0</td>\n",
       "      <td>1</td>\n",
       "      <td>0</td>\n",
       "    </tr>\n",
       "    <tr>\n",
       "      <th>2</th>\n",
       "      <td>Series 1</td>\n",
       "      <td>Mary</td>\n",
       "      <td>1</td>\n",
       "      <td>Cake</td>\n",
       "      <td>Edd</td>\n",
       "      <td>M</td>\n",
       "      <td>24</td>\n",
       "      <td>0</td>\n",
       "      <td>1.0</td>\n",
       "      <td>0</td>\n",
       "      <td>0.0</td>\n",
       "      <td>0</td>\n",
       "      <td>0</td>\n",
       "      <td>0</td>\n",
       "      <td>1</td>\n",
       "      <td>1</td>\n",
       "    </tr>\n",
       "    <tr>\n",
       "      <th>3</th>\n",
       "      <td>Series 1</td>\n",
       "      <td>Mary</td>\n",
       "      <td>1</td>\n",
       "      <td>Cake</td>\n",
       "      <td>Jasminder</td>\n",
       "      <td>F</td>\n",
       "      <td>45</td>\n",
       "      <td>0</td>\n",
       "      <td>NaN</td>\n",
       "      <td>0</td>\n",
       "      <td>0.0</td>\n",
       "      <td>0</td>\n",
       "      <td>0</td>\n",
       "      <td>0</td>\n",
       "      <td>1</td>\n",
       "      <td>0</td>\n",
       "    </tr>\n",
       "    <tr>\n",
       "      <th>4</th>\n",
       "      <td>Series 1</td>\n",
       "      <td>Mary</td>\n",
       "      <td>1</td>\n",
       "      <td>Cake</td>\n",
       "      <td>Jonathan</td>\n",
       "      <td>M</td>\n",
       "      <td>25</td>\n",
       "      <td>0</td>\n",
       "      <td>9.0</td>\n",
       "      <td>0</td>\n",
       "      <td>0.0</td>\n",
       "      <td>0</td>\n",
       "      <td>0</td>\n",
       "      <td>0</td>\n",
       "      <td>1</td>\n",
       "      <td>0</td>\n",
       "    </tr>\n",
       "  </tbody>\n",
       "</table>\n",
       "</div>"
      ],
      "text/plain": [
       "     Season Judge  Week Number Week Name      Baker Gender  Age  \\\n",
       "0  Series 1  Mary            1      Cake    Annetha      F   30   \n",
       "1  Series 1  Mary            1      Cake      David      M   31   \n",
       "2  Series 1  Mary            1      Cake        Edd      M   24   \n",
       "3  Series 1  Mary            1      Cake  Jasminder      F   45   \n",
       "4  Series 1  Mary            1      Cake   Jonathan      M   25   \n",
       "\n",
       "   Signature Handshake  Technical Rank  Showstopper Handshake  Favorite  \\\n",
       "0                    0             2.0                      0       1.0   \n",
       "1                    0             3.0                      0       0.0   \n",
       "2                    0             1.0                      0       0.0   \n",
       "3                    0             NaN                      0       0.0   \n",
       "4                    0             9.0                      0       0.0   \n",
       "\n",
       "   Least Favorite  Star Baker  Eliminated  Competed  Winner  \n",
       "0               0           0           0         1       0  \n",
       "1               1           0           0         1       0  \n",
       "2               0           0           0         1       1  \n",
       "3               0           0           0         1       0  \n",
       "4               0           0           0         1       0  "
      ]
     },
     "execution_count": 4,
     "metadata": {},
     "output_type": "execute_result"
    }
   ],
   "source": [
    "GBBO_df.head()"
   ]
  },
  {
   "cell_type": "code",
   "execution_count": 5,
   "id": "56f5e74e",
   "metadata": {},
   "outputs": [
    {
     "data": {
      "text/plain": [
       "(1256, 16)"
      ]
     },
     "execution_count": 5,
     "metadata": {},
     "output_type": "execute_result"
    }
   ],
   "source": [
    "GBBO_df.shape"
   ]
  },
  {
   "cell_type": "code",
   "execution_count": 6,
   "id": "6615d9bc",
   "metadata": {},
   "outputs": [
    {
     "name": "stdout",
     "output_type": "stream",
     "text": [
      "<class 'pandas.core.frame.DataFrame'>\n",
      "RangeIndex: 1256 entries, 0 to 1255\n",
      "Data columns (total 16 columns):\n",
      " #   Column                 Non-Null Count  Dtype  \n",
      "---  ------                 --------------  -----  \n",
      " 0   Season                 1256 non-null   object \n",
      " 1   Judge                  1256 non-null   object \n",
      " 2   Week Number            1256 non-null   int64  \n",
      " 3   Week Name              1256 non-null   object \n",
      " 4   Baker                  1256 non-null   object \n",
      " 5   Gender                 1256 non-null   object \n",
      " 6   Age                    1256 non-null   int64  \n",
      " 7   Signature Handshake    1256 non-null   int64  \n",
      " 8   Technical Rank         771 non-null    float64\n",
      " 9   Showstopper Handshake  1256 non-null   int64  \n",
      " 10  Favorite               1256 non-null   float64\n",
      " 11  Least Favorite         1256 non-null   int64  \n",
      " 12  Star Baker             1256 non-null   int64  \n",
      " 13  Eliminated             1256 non-null   int64  \n",
      " 14  Competed               1256 non-null   int64  \n",
      " 15  Winner                 1256 non-null   int64  \n",
      "dtypes: float64(2), int64(9), object(5)\n",
      "memory usage: 157.1+ KB\n"
     ]
    }
   ],
   "source": [
    "GBBO_df.info()\n",
    "#notice several missing values for Technical Rank."
   ]
  },
  {
   "cell_type": "code",
   "execution_count": 7,
   "id": "d0042007",
   "metadata": {},
   "outputs": [
    {
     "data": {
      "text/html": [
       "<div>\n",
       "<style scoped>\n",
       "    .dataframe tbody tr th:only-of-type {\n",
       "        vertical-align: middle;\n",
       "    }\n",
       "\n",
       "    .dataframe tbody tr th {\n",
       "        vertical-align: top;\n",
       "    }\n",
       "\n",
       "    .dataframe thead th {\n",
       "        text-align: right;\n",
       "    }\n",
       "</style>\n",
       "<table border=\"1\" class=\"dataframe\">\n",
       "  <thead>\n",
       "    <tr style=\"text-align: right;\">\n",
       "      <th></th>\n",
       "      <th>Week Number</th>\n",
       "      <th>Age</th>\n",
       "      <th>Signature Handshake</th>\n",
       "      <th>Technical Rank</th>\n",
       "      <th>Showstopper Handshake</th>\n",
       "      <th>Favorite</th>\n",
       "      <th>Least Favorite</th>\n",
       "      <th>Star Baker</th>\n",
       "      <th>Eliminated</th>\n",
       "      <th>Competed</th>\n",
       "      <th>Winner</th>\n",
       "    </tr>\n",
       "  </thead>\n",
       "  <tbody>\n",
       "    <tr>\n",
       "      <th>count</th>\n",
       "      <td>1256.000000</td>\n",
       "      <td>1256.000000</td>\n",
       "      <td>1256.000000</td>\n",
       "      <td>771.000000</td>\n",
       "      <td>1256.000000</td>\n",
       "      <td>1256.000000</td>\n",
       "      <td>1256.000000</td>\n",
       "      <td>1256.000000</td>\n",
       "      <td>1256.000000</td>\n",
       "      <td>1256.000000</td>\n",
       "      <td>1256.000000</td>\n",
       "    </tr>\n",
       "    <tr>\n",
       "      <th>mean</th>\n",
       "      <td>5.328025</td>\n",
       "      <td>37.449045</td>\n",
       "      <td>0.024682</td>\n",
       "      <td>4.837873</td>\n",
       "      <td>0.003185</td>\n",
       "      <td>0.164013</td>\n",
       "      <td>0.170382</td>\n",
       "      <td>0.078025</td>\n",
       "      <td>0.095541</td>\n",
       "      <td>0.619427</td>\n",
       "      <td>0.082803</td>\n",
       "    </tr>\n",
       "    <tr>\n",
       "      <th>std</th>\n",
       "      <td>2.830237</td>\n",
       "      <td>12.841254</td>\n",
       "      <td>0.155214</td>\n",
       "      <td>2.967953</td>\n",
       "      <td>0.056366</td>\n",
       "      <td>0.369896</td>\n",
       "      <td>0.376118</td>\n",
       "      <td>0.268319</td>\n",
       "      <td>0.294078</td>\n",
       "      <td>0.485721</td>\n",
       "      <td>0.275693</td>\n",
       "    </tr>\n",
       "    <tr>\n",
       "      <th>min</th>\n",
       "      <td>1.000000</td>\n",
       "      <td>17.000000</td>\n",
       "      <td>0.000000</td>\n",
       "      <td>1.000000</td>\n",
       "      <td>0.000000</td>\n",
       "      <td>0.000000</td>\n",
       "      <td>0.000000</td>\n",
       "      <td>0.000000</td>\n",
       "      <td>0.000000</td>\n",
       "      <td>0.000000</td>\n",
       "      <td>0.000000</td>\n",
       "    </tr>\n",
       "    <tr>\n",
       "      <th>25%</th>\n",
       "      <td>3.000000</td>\n",
       "      <td>29.000000</td>\n",
       "      <td>0.000000</td>\n",
       "      <td>2.000000</td>\n",
       "      <td>0.000000</td>\n",
       "      <td>0.000000</td>\n",
       "      <td>0.000000</td>\n",
       "      <td>0.000000</td>\n",
       "      <td>0.000000</td>\n",
       "      <td>0.000000</td>\n",
       "      <td>0.000000</td>\n",
       "    </tr>\n",
       "    <tr>\n",
       "      <th>50%</th>\n",
       "      <td>5.000000</td>\n",
       "      <td>33.500000</td>\n",
       "      <td>0.000000</td>\n",
       "      <td>4.000000</td>\n",
       "      <td>0.000000</td>\n",
       "      <td>0.000000</td>\n",
       "      <td>0.000000</td>\n",
       "      <td>0.000000</td>\n",
       "      <td>0.000000</td>\n",
       "      <td>1.000000</td>\n",
       "      <td>0.000000</td>\n",
       "    </tr>\n",
       "    <tr>\n",
       "      <th>75%</th>\n",
       "      <td>8.000000</td>\n",
       "      <td>46.000000</td>\n",
       "      <td>0.000000</td>\n",
       "      <td>7.000000</td>\n",
       "      <td>0.000000</td>\n",
       "      <td>0.000000</td>\n",
       "      <td>0.000000</td>\n",
       "      <td>0.000000</td>\n",
       "      <td>0.000000</td>\n",
       "      <td>1.000000</td>\n",
       "      <td>0.000000</td>\n",
       "    </tr>\n",
       "    <tr>\n",
       "      <th>max</th>\n",
       "      <td>10.000000</td>\n",
       "      <td>71.000000</td>\n",
       "      <td>1.000000</td>\n",
       "      <td>13.000000</td>\n",
       "      <td>1.000000</td>\n",
       "      <td>1.000000</td>\n",
       "      <td>1.000000</td>\n",
       "      <td>1.000000</td>\n",
       "      <td>1.000000</td>\n",
       "      <td>1.000000</td>\n",
       "      <td>1.000000</td>\n",
       "    </tr>\n",
       "  </tbody>\n",
       "</table>\n",
       "</div>"
      ],
      "text/plain": [
       "       Week Number          Age  Signature Handshake  Technical Rank  \\\n",
       "count  1256.000000  1256.000000          1256.000000      771.000000   \n",
       "mean      5.328025    37.449045             0.024682        4.837873   \n",
       "std       2.830237    12.841254             0.155214        2.967953   \n",
       "min       1.000000    17.000000             0.000000        1.000000   \n",
       "25%       3.000000    29.000000             0.000000        2.000000   \n",
       "50%       5.000000    33.500000             0.000000        4.000000   \n",
       "75%       8.000000    46.000000             0.000000        7.000000   \n",
       "max      10.000000    71.000000             1.000000       13.000000   \n",
       "\n",
       "       Showstopper Handshake     Favorite  Least Favorite   Star Baker  \\\n",
       "count            1256.000000  1256.000000     1256.000000  1256.000000   \n",
       "mean                0.003185     0.164013        0.170382     0.078025   \n",
       "std                 0.056366     0.369896        0.376118     0.268319   \n",
       "min                 0.000000     0.000000        0.000000     0.000000   \n",
       "25%                 0.000000     0.000000        0.000000     0.000000   \n",
       "50%                 0.000000     0.000000        0.000000     0.000000   \n",
       "75%                 0.000000     0.000000        0.000000     0.000000   \n",
       "max                 1.000000     1.000000        1.000000     1.000000   \n",
       "\n",
       "        Eliminated     Competed       Winner  \n",
       "count  1256.000000  1256.000000  1256.000000  \n",
       "mean      0.095541     0.619427     0.082803  \n",
       "std       0.294078     0.485721     0.275693  \n",
       "min       0.000000     0.000000     0.000000  \n",
       "25%       0.000000     0.000000     0.000000  \n",
       "50%       0.000000     1.000000     0.000000  \n",
       "75%       0.000000     1.000000     0.000000  \n",
       "max       1.000000     1.000000     1.000000  "
      ]
     },
     "execution_count": 7,
     "metadata": {},
     "output_type": "execute_result"
    }
   ],
   "source": [
    "GBBO_df.describe()"
   ]
  },
  {
   "cell_type": "markdown",
   "id": "d8871574",
   "metadata": {},
   "source": [
    "Let's investigate those nulls for Technical Rank"
   ]
  },
  {
   "cell_type": "code",
   "execution_count": 8,
   "id": "5f6a7b85",
   "metadata": {},
   "outputs": [
    {
     "data": {
      "text/html": [
       "<div>\n",
       "<style scoped>\n",
       "    .dataframe tbody tr th:only-of-type {\n",
       "        vertical-align: middle;\n",
       "    }\n",
       "\n",
       "    .dataframe tbody tr th {\n",
       "        vertical-align: top;\n",
       "    }\n",
       "\n",
       "    .dataframe thead th {\n",
       "        text-align: right;\n",
       "    }\n",
       "</style>\n",
       "<table border=\"1\" class=\"dataframe\">\n",
       "  <thead>\n",
       "    <tr style=\"text-align: right;\">\n",
       "      <th></th>\n",
       "      <th>Season</th>\n",
       "      <th>Judge</th>\n",
       "      <th>Week Number</th>\n",
       "      <th>Week Name</th>\n",
       "      <th>Baker</th>\n",
       "      <th>Gender</th>\n",
       "      <th>Age</th>\n",
       "      <th>Signature Handshake</th>\n",
       "      <th>Technical Rank</th>\n",
       "      <th>Showstopper Handshake</th>\n",
       "      <th>Favorite</th>\n",
       "      <th>Least Favorite</th>\n",
       "      <th>Star Baker</th>\n",
       "      <th>Eliminated</th>\n",
       "      <th>Competed</th>\n",
       "      <th>Winner</th>\n",
       "    </tr>\n",
       "  </thead>\n",
       "  <tbody>\n",
       "    <tr>\n",
       "      <th>3</th>\n",
       "      <td>Series 1</td>\n",
       "      <td>Mary</td>\n",
       "      <td>1</td>\n",
       "      <td>Cake</td>\n",
       "      <td>Jasminder</td>\n",
       "      <td>F</td>\n",
       "      <td>45</td>\n",
       "      <td>0</td>\n",
       "      <td>NaN</td>\n",
       "      <td>0</td>\n",
       "      <td>0.0</td>\n",
       "      <td>0</td>\n",
       "      <td>0</td>\n",
       "      <td>0</td>\n",
       "      <td>1</td>\n",
       "      <td>0</td>\n",
       "    </tr>\n",
       "    <tr>\n",
       "      <th>6</th>\n",
       "      <td>Series 1</td>\n",
       "      <td>Mary</td>\n",
       "      <td>1</td>\n",
       "      <td>Cake</td>\n",
       "      <td>Louise</td>\n",
       "      <td>F</td>\n",
       "      <td>44</td>\n",
       "      <td>0</td>\n",
       "      <td>NaN</td>\n",
       "      <td>0</td>\n",
       "      <td>0.0</td>\n",
       "      <td>1</td>\n",
       "      <td>0</td>\n",
       "      <td>1</td>\n",
       "      <td>1</td>\n",
       "      <td>0</td>\n",
       "    </tr>\n",
       "    <tr>\n",
       "      <th>7</th>\n",
       "      <td>Series 1</td>\n",
       "      <td>Mary</td>\n",
       "      <td>1</td>\n",
       "      <td>Cake</td>\n",
       "      <td>Mark</td>\n",
       "      <td>M</td>\n",
       "      <td>48</td>\n",
       "      <td>0</td>\n",
       "      <td>NaN</td>\n",
       "      <td>0</td>\n",
       "      <td>0.0</td>\n",
       "      <td>0</td>\n",
       "      <td>0</td>\n",
       "      <td>0</td>\n",
       "      <td>1</td>\n",
       "      <td>0</td>\n",
       "    </tr>\n",
       "    <tr>\n",
       "      <th>9</th>\n",
       "      <td>Series 1</td>\n",
       "      <td>Mary</td>\n",
       "      <td>1</td>\n",
       "      <td>Cake</td>\n",
       "      <td>Ruth</td>\n",
       "      <td>F</td>\n",
       "      <td>31</td>\n",
       "      <td>0</td>\n",
       "      <td>NaN</td>\n",
       "      <td>0</td>\n",
       "      <td>1.0</td>\n",
       "      <td>0</td>\n",
       "      <td>0</td>\n",
       "      <td>0</td>\n",
       "      <td>1</td>\n",
       "      <td>0</td>\n",
       "    </tr>\n",
       "    <tr>\n",
       "      <th>15</th>\n",
       "      <td>Series 1</td>\n",
       "      <td>Mary</td>\n",
       "      <td>2</td>\n",
       "      <td>Biscuits</td>\n",
       "      <td>Lea</td>\n",
       "      <td>F</td>\n",
       "      <td>51</td>\n",
       "      <td>0</td>\n",
       "      <td>NaN</td>\n",
       "      <td>0</td>\n",
       "      <td>0.0</td>\n",
       "      <td>0</td>\n",
       "      <td>0</td>\n",
       "      <td>0</td>\n",
       "      <td>0</td>\n",
       "      <td>0</td>\n",
       "    </tr>\n",
       "    <tr>\n",
       "      <th>...</th>\n",
       "      <td>...</td>\n",
       "      <td>...</td>\n",
       "      <td>...</td>\n",
       "      <td>...</td>\n",
       "      <td>...</td>\n",
       "      <td>...</td>\n",
       "      <td>...</td>\n",
       "      <td>...</td>\n",
       "      <td>...</td>\n",
       "      <td>...</td>\n",
       "      <td>...</td>\n",
       "      <td>...</td>\n",
       "      <td>...</td>\n",
       "      <td>...</td>\n",
       "      <td>...</td>\n",
       "      <td>...</td>\n",
       "    </tr>\n",
       "    <tr>\n",
       "      <th>1250</th>\n",
       "      <td>Series 11</td>\n",
       "      <td>Prue</td>\n",
       "      <td>10</td>\n",
       "      <td>Final</td>\n",
       "      <td>Mak</td>\n",
       "      <td>M</td>\n",
       "      <td>51</td>\n",
       "      <td>0</td>\n",
       "      <td>NaN</td>\n",
       "      <td>0</td>\n",
       "      <td>0.0</td>\n",
       "      <td>0</td>\n",
       "      <td>0</td>\n",
       "      <td>0</td>\n",
       "      <td>0</td>\n",
       "      <td>0</td>\n",
       "    </tr>\n",
       "    <tr>\n",
       "      <th>1251</th>\n",
       "      <td>Series 11</td>\n",
       "      <td>Prue</td>\n",
       "      <td>10</td>\n",
       "      <td>Final</td>\n",
       "      <td>Marc E</td>\n",
       "      <td>M</td>\n",
       "      <td>51</td>\n",
       "      <td>0</td>\n",
       "      <td>NaN</td>\n",
       "      <td>0</td>\n",
       "      <td>0.0</td>\n",
       "      <td>0</td>\n",
       "      <td>0</td>\n",
       "      <td>0</td>\n",
       "      <td>0</td>\n",
       "      <td>0</td>\n",
       "    </tr>\n",
       "    <tr>\n",
       "      <th>1252</th>\n",
       "      <td>Series 11</td>\n",
       "      <td>Prue</td>\n",
       "      <td>10</td>\n",
       "      <td>Final</td>\n",
       "      <td>Mark L</td>\n",
       "      <td>M</td>\n",
       "      <td>32</td>\n",
       "      <td>0</td>\n",
       "      <td>NaN</td>\n",
       "      <td>0</td>\n",
       "      <td>0.0</td>\n",
       "      <td>0</td>\n",
       "      <td>0</td>\n",
       "      <td>0</td>\n",
       "      <td>0</td>\n",
       "      <td>0</td>\n",
       "    </tr>\n",
       "    <tr>\n",
       "      <th>1254</th>\n",
       "      <td>Series 11</td>\n",
       "      <td>Prue</td>\n",
       "      <td>10</td>\n",
       "      <td>Final</td>\n",
       "      <td>Rowan</td>\n",
       "      <td>M</td>\n",
       "      <td>55</td>\n",
       "      <td>0</td>\n",
       "      <td>NaN</td>\n",
       "      <td>0</td>\n",
       "      <td>0.0</td>\n",
       "      <td>0</td>\n",
       "      <td>0</td>\n",
       "      <td>0</td>\n",
       "      <td>0</td>\n",
       "      <td>0</td>\n",
       "    </tr>\n",
       "    <tr>\n",
       "      <th>1255</th>\n",
       "      <td>Series 11</td>\n",
       "      <td>Prue</td>\n",
       "      <td>10</td>\n",
       "      <td>Final</td>\n",
       "      <td>Sura</td>\n",
       "      <td>F</td>\n",
       "      <td>31</td>\n",
       "      <td>0</td>\n",
       "      <td>NaN</td>\n",
       "      <td>0</td>\n",
       "      <td>0.0</td>\n",
       "      <td>0</td>\n",
       "      <td>0</td>\n",
       "      <td>0</td>\n",
       "      <td>0</td>\n",
       "      <td>0</td>\n",
       "    </tr>\n",
       "  </tbody>\n",
       "</table>\n",
       "<p>485 rows × 16 columns</p>\n",
       "</div>"
      ],
      "text/plain": [
       "         Season Judge  Week Number Week Name      Baker Gender  Age  \\\n",
       "3      Series 1  Mary            1      Cake  Jasminder      F   45   \n",
       "6      Series 1  Mary            1      Cake     Louise      F   44   \n",
       "7      Series 1  Mary            1      Cake       Mark      M   48   \n",
       "9      Series 1  Mary            1      Cake       Ruth      F   31   \n",
       "15     Series 1  Mary            2  Biscuits        Lea      F   51   \n",
       "...         ...   ...          ...       ...        ...    ...  ...   \n",
       "1250  Series 11  Prue           10     Final        Mak      M   51   \n",
       "1251  Series 11  Prue           10     Final     Marc E      M   51   \n",
       "1252  Series 11  Prue           10     Final     Mark L      M   32   \n",
       "1254  Series 11  Prue           10     Final      Rowan      M   55   \n",
       "1255  Series 11  Prue           10     Final       Sura      F   31   \n",
       "\n",
       "      Signature Handshake  Technical Rank  Showstopper Handshake  Favorite  \\\n",
       "3                       0             NaN                      0       0.0   \n",
       "6                       0             NaN                      0       0.0   \n",
       "7                       0             NaN                      0       0.0   \n",
       "9                       0             NaN                      0       1.0   \n",
       "15                      0             NaN                      0       0.0   \n",
       "...                   ...             ...                    ...       ...   \n",
       "1250                    0             NaN                      0       0.0   \n",
       "1251                    0             NaN                      0       0.0   \n",
       "1252                    0             NaN                      0       0.0   \n",
       "1254                    0             NaN                      0       0.0   \n",
       "1255                    0             NaN                      0       0.0   \n",
       "\n",
       "      Least Favorite  Star Baker  Eliminated  Competed  Winner  \n",
       "3                  0           0           0         1       0  \n",
       "6                  1           0           1         1       0  \n",
       "7                  0           0           0         1       0  \n",
       "9                  0           0           0         1       0  \n",
       "15                 0           0           0         0       0  \n",
       "...              ...         ...         ...       ...     ...  \n",
       "1250               0           0           0         0       0  \n",
       "1251               0           0           0         0       0  \n",
       "1252               0           0           0         0       0  \n",
       "1254               0           0           0         0       0  \n",
       "1255               0           0           0         0       0  \n",
       "\n",
       "[485 rows x 16 columns]"
      ]
     },
     "execution_count": 8,
     "metadata": {},
     "output_type": "execute_result"
    }
   ],
   "source": [
    "GBBO_df[GBBO_df['Technical Rank'].isnull()]"
   ]
  },
  {
   "cell_type": "markdown",
   "id": "e55aefd6",
   "metadata": {},
   "source": [
    "Upon further investigation, those nulls are just contestants that are no longer in the competition. We can probably remove them from the dataset but I will leave for now. "
   ]
  },
  {
   "cell_type": "code",
   "execution_count": 9,
   "id": "9003861f",
   "metadata": {},
   "outputs": [
    {
     "data": {
      "text/plain": [
       "['Season',\n",
       " 'Judge',\n",
       " 'Week Number',\n",
       " 'Week Name',\n",
       " 'Baker',\n",
       " 'Gender',\n",
       " 'Age',\n",
       " 'Signature Handshake',\n",
       " 'Technical Rank',\n",
       " 'Showstopper Handshake',\n",
       " 'Favorite',\n",
       " 'Least Favorite',\n",
       " 'Star Baker',\n",
       " 'Eliminated',\n",
       " 'Competed',\n",
       " 'Winner']"
      ]
     },
     "execution_count": 9,
     "metadata": {},
     "output_type": "execute_result"
    }
   ],
   "source": [
    "list(GBBO_df.columns)"
   ]
  },
  {
   "cell_type": "code",
   "execution_count": 10,
   "id": "662f0604",
   "metadata": {},
   "outputs": [],
   "source": [
    "#I will now rename the columns to be a bit easier to program with\n",
    "GBBO_df.rename(columns = {'Week Number':'Week_Number',\n",
    "                          'Week Name':'Week_Name', \n",
    "                          'Signature Handshake':'Signature_Handshake',\n",
    "                          'Technical Rank':'Technical_Rank',\n",
    "                          'Showstopper Handshake':'Showstopper_Handshake',\n",
    "                          'Least Favorite':'Least_Favorite',\n",
    "                          'Star Baker':'Star_Baker'},\n",
    "              inplace = True)"
   ]
  },
  {
   "cell_type": "code",
   "execution_count": 11,
   "id": "fabc62c9",
   "metadata": {
    "scrolled": true
   },
   "outputs": [
    {
     "data": {
      "text/plain": [
       "Season                    object\n",
       "Judge                     object\n",
       "Week_Number                int64\n",
       "Week_Name                 object\n",
       "Baker                     object\n",
       "Gender                    object\n",
       "Age                        int64\n",
       "Signature_Handshake        int64\n",
       "Technical_Rank           float64\n",
       "Showstopper_Handshake      int64\n",
       "Favorite                 float64\n",
       "Least_Favorite             int64\n",
       "Star_Baker                 int64\n",
       "Eliminated                 int64\n",
       "Competed                   int64\n",
       "Winner                     int64\n",
       "dtype: object"
      ]
     },
     "execution_count": 11,
     "metadata": {},
     "output_type": "execute_result"
    }
   ],
   "source": [
    "#Time to clean up columns for our modelling\n",
    "GBBO_df.dtypes"
   ]
  },
  {
   "cell_type": "markdown",
   "id": "bb2b5757",
   "metadata": {},
   "source": [
    "Everything looks good here except for Gender. We will set this to dummy data for regression later on"
   ]
  },
  {
   "cell_type": "code",
   "execution_count": 12,
   "id": "cf32d35c",
   "metadata": {},
   "outputs": [],
   "source": [
    "Unique_Bakers = GBBO_df.Baker.nunique()\n",
    "Gender_Counts = GBBO_df.Gender.value_counts()\n",
    "Num_Sig_Handshakes = GBBO_df.Signature_Handshake.sum()\n",
    "Num_Show_Handshakes = GBBO_df.Showstopper_Handshake.sum()\n",
    "Youngest_Baker = GBBO_df.Age.min()\n",
    "Oldest_Baker = GBBO_df.Age.max()"
   ]
  },
  {
   "cell_type": "code",
   "execution_count": 13,
   "id": "1313a0d1",
   "metadata": {},
   "outputs": [
    {
     "name": "stdout",
     "output_type": "stream",
     "text": [
      " Over 11 seasons, The Great British Bake Off has seen 118 bakers, 644 of whom identify as female and 612 whom identify as male. The series has also seen bakers range in ages from the youngest of 17 years old, to the oldest of 71 years old. Paul, one of the judges, loves to give out handshakes after exceptional bakes and we have seen 31 number of handshakes after Signature Challenges, and 4 after Showstopper Challenges.\n"
     ]
    }
   ],
   "source": [
    "print(f' Over 11 seasons, The Great British Bake Off has seen {Unique_Bakers} bakers, \\\n",
    "{Gender_Counts[0]} of whom identify as female and {Gender_Counts[1]} whom identify as male. \\\n",
    "The series has also seen bakers range in ages from the youngest of {Youngest_Baker} years old, \\\n",
    "to the oldest of {Oldest_Baker} years old. Paul, one of the judges, loves to give out handshakes after exceptional bakes and \\\n",
    "we have seen {Num_Sig_Handshakes} number of handshakes after Signature Challenges, \\\n",
    "and {Num_Show_Handshakes} after Showstopper Challenges.')"
   ]
  },
  {
   "cell_type": "markdown",
   "id": "12e523aa",
   "metadata": {},
   "source": [
    "# Questions To Try and Solve"
   ]
  },
  {
   "cell_type": "markdown",
   "id": "503d61c4",
   "metadata": {},
   "source": [
    "1) Do Gender, Age, Handshakes, Technical Score or being deemed favorite most lead to being star baker?\n",
    "\n",
    "2) Do Gender, Age, Handshakes, Technical Score or being deemed least favorite most lead to being eliminated?\n",
    "\n",
    "3) Does Star Baker correlate to winning the show? "
   ]
  },
  {
   "cell_type": "code",
   "execution_count": 14,
   "id": "6f6e79a3",
   "metadata": {},
   "outputs": [],
   "source": [
    "#Since Season 1 operated differently (no star baker, no handshakes,etc.) we will remove Season 1 from our DF\n",
    "df = GBBO_df[GBBO_df.Season != 'Series 1'].copy()"
   ]
  },
  {
   "cell_type": "code",
   "execution_count": 15,
   "id": "541e9e16",
   "metadata": {},
   "outputs": [
    {
     "data": {
      "text/plain": [
       "array(['Series 2', 'Series 3', 'Series 4', 'Series 5', 'Series 6',\n",
       "       'Series 7', 'Series 8', 'Series 9', 'Series 10', 'Series 11'],\n",
       "      dtype=object)"
      ]
     },
     "execution_count": 15,
     "metadata": {},
     "output_type": "execute_result"
    }
   ],
   "source": [
    "df.Season.unique()"
   ]
  },
  {
   "cell_type": "code",
   "execution_count": 16,
   "id": "b68b59f3",
   "metadata": {
    "scrolled": true
   },
   "outputs": [],
   "source": [
    "#Replace these with categorical values of 2-11 \n",
    "df['Season'] = df['Season'].str.replace('Series', '').str.strip()"
   ]
  },
  {
   "cell_type": "code",
   "execution_count": 17,
   "id": "7839d851",
   "metadata": {},
   "outputs": [],
   "source": [
    "df.Season=df.Season.astype('int').astype('category')\n",
    "df.Week_Number = df.Week_Number.astype('int').astype('category')"
   ]
  },
  {
   "cell_type": "markdown",
   "id": "680d5e0e",
   "metadata": {},
   "source": [
    "# Exploratory Data Analysis"
   ]
  },
  {
   "cell_type": "code",
   "execution_count": 18,
   "id": "920fd9bd",
   "metadata": {
    "scrolled": false
   },
   "outputs": [
    {
     "data": {
      "image/png": "[encoded data removed]",
      "text/plain": [
       "<Figure size 640x480 with 1 Axes>"
      ]
     },
     "metadata": {},
     "output_type": "display_data"
    }
   ],
   "source": [
    "#Visualizing handshakes and star baker recipients on both signature bakes and showstoppers\n",
    "plt.clf()\n",
    "\n",
    "numsig =df.Signature_Handshake.sum()\n",
    "starsig = df.loc[df.Star_Baker==1]['Signature_Handshake'].sum()\n",
    "numshow = df.Showstopper_Handshake.sum()\n",
    "starshow =df.loc[df.Star_Baker==1]['Showstopper_Handshake'].sum()\n",
    "\n",
    "x= ['Signature_Handshake','Showstopper_Handshake']\n",
    "y1= [numsig-starsig, numshow - starshow]\n",
    "y2 = [starsig,starshow]\n",
    "plt.bar(x,y1,color='green')\n",
    "plt.bar(x,y2,bottom = y1,color='gold')\n",
    "plt.legend(['not star baker','star baker'])\n",
    "plt.title('Proportion of Star Baker for those recieving handshakes during:\\n' +\n",
    "          'signature: ' + str(round(starsig/numsig,2)) +\n",
    "          '\\nshowstopper: ' + str(starshow/numshow))\n",
    "plt.show()      "
   ]
  },
  {
   "cell_type": "code",
   "execution_count": 19,
   "id": "18ce4016",
   "metadata": {},
   "outputs": [
    {
     "data": {
      "image/png": "[encoded data removed]",
      "text/plain": [
       "<Figure size 560.236x500 with 1 Axes>"
      ]
     },
     "metadata": {},
     "output_type": "display_data"
    }
   ],
   "source": [
    "#Any relationship between Age and Technical_Rank?\n",
    "sns.relplot(kind='scatter',data=df, x='Age',y='Technical_Rank',hue= 'Winner')\n",
    "plt.show()"
   ]
  },
  {
   "cell_type": "code",
   "execution_count": 20,
   "id": "620f7f24",
   "metadata": {},
   "outputs": [
    {
     "data": {
      "text/plain": [
       "<Figure size 640x480 with 0 Axes>"
      ]
     },
     "metadata": {},
     "output_type": "display_data"
    },
    {
     "data": {
      "image/png": "[encoded data removed]",
      "text/plain": [
       "<Figure size 640x480 with 1 Axes>"
      ]
     },
     "metadata": {},
     "output_type": "display_data"
    }
   ],
   "source": [
    "#Any relationship between Age and Star_Baker?\n",
    "plt.clf()\n",
    "fig, ax = plt.subplots()\n",
    "\n",
    "ax.hist(df[df[\"Star_Baker\"]==1][\"Age\"], bins=15, alpha=0.5, color=\"blue\", label=\"StarBaker\")\n",
    "ax.hist(df[df[\"Star_Baker\"]==0][\"Age\"], bins=15, alpha=0.5, color=\"green\", label=\"Not StarBaker\")\n",
    "\n",
    "ax.set_xlabel(\"Age\")\n",
    "ax.set_ylabel(\"Count of Bakers\")\n",
    "\n",
    "fig.suptitle(\"Age vs. StarBakers on the Great British Bake Off\")\n",
    "\n",
    "ax.legend()\n",
    "plt.show()"
   ]
  },
  {
   "cell_type": "markdown",
   "id": "e22474fa",
   "metadata": {},
   "source": [
    "Nothing super insightful here except that it seems that age does not aid star baker designation"
   ]
  },
  {
   "cell_type": "code",
   "execution_count": 21,
   "id": "ea56b677",
   "metadata": {
    "scrolled": false
   },
   "outputs": [
    {
     "data": {
      "image/png": "[encoded data removed]",
      "text/plain": [
       "<Figure size 640x480 with 1 Axes>"
      ]
     },
     "metadata": {},
     "output_type": "display_data"
    }
   ],
   "source": [
    "#Any visual discrepancies between gender and star baker?\n",
    "_=sns.histplot(data=df,x='Gender',hue = \"Star_Baker\",fill=False)"
   ]
  },
  {
   "cell_type": "code",
   "execution_count": 22,
   "id": "a5aac3a6",
   "metadata": {},
   "outputs": [
    {
     "data": {
      "text/plain": [
       "<seaborn.axisgrid.FacetGrid at 0x7f84b0449be0>"
      ]
     },
     "execution_count": 22,
     "metadata": {},
     "output_type": "execute_result"
    },
    {
     "data": {
      "image/png": "[encoded data removed]",
      "text/plain": [
       "<Figure size 662.486x500 with 1 Axes>"
      ]
     },
     "metadata": {},
     "output_type": "display_data"
    }
   ],
   "source": [
    "#Did signature handshakes increase during any season?\n",
    "g=sns.catplot(x=\"Season\", hue=\"Signature_Handshake\", data=df, kind=\"count\", \n",
    "            palette={1:\"blue\", 0:\"green\"})\n",
    "g.set_xticklabels(rotation=35)"
   ]
  },
  {
   "cell_type": "code",
   "execution_count": 23,
   "id": "37588059",
   "metadata": {},
   "outputs": [
    {
     "data": {
      "text/plain": [
       "<seaborn.axisgrid.FacetGrid at 0x7f848049bfd0>"
      ]
     },
     "execution_count": 23,
     "metadata": {},
     "output_type": "execute_result"
    },
    {
     "data": {
      "image/png": "[encoded data removed]",
      "text/plain": [
       "<Figure size 685.861x500 with 1 Axes>"
      ]
     },
     "metadata": {},
     "output_type": "display_data"
    }
   ],
   "source": [
    "#Did Showstopper handshakes increase during any season?\n",
    "g=sns.catplot(x=\"Season\", hue=\"Showstopper_Handshake\", data=df, kind=\"count\", \n",
    "            palette={1:\"blue\", 0:\"green\"})\n",
    "g.set_xticklabels(rotation=35)"
   ]
  },
  {
   "cell_type": "code",
   "execution_count": 24,
   "id": "923566ea",
   "metadata": {},
   "outputs": [
    {
     "data": {
      "image/png": "[encoded data removed]",
      "text/plain": [
       "<Figure size 640x480 with 2 Axes>"
      ]
     },
     "metadata": {},
     "output_type": "display_data"
    }
   ],
   "source": [
    "#Lets look for correlations between all the catagories\n",
    "sns.heatmap(df.corr(),annot=True,cmap=\"coolwarm\",fmt='.2f',linewidths=.05)\n",
    "plt.show()"
   ]
  },
  {
   "cell_type": "markdown",
   "id": "6e964078",
   "metadata": {},
   "source": [
    "-Star_Baker and Favorite seem promising\n",
    "-Least_Favorite and Eliminated seem promising\n",
    "-Favorite/Least_Favorite are pretty correlated with Competed. This makes sense as the longer the baker is in the competition, the more likely it is that they'll recieve a favorite/least favorite designation"
   ]
  },
  {
   "cell_type": "markdown",
   "id": "fbe4543c",
   "metadata": {},
   "source": [
    "\n",
    "\n",
    "# Bring in the Challenges DF"
   ]
  },
  {
   "cell_type": "code",
   "execution_count": 25,
   "id": "4231b4ea",
   "metadata": {},
   "outputs": [],
   "source": [
    "url = 'https://raw.githubusercontent.com/rfordatascience/tidytuesday/master/data/2022/2022-10-25/challenges.csv'"
   ]
  },
  {
   "cell_type": "code",
   "execution_count": 26,
   "id": "f885ba01",
   "metadata": {},
   "outputs": [],
   "source": [
    "challenges = pd.read_csv(url)"
   ]
  },
  {
   "cell_type": "code",
   "execution_count": 27,
   "id": "21ebe6a4",
   "metadata": {
    "scrolled": false
   },
   "outputs": [],
   "source": [
    "#remove series 1 to match our existing DF\n",
    "challenges=challenges[challenges.series != 1]"
   ]
  },
  {
   "cell_type": "code",
   "execution_count": 28,
   "id": "736d6662",
   "metadata": {},
   "outputs": [],
   "source": [
    "#Change col labels of the challenges dataset\n",
    "challenges.rename(columns={\"series\":\"Season\",\"episode\":\"Week_Number\",\"baker\":\"Baker\"},inplace=True)"
   ]
  },
  {
   "cell_type": "code",
   "execution_count": 29,
   "id": "533e4e67",
   "metadata": {},
   "outputs": [
    {
     "data": {
      "text/plain": [
       "Season                   category\n",
       "Judge                      object\n",
       "Week_Number              category\n",
       "Week_Name                  object\n",
       "Baker                      object\n",
       "Gender                     object\n",
       "Age                         int64\n",
       "Signature_Handshake         int64\n",
       "Technical_Rank            float64\n",
       "Showstopper_Handshake       int64\n",
       "Favorite                  float64\n",
       "Least_Favorite              int64\n",
       "Star_Baker                  int64\n",
       "Eliminated                  int64\n",
       "Competed                    int64\n",
       "Winner                      int64\n",
       "dtype: object"
      ]
     },
     "metadata": {},
     "output_type": "display_data"
    },
    {
     "data": {
      "text/plain": [
       "Season           int64\n",
       "Week_Number      int64\n",
       "Baker           object\n",
       "result          object\n",
       "signature       object\n",
       "technical      float64\n",
       "showstopper     object\n",
       "dtype: object"
      ]
     },
     "metadata": {},
     "output_type": "display_data"
    }
   ],
   "source": [
    "display(df.dtypes)\n",
    "display(challenges.dtypes)"
   ]
  },
  {
   "cell_type": "code",
   "execution_count": 30,
   "id": "2c0a4ec4",
   "metadata": {},
   "outputs": [],
   "source": [
    "#Brenden's name is spelled incorrectly. Should be 'Brendan'\n",
    "df.Baker.replace('Brenden','Brendan',inplace=True)"
   ]
  },
  {
   "cell_type": "code",
   "execution_count": 31,
   "id": "dbc44590",
   "metadata": {},
   "outputs": [
    {
     "data": {
      "text/plain": [
       "[2, 3, 4, 5, 6, 7, 8, 9, 10]\n",
       "Categories (10, int64): [2, 3, 4, 5, ..., 8, 9, 10, 11]"
      ]
     },
     "execution_count": 31,
     "metadata": {},
     "output_type": "execute_result"
    }
   ],
   "source": [
    "#Challenges only has data for the seasons 2-10 while our main df goes to season 11. I'll drop season 11 from our main df. \n",
    "\n",
    "df= df.loc[df.Season != 11]\n",
    "\n",
    "df.Season.unique()"
   ]
  },
  {
   "cell_type": "code",
   "execution_count": 32,
   "id": "a386b931",
   "metadata": {},
   "outputs": [],
   "source": [
    "#I will merge the two dataframes together on Season, Week_Name, and Baker. So the dtypes must be the same\n",
    "challenges.Season=challenges.Season.astype('category')\n",
    "challenges.Week_Number=challenges.Week_Number.astype('category')\n",
    "final_df = pd.merge(df,challenges,how = 'left', on=['Season','Week_Number','Baker'])"
   ]
  },
  {
   "cell_type": "code",
   "execution_count": 33,
   "id": "76e429af",
   "metadata": {
    "scrolled": false
   },
   "outputs": [],
   "source": [
    "#drop challenges.result column & technical column due to redundancy\n",
    "#drop judge column since Mary won't be a judge moving forward \n",
    "final_df.drop(columns=['result','technical','Judge'],inplace=True)"
   ]
  },
  {
   "cell_type": "markdown",
   "id": "38d36eb8",
   "metadata": {},
   "source": [
    "# Dealing with final null values"
   ]
  },
  {
   "cell_type": "markdown",
   "id": "35513544",
   "metadata": {},
   "source": [
    "Lets remove all rows of legacy bakers (where they've been eliminated already)"
   ]
  },
  {
   "cell_type": "code",
   "execution_count": 68,
   "id": "23f92f02",
   "metadata": {},
   "outputs": [
    {
     "data": {
      "text/plain": [
       "Season                    0\n",
       "Week_Number               0\n",
       "Week_Name                 0\n",
       "Baker                     0\n",
       "Gender                    0\n",
       "Age                       0\n",
       "Signature_Handshake       0\n",
       "Technical_Rank            0\n",
       "Showstopper_Handshake     0\n",
       "Favorite                  0\n",
       "Least_Favorite            0\n",
       "Star_Baker                0\n",
       "Eliminated                0\n",
       "Competed                  0\n",
       "Winner                    0\n",
       "signature                 0\n",
       "showstopper              12\n",
       "dtype: int64"
      ]
     },
     "execution_count": 68,
     "metadata": {},
     "output_type": "execute_result"
    }
   ],
   "source": [
    "final_df.isnull().sum()"
   ]
  },
  {
   "cell_type": "code",
   "execution_count": 34,
   "id": "ae9e9289",
   "metadata": {
    "scrolled": false
   },
   "outputs": [],
   "source": [
    "#dropping rows where competed = 0\n",
    "final_df = final_df.loc[final_df.Competed != 0]"
   ]
  },
  {
   "cell_type": "markdown",
   "id": "ec5f89db",
   "metadata": {},
   "source": [
    "Let's manually investigate those technical_rank missing values"
   ]
  },
  {
   "cell_type": "code",
   "execution_count": 37,
   "id": "6914c2c2",
   "metadata": {},
   "outputs": [],
   "source": [
    "#delete the wrongfully inputted value for robert. He was eliminated back in week 5\n",
    "delete = final_df[final_df.Technical_Rank.isna()].head(1)\n",
    "final_df.drop(delete.index,inplace=True)"
   ]
  },
  {
   "cell_type": "code",
   "execution_count": 38,
   "id": "b2f50932",
   "metadata": {},
   "outputs": [],
   "source": [
    "#delete the wrongfully inputted value for Peter. He was eliminated back in week 1\n",
    "delete = final_df[final_df.Technical_Rank.isna()].head(2).iloc[[1]]\n",
    "final_df.drop(delete.index,inplace=True)"
   ]
  },
  {
   "cell_type": "code",
   "execution_count": 52,
   "id": "0a69f26a",
   "metadata": {},
   "outputs": [],
   "source": [
    "#Tamal got 3rd in the competition\n",
    "final_df.loc[584,'Technical_Rank'] = 3"
   ]
  },
  {
   "cell_type": "code",
   "execution_count": 65,
   "id": "17d067b0",
   "metadata": {},
   "outputs": [],
   "source": [
    "#delete the wrongfully inputted value for Terry. He was eliminated back in week 5\n",
    "delete = final_df[final_df.Technical_Rank.isna()]\n",
    "final_df.drop(delete.index,inplace=True)"
   ]
  },
  {
   "cell_type": "markdown",
   "id": "ab771a88",
   "metadata": {},
   "source": [
    "Now, let's manually investigate those showstopper missing values"
   ]
  },
  {
   "cell_type": "code",
   "execution_count": 77,
   "id": "4eae0bff",
   "metadata": {},
   "outputs": [
    {
     "data": {
      "text/html": [
       "<div>\n",
       "<style scoped>\n",
       "    .dataframe tbody tr th:only-of-type {\n",
       "        vertical-align: middle;\n",
       "    }\n",
       "\n",
       "    .dataframe tbody tr th {\n",
       "        vertical-align: top;\n",
       "    }\n",
       "\n",
       "    .dataframe thead th {\n",
       "        text-align: right;\n",
       "    }\n",
       "</style>\n",
       "<table border=\"1\" class=\"dataframe\">\n",
       "  <thead>\n",
       "    <tr style=\"text-align: right;\">\n",
       "      <th></th>\n",
       "      <th>Season</th>\n",
       "      <th>Week_Number</th>\n",
       "      <th>Week_Name</th>\n",
       "      <th>Baker</th>\n",
       "      <th>Gender</th>\n",
       "      <th>Age</th>\n",
       "      <th>Signature_Handshake</th>\n",
       "      <th>Technical_Rank</th>\n",
       "      <th>Showstopper_Handshake</th>\n",
       "      <th>Favorite</th>\n",
       "      <th>Least_Favorite</th>\n",
       "      <th>Star_Baker</th>\n",
       "      <th>Eliminated</th>\n",
       "      <th>Competed</th>\n",
       "      <th>Winner</th>\n",
       "      <th>signature</th>\n",
       "      <th>showstopper</th>\n",
       "    </tr>\n",
       "  </thead>\n",
       "  <tbody>\n",
       "    <tr>\n",
       "      <th>2</th>\n",
       "      <td>2</td>\n",
       "      <td>1</td>\n",
       "      <td>Cake</td>\n",
       "      <td>Ian</td>\n",
       "      <td>M</td>\n",
       "      <td>40</td>\n",
       "      <td>0</td>\n",
       "      <td>10.0</td>\n",
       "      <td>0</td>\n",
       "      <td>0.0</td>\n",
       "      <td>0</td>\n",
       "      <td>0</td>\n",
       "      <td>0</td>\n",
       "      <td>1</td>\n",
       "      <td>0</td>\n",
       "      <td>Apple and Cinnamon Cupcakes</td>\n",
       "      <td>NaN</td>\n",
       "    </tr>\n",
       "    <tr>\n",
       "      <th>4</th>\n",
       "      <td>2</td>\n",
       "      <td>1</td>\n",
       "      <td>Cake</td>\n",
       "      <td>Jason</td>\n",
       "      <td>M</td>\n",
       "      <td>19</td>\n",
       "      <td>0</td>\n",
       "      <td>6.0</td>\n",
       "      <td>0</td>\n",
       "      <td>0.0</td>\n",
       "      <td>0</td>\n",
       "      <td>0</td>\n",
       "      <td>0</td>\n",
       "      <td>1</td>\n",
       "      <td>0</td>\n",
       "      <td>Lemon Meringue CupcakesApple and Cinnamon Cupc...</td>\n",
       "      <td>NaN</td>\n",
       "    </tr>\n",
       "    <tr>\n",
       "      <th>11</th>\n",
       "      <td>2</td>\n",
       "      <td>1</td>\n",
       "      <td>Cake</td>\n",
       "      <td>Yasmin</td>\n",
       "      <td>F</td>\n",
       "      <td>43</td>\n",
       "      <td>0</td>\n",
       "      <td>5.0</td>\n",
       "      <td>0</td>\n",
       "      <td>0.0</td>\n",
       "      <td>0</td>\n",
       "      <td>0</td>\n",
       "      <td>0</td>\n",
       "      <td>1</td>\n",
       "      <td>0</td>\n",
       "      <td>Cardamom and Pomegranate Cupcakes</td>\n",
       "      <td>NaN</td>\n",
       "    </tr>\n",
       "    <tr>\n",
       "      <th>14</th>\n",
       "      <td>2</td>\n",
       "      <td>2</td>\n",
       "      <td>Tarts</td>\n",
       "      <td>Ian</td>\n",
       "      <td>M</td>\n",
       "      <td>40</td>\n",
       "      <td>0</td>\n",
       "      <td>2.0</td>\n",
       "      <td>0</td>\n",
       "      <td>1.0</td>\n",
       "      <td>0</td>\n",
       "      <td>0</td>\n",
       "      <td>0</td>\n",
       "      <td>1</td>\n",
       "      <td>0</td>\n",
       "      <td>Stilton, Spinach and New Potato Quichewith Pap...</td>\n",
       "      <td>NaN</td>\n",
       "    </tr>\n",
       "    <tr>\n",
       "      <th>24</th>\n",
       "      <td>2</td>\n",
       "      <td>3</td>\n",
       "      <td>Bread</td>\n",
       "      <td>Ben</td>\n",
       "      <td>M</td>\n",
       "      <td>31</td>\n",
       "      <td>0</td>\n",
       "      <td>3.0</td>\n",
       "      <td>0</td>\n",
       "      <td>0.0</td>\n",
       "      <td>0</td>\n",
       "      <td>0</td>\n",
       "      <td>0</td>\n",
       "      <td>1</td>\n",
       "      <td>0</td>\n",
       "      <td>Walnut, Raisin and Rosemary Loaf</td>\n",
       "      <td>NaN</td>\n",
       "    </tr>\n",
       "    <tr>\n",
       "      <th>28</th>\n",
       "      <td>2</td>\n",
       "      <td>3</td>\n",
       "      <td>Bread</td>\n",
       "      <td>Jason</td>\n",
       "      <td>M</td>\n",
       "      <td>19</td>\n",
       "      <td>0</td>\n",
       "      <td>7.0</td>\n",
       "      <td>0</td>\n",
       "      <td>0.0</td>\n",
       "      <td>0</td>\n",
       "      <td>0</td>\n",
       "      <td>0</td>\n",
       "      <td>1</td>\n",
       "      <td>0</td>\n",
       "      <td>Cheese and Onion Tear and Share Loaf</td>\n",
       "      <td>NaN</td>\n",
       "    </tr>\n",
       "    <tr>\n",
       "      <th>29</th>\n",
       "      <td>2</td>\n",
       "      <td>3</td>\n",
       "      <td>Bread</td>\n",
       "      <td>Joanne</td>\n",
       "      <td>F</td>\n",
       "      <td>41</td>\n",
       "      <td>0</td>\n",
       "      <td>1.0</td>\n",
       "      <td>0</td>\n",
       "      <td>0.0</td>\n",
       "      <td>0</td>\n",
       "      <td>0</td>\n",
       "      <td>0</td>\n",
       "      <td>1</td>\n",
       "      <td>1</td>\n",
       "      <td>Stromboli flavored with Mozzarella, Ham, and P...</td>\n",
       "      <td>NaN</td>\n",
       "    </tr>\n",
       "    <tr>\n",
       "      <th>110</th>\n",
       "      <td>3</td>\n",
       "      <td>2</td>\n",
       "      <td>Bread</td>\n",
       "      <td>Danny</td>\n",
       "      <td>F</td>\n",
       "      <td>45</td>\n",
       "      <td>0</td>\n",
       "      <td>3.0</td>\n",
       "      <td>0</td>\n",
       "      <td>0.0</td>\n",
       "      <td>0</td>\n",
       "      <td>0</td>\n",
       "      <td>0</td>\n",
       "      <td>1</td>\n",
       "      <td>0</td>\n",
       "      <td>Lime Coriander and Coconut TortillasZaatar Naa...</td>\n",
       "      <td>NaN</td>\n",
       "    </tr>\n",
       "    <tr>\n",
       "      <th>117</th>\n",
       "      <td>3</td>\n",
       "      <td>2</td>\n",
       "      <td>Bread</td>\n",
       "      <td>Sarah-Jane</td>\n",
       "      <td>F</td>\n",
       "      <td>28</td>\n",
       "      <td>0</td>\n",
       "      <td>10.0</td>\n",
       "      <td>0</td>\n",
       "      <td>0.0</td>\n",
       "      <td>0</td>\n",
       "      <td>0</td>\n",
       "      <td>0</td>\n",
       "      <td>1</td>\n",
       "      <td>0</td>\n",
       "      <td>Coconut RotiOatcakes</td>\n",
       "      <td>NaN</td>\n",
       "    </tr>\n",
       "    <tr>\n",
       "      <th>128</th>\n",
       "      <td>3</td>\n",
       "      <td>3</td>\n",
       "      <td>Tarts</td>\n",
       "      <td>Ryan</td>\n",
       "      <td>M</td>\n",
       "      <td>38</td>\n",
       "      <td>0</td>\n",
       "      <td>5.0</td>\n",
       "      <td>0</td>\n",
       "      <td>0.0</td>\n",
       "      <td>0</td>\n",
       "      <td>0</td>\n",
       "      <td>0</td>\n",
       "      <td>1</td>\n",
       "      <td>0</td>\n",
       "      <td>Spiced Pear Tarte Tatin</td>\n",
       "      <td>NaN</td>\n",
       "    </tr>\n",
       "  </tbody>\n",
       "</table>\n",
       "</div>"
      ],
      "text/plain": [
       "     Season Week_Number Week_Name       Baker Gender  Age  \\\n",
       "2         2           1      Cake         Ian      M   40   \n",
       "4         2           1      Cake       Jason      M   19   \n",
       "11        2           1      Cake      Yasmin      F   43   \n",
       "14        2           2     Tarts         Ian      M   40   \n",
       "24        2           3     Bread         Ben      M   31   \n",
       "28        2           3     Bread       Jason      M   19   \n",
       "29        2           3     Bread      Joanne      F   41   \n",
       "110       3           2     Bread       Danny      F   45   \n",
       "117       3           2     Bread  Sarah-Jane      F   28   \n",
       "128       3           3     Tarts        Ryan      M   38   \n",
       "\n",
       "     Signature_Handshake  Technical_Rank  Showstopper_Handshake  Favorite  \\\n",
       "2                      0            10.0                      0       0.0   \n",
       "4                      0             6.0                      0       0.0   \n",
       "11                     0             5.0                      0       0.0   \n",
       "14                     0             2.0                      0       1.0   \n",
       "24                     0             3.0                      0       0.0   \n",
       "28                     0             7.0                      0       0.0   \n",
       "29                     0             1.0                      0       0.0   \n",
       "110                    0             3.0                      0       0.0   \n",
       "117                    0            10.0                      0       0.0   \n",
       "128                    0             5.0                      0       0.0   \n",
       "\n",
       "     Least_Favorite  Star_Baker  Eliminated  Competed  Winner  \\\n",
       "2                 0           0           0         1       0   \n",
       "4                 0           0           0         1       0   \n",
       "11                0           0           0         1       0   \n",
       "14                0           0           0         1       0   \n",
       "24                0           0           0         1       0   \n",
       "28                0           0           0         1       0   \n",
       "29                0           0           0         1       1   \n",
       "110               0           0           0         1       0   \n",
       "117               0           0           0         1       0   \n",
       "128               0           0           0         1       0   \n",
       "\n",
       "                                             signature showstopper  \n",
       "2                          Apple and Cinnamon Cupcakes         NaN  \n",
       "4    Lemon Meringue CupcakesApple and Cinnamon Cupc...         NaN  \n",
       "11                   Cardamom and Pomegranate Cupcakes         NaN  \n",
       "14   Stilton, Spinach and New Potato Quichewith Pap...         NaN  \n",
       "24                    Walnut, Raisin and Rosemary Loaf         NaN  \n",
       "28                Cheese and Onion Tear and Share Loaf         NaN  \n",
       "29   Stromboli flavored with Mozzarella, Ham, and P...         NaN  \n",
       "110  Lime Coriander and Coconut TortillasZaatar Naa...         NaN  \n",
       "117                               Coconut RotiOatcakes         NaN  \n",
       "128                            Spiced Pear Tarte Tatin         NaN  "
      ]
     },
     "execution_count": 77,
     "metadata": {},
     "output_type": "execute_result"
    }
   ],
   "source": [
    "final_df[final_df.showstopper.isna()]"
   ]
  },
  {
   "cell_type": "markdown",
   "id": "d7e2b18e",
   "metadata": {},
   "source": [
    "Using Wikipedia, We can fill in the bakes for Urvashi(Season 2, episode 1) and Manisha (Season 3, episode 2). The remaining NAs are listed as \"unknown\" on wikipedia. I'll fill the missing values with \"Unknown\""
   ]
  },
  {
   "cell_type": "code",
   "execution_count": 76,
   "id": "8c6c2f2b",
   "metadata": {},
   "outputs": [],
   "source": [
    "#fix known missing values\n",
    "final_df.loc[10,'showstopper'] = 'Orange Blossom Celebration Cake'\n",
    "final_df.loc[113,'showstopper'] = 'Chocolate Orange Bagels'"
   ]
  },
  {
   "cell_type": "code",
   "execution_count": 78,
   "id": "ddf4dc0e",
   "metadata": {},
   "outputs": [],
   "source": [
    "#fill the remaining nulls with \"Unkown\"\n",
    "final_df.showstopper.fillna(\"Unknown\",inplace=True)"
   ]
  },
  {
   "cell_type": "code",
   "execution_count": 79,
   "id": "52b927ff",
   "metadata": {},
   "outputs": [
    {
     "data": {
      "text/plain": [
       "Season                   0\n",
       "Week_Number              0\n",
       "Week_Name                0\n",
       "Baker                    0\n",
       "Gender                   0\n",
       "Age                      0\n",
       "Signature_Handshake      0\n",
       "Technical_Rank           0\n",
       "Showstopper_Handshake    0\n",
       "Favorite                 0\n",
       "Least_Favorite           0\n",
       "Star_Baker               0\n",
       "Eliminated               0\n",
       "Competed                 0\n",
       "Winner                   0\n",
       "signature                0\n",
       "showstopper              0\n",
       "dtype: int64"
      ]
     },
     "execution_count": 79,
     "metadata": {},
     "output_type": "execute_result"
    }
   ],
   "source": [
    "#Make sure we have no nulls!\n",
    "final_df.isnull().sum()"
   ]
  },
  {
   "cell_type": "code",
   "execution_count": 87,
   "id": "b81b8e36",
   "metadata": {},
   "outputs": [
    {
     "name": "stdout",
     "output_type": "stream",
     "text": [
      "<class 'pandas.core.frame.DataFrame'>\n",
      "Int64Index: 664 entries, 0 to 1075\n",
      "Data columns (total 17 columns):\n",
      " #   Column                 Non-Null Count  Dtype   \n",
      "---  ------                 --------------  -----   \n",
      " 0   Season                 664 non-null    category\n",
      " 1   Week_Number            664 non-null    category\n",
      " 2   Week_Name              664 non-null    object  \n",
      " 3   Baker                  664 non-null    object  \n",
      " 4   Gender                 664 non-null    object  \n",
      " 5   Age                    664 non-null    int64   \n",
      " 6   Signature_Handshake    664 non-null    int64   \n",
      " 7   Technical_Rank         664 non-null    float64 \n",
      " 8   Showstopper_Handshake  664 non-null    int64   \n",
      " 9   Favorite               664 non-null    float64 \n",
      " 10  Least_Favorite         664 non-null    int64   \n",
      " 11  Star_Baker             664 non-null    int64   \n",
      " 12  Eliminated             664 non-null    int64   \n",
      " 13  Competed               664 non-null    int64   \n",
      " 14  Winner                 664 non-null    int64   \n",
      " 15  signature              664 non-null    object  \n",
      " 16  showstopper            664 non-null    object  \n",
      "dtypes: category(2), float64(2), int64(8), object(5)\n",
      "memory usage: 101.2+ KB\n"
     ]
    }
   ],
   "source": [
    "#for some reason Season wasn't set to category. Setting it back \n",
    "final_df.Season = final_df.Season.astype('category')\n",
    "final_df.info()"
   ]
  },
  {
   "cell_type": "code",
   "execution_count": null,
   "id": "40ab7e28",
   "metadata": {},
   "outputs": [],
   "source": []
  },
  {
   "cell_type": "code",
   "execution_count": null,
   "id": "4b187184",
   "metadata": {},
   "outputs": [],
   "source": []
  },
  {
   "cell_type": "markdown",
   "id": "4f8e726b",
   "metadata": {},
   "source": [
    "# Questions to Answer\n",
    "\n",
    "1. What leads to being eliminated\n",
    "2. What leads to being star baker\n",
    "3. What leads to winning the competition\n",
    "4. How to win each particular week's theme"
   ]
  },
  {
   "cell_type": "markdown",
   "id": "eba21a94",
   "metadata": {},
   "source": [
    "# Future Pipeline\n",
    "\n",
    "1. OHE Cat features (season, episode, bake_week, gender)\n",
    "2. Standard Scale Age and technical scores\n",
    "3. CountVectorizer showstopper and signature\n",
    "4. Do I remove baker?"
   ]
  },
  {
   "cell_type": "markdown",
   "id": "86dadc92",
   "metadata": {},
   "source": [
    "# Ongoing Mentor Questions\n",
    "\n",
    "1. Should I OHE Season and Episode?\n",
    "2. Do I need to break out my df for each season. Do I create several test/trains for different Y tests? \n",
    "    -i.e Set star baker as my Y vs Winner as my Y\n",
    "3. How do I deal with correlation on categorical features. \n",
    "4. "
   ]
  }
 ],
 "metadata": {
  "kernelspec": {
   "display_name": "Python 3 (ipykernel)",
   "language": "python",
   "name": "python3"
  },
  "language_info": {
   "codemirror_mode": {
    "name": "ipython",
    "version": 3
   },
   "file_extension": ".py",
   "mimetype": "text/x-python",
   "name": "python",
   "nbconvert_exporter": "python",
   "pygments_lexer": "ipython3",
   "version": "3.9.13"
  }
 },
 "nbformat": 4,
 "nbformat_minor": 5
}
