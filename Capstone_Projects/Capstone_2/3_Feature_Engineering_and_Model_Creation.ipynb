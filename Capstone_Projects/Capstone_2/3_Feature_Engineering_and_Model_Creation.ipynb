{
 "cells": [
  {
   "cell_type": "markdown",
   "id": "789dca74",
   "metadata": {},
   "source": [
    "# Feature Engineering"
   ]
  },
  {
   "cell_type": "markdown",
   "id": "263b7866",
   "metadata": {},
   "source": [
    "### Import Libraries"
   ]
  },
  {
   "cell_type": "code",
   "execution_count": 1,
   "id": "63fa37d4",
   "metadata": {},
   "outputs": [],
   "source": [
    "from sklearn.model_selection import train_test_split\n",
    "import pandas as pd\n",
    "import numpy as np\n",
    "import seaborn as sns\n",
    "import matplotlib.pyplot as plt\n",
    "\n",
    "#feature engineering\n",
    "from sklearn.preprocessing import StandardScaler\n",
    "from sklearn.preprocessing import OneHotEncoder\n",
    "from sklearn.feature_extraction.text import TfidfVectorizer\n",
    "from sklearn.compose import ColumnTransformer\n",
    "from imblearn.pipeline import Pipeline\n",
    "\n",
    "#Model Creation\n",
    "from sklearn.linear_model import LogisticRegression\n",
    "from sklearn.ensemble import RandomForestClassifier\n",
    "from sklearn.neighbors import KNeighborsClassifier\n",
    "from sklearn.ensemble import GradientBoostingClassifier\n",
    "\n",
    "#hyperparameter tuning \n",
    "from sklearn.model_selection import GridSearchCV\n",
    "from sklearn.model_selection import RandomizedSearchCV\n",
    "\n",
    "#warnings\n",
    "from warnings import simplefilter\n",
    "\n",
    "#evaluation\n",
    "from sklearn.metrics import confusion_matrix\n",
    "from sklearn.metrics import ConfusionMatrixDisplay\n",
    "from sklearn.metrics import accuracy_score\n",
    "from sklearn.metrics import classification_report\n",
    "from sklearn.metrics import f1_score\n",
    "\n",
    "\n",
    "#class imbalance\n",
    "from imblearn.combine import SMOTETomek\n",
    "from imblearn.over_sampling import SMOTE\n",
    "from imblearn.under_sampling import TomekLinks"
   ]
  },
  {
   "cell_type": "markdown",
   "id": "8566dff8",
   "metadata": {},
   "source": [
    "### Import data"
   ]
  },
  {
   "cell_type": "code",
   "execution_count": 2,
   "id": "e1111c37",
   "metadata": {},
   "outputs": [],
   "source": [
    "final_df = pd.read_csv('data/final_df.csv',index_col = 0)"
   ]
  },
  {
   "cell_type": "code",
   "execution_count": 3,
   "id": "9d296846",
   "metadata": {},
   "outputs": [
    {
     "data": {
      "text/plain": [
       "Season                     int64\n",
       "Week_Number                int64\n",
       "Week_Name                 object\n",
       "Baker                     object\n",
       "Gender                    object\n",
       "Age                        int64\n",
       "Signature_Handshake        int64\n",
       "Technical_Rank             int64\n",
       "Showstopper_Handshake      int64\n",
       "Favorite                 float64\n",
       "Least_Favorite             int64\n",
       "Star_Baker                 int64\n",
       "Eliminated                 int64\n",
       "Winner                     int64\n",
       "signature                 object\n",
       "showstopper               object\n",
       "dtype: object"
      ]
     },
     "execution_count": 3,
     "metadata": {},
     "output_type": "execute_result"
    }
   ],
   "source": [
    "final_df.dtypes"
   ]
  },
  {
   "cell_type": "markdown",
   "id": "e4854d41",
   "metadata": {},
   "source": [
    "### Create a table of winners for future reference"
   ]
  },
  {
   "cell_type": "code",
   "execution_count": 4,
   "id": "1c268d28",
   "metadata": {},
   "outputs": [],
   "source": [
    "Table_of_Winners = final_df.loc[final_df.Winner == 1]"
   ]
  },
  {
   "cell_type": "code",
   "execution_count": 5,
   "id": "82776b77",
   "metadata": {},
   "outputs": [],
   "source": [
    "Table_of_Winners = Table_of_Winners[['Season','Baker']].drop_duplicates()"
   ]
  },
  {
   "cell_type": "code",
   "execution_count": 6,
   "id": "38d15b15",
   "metadata": {},
   "outputs": [],
   "source": [
    "Table_of_Winners.to_csv('data/Table_of_Winners.csv')"
   ]
  },
  {
   "cell_type": "markdown",
   "id": "758e20ca",
   "metadata": {},
   "source": [
    "After understanding my data better:\n",
    "- It seems the winner decided by whoever wins the final star baker. Therefore I will remove Winner from my dataset and set the target feature to Star Baker.\n",
    "- Week_Name is redundant with Week_Number. I'll remove Week_Number\n",
    "- We don't need the names of the bakers.\n",
    "- Lastly, we will remove the name of the season, because older seasons won't show up in future datasets"
   ]
  },
  {
   "cell_type": "markdown",
   "id": "2d41a517",
   "metadata": {},
   "source": [
    "### Drop Week_Number, Baker, Winner"
   ]
  },
  {
   "cell_type": "code",
   "execution_count": 7,
   "id": "16df8736",
   "metadata": {},
   "outputs": [],
   "source": [
    "df = final_df.drop(columns=['Week_Number','Baker','Winner','Season'])"
   ]
  },
  {
   "cell_type": "code",
   "execution_count": 8,
   "id": "3e71e27e",
   "metadata": {
    "scrolled": true
   },
   "outputs": [
    {
     "data": {
      "text/plain": [
       "Week_Name                category\n",
       "Gender                   category\n",
       "Age                         int64\n",
       "Signature_Handshake         int64\n",
       "Technical_Rank              int64\n",
       "Showstopper_Handshake       int64\n",
       "Favorite                  float64\n",
       "Least_Favorite              int64\n",
       "Star_Baker                  int64\n",
       "Eliminated                  int64\n",
       "signature                  object\n",
       "showstopper                object\n",
       "dtype: object"
      ]
     },
     "execution_count": 8,
     "metadata": {},
     "output_type": "execute_result"
    }
   ],
   "source": [
    "df = df.astype({'Week_Name':'category',\n",
    "                       'Gender':'category'})\n",
    "df.dtypes"
   ]
  },
  {
   "cell_type": "code",
   "execution_count": 9,
   "id": "357a772a",
   "metadata": {},
   "outputs": [
    {
     "data": {
      "text/html": [
       "<div>\n",
       "<style scoped>\n",
       "    .dataframe tbody tr th:only-of-type {\n",
       "        vertical-align: middle;\n",
       "    }\n",
       "\n",
       "    .dataframe tbody tr th {\n",
       "        vertical-align: top;\n",
       "    }\n",
       "\n",
       "    .dataframe thead th {\n",
       "        text-align: right;\n",
       "    }\n",
       "</style>\n",
       "<table border=\"1\" class=\"dataframe\">\n",
       "  <thead>\n",
       "    <tr style=\"text-align: right;\">\n",
       "      <th></th>\n",
       "      <th>Week_Name</th>\n",
       "      <th>Gender</th>\n",
       "      <th>Age</th>\n",
       "      <th>Signature_Handshake</th>\n",
       "      <th>Technical_Rank</th>\n",
       "      <th>Showstopper_Handshake</th>\n",
       "      <th>Favorite</th>\n",
       "      <th>Least_Favorite</th>\n",
       "      <th>Star_Baker</th>\n",
       "      <th>Eliminated</th>\n",
       "      <th>signature</th>\n",
       "      <th>showstopper</th>\n",
       "    </tr>\n",
       "  </thead>\n",
       "  <tbody>\n",
       "    <tr>\n",
       "      <th>0</th>\n",
       "      <td>Cake</td>\n",
       "      <td>M</td>\n",
       "      <td>31</td>\n",
       "      <td>0</td>\n",
       "      <td>2</td>\n",
       "      <td>0</td>\n",
       "      <td>0.0</td>\n",
       "      <td>0</td>\n",
       "      <td>0</td>\n",
       "      <td>0</td>\n",
       "      <td>Rhubarb and Custard CupcakesAfter Dinner Cupcakes</td>\n",
       "      <td>Vanilla Sponge with White Chocolate and Raspbe...</td>\n",
       "    </tr>\n",
       "    <tr>\n",
       "      <th>1</th>\n",
       "      <td>Cake</td>\n",
       "      <td>F</td>\n",
       "      <td>31</td>\n",
       "      <td>0</td>\n",
       "      <td>1</td>\n",
       "      <td>0</td>\n",
       "      <td>0.0</td>\n",
       "      <td>0</td>\n",
       "      <td>1</td>\n",
       "      <td>0</td>\n",
       "      <td>Cherry Bakewell Inspired CupcakesGinger Cupcak...</td>\n",
       "      <td>Novelty Farm Cake</td>\n",
       "    </tr>\n",
       "    <tr>\n",
       "      <th>2</th>\n",
       "      <td>Cake</td>\n",
       "      <td>M</td>\n",
       "      <td>40</td>\n",
       "      <td>0</td>\n",
       "      <td>10</td>\n",
       "      <td>0</td>\n",
       "      <td>0.0</td>\n",
       "      <td>0</td>\n",
       "      <td>0</td>\n",
       "      <td>0</td>\n",
       "      <td>Apple and Cinnamon Cupcakes</td>\n",
       "      <td>Unknown</td>\n",
       "    </tr>\n",
       "    <tr>\n",
       "      <th>3</th>\n",
       "      <td>Cake</td>\n",
       "      <td>F</td>\n",
       "      <td>63</td>\n",
       "      <td>0</td>\n",
       "      <td>8</td>\n",
       "      <td>0</td>\n",
       "      <td>0.0</td>\n",
       "      <td>0</td>\n",
       "      <td>0</td>\n",
       "      <td>0</td>\n",
       "      <td>Raspberry and Cream Cupcakes</td>\n",
       "      <td>Chocolate Marble Cakewith Dark and White Choco...</td>\n",
       "    </tr>\n",
       "    <tr>\n",
       "      <th>4</th>\n",
       "      <td>Cake</td>\n",
       "      <td>M</td>\n",
       "      <td>19</td>\n",
       "      <td>0</td>\n",
       "      <td>6</td>\n",
       "      <td>0</td>\n",
       "      <td>0.0</td>\n",
       "      <td>0</td>\n",
       "      <td>0</td>\n",
       "      <td>0</td>\n",
       "      <td>Lemon Meringue CupcakesApple and Cinnamon Cupc...</td>\n",
       "      <td>Unknown</td>\n",
       "    </tr>\n",
       "  </tbody>\n",
       "</table>\n",
       "</div>"
      ],
      "text/plain": [
       "  Week_Name Gender  Age  Signature_Handshake  Technical_Rank  \\\n",
       "0      Cake      M   31                    0               2   \n",
       "1      Cake      F   31                    0               1   \n",
       "2      Cake      M   40                    0              10   \n",
       "3      Cake      F   63                    0               8   \n",
       "4      Cake      M   19                    0               6   \n",
       "\n",
       "   Showstopper_Handshake  Favorite  Least_Favorite  Star_Baker  Eliminated  \\\n",
       "0                      0       0.0               0           0           0   \n",
       "1                      0       0.0               0           1           0   \n",
       "2                      0       0.0               0           0           0   \n",
       "3                      0       0.0               0           0           0   \n",
       "4                      0       0.0               0           0           0   \n",
       "\n",
       "                                           signature  \\\n",
       "0  Rhubarb and Custard CupcakesAfter Dinner Cupcakes   \n",
       "1  Cherry Bakewell Inspired CupcakesGinger Cupcak...   \n",
       "2                        Apple and Cinnamon Cupcakes   \n",
       "3                       Raspberry and Cream Cupcakes   \n",
       "4  Lemon Meringue CupcakesApple and Cinnamon Cupc...   \n",
       "\n",
       "                                         showstopper  \n",
       "0  Vanilla Sponge with White Chocolate and Raspbe...  \n",
       "1                                  Novelty Farm Cake  \n",
       "2                                            Unknown  \n",
       "3  Chocolate Marble Cakewith Dark and White Choco...  \n",
       "4                                            Unknown  "
      ]
     },
     "execution_count": 9,
     "metadata": {},
     "output_type": "execute_result"
    }
   ],
   "source": [
    "df.head()"
   ]
  },
  {
   "cell_type": "markdown",
   "id": "4e3e882a",
   "metadata": {},
   "source": [
    "### Check for Class Imbalance"
   ]
  },
  {
   "cell_type": "code",
   "execution_count": 10,
   "id": "408d93bc",
   "metadata": {},
   "outputs": [
    {
     "data": {
      "text/plain": [
       "0    579\n",
       "1     88\n",
       "Name: Star_Baker, dtype: int64"
      ]
     },
     "execution_count": 10,
     "metadata": {},
     "output_type": "execute_result"
    }
   ],
   "source": [
    "#is our class unbalanced?\n",
    "#we should use SMOTE for class balance\n",
    "df.Star_Baker.value_counts()"
   ]
  },
  {
   "cell_type": "code",
   "execution_count": 11,
   "id": "e4fb7a4c",
   "metadata": {},
   "outputs": [
    {
     "data": {
      "text/plain": [
       "Text(0, -1.3, 'Figure 6; Revealing a high class imbalance within the dataset')"
      ]
     },
     "execution_count": 11,
     "metadata": {},
     "output_type": "execute_result"
    },
    {
     "data": {
      "image/png": "[encoded data removed]",
      "text/plain": [
       "<Figure size 640x480 with 1 Axes>"
      ]
     },
     "metadata": {},
     "output_type": "display_data"
    }
   ],
   "source": [
    "df.Star_Baker.value_counts().plot(kind='pie',labels=['',''],autopct='%.2f')\n",
    "plt.legend(['Not Star Baker','Star Baker'])\n",
    "plt.title('Exploring Class Imbance of Star Baker')\n",
    "text='Figure 6; Revealing a high class imbalance within the dataset'\n",
    "plt.text(0,-1.3,text,ha='center')"
   ]
  },
  {
   "cell_type": "markdown",
   "id": "dd8ebf05",
   "metadata": {},
   "source": [
    "### Dealing with Class Imbalance"
   ]
  },
  {
   "cell_type": "markdown",
   "id": "7bdf9e83",
   "metadata": {},
   "source": [
    "We will use 5 methods to deal with class imbalance\n",
    "1. Do nothing \n",
    "2. set Stratify = y to maintain our class ratios between the train/test/split\n",
    "3. use SMOTE\n",
    "4. use SMOTETomek\n",
    "5. use TomekLinks"
   ]
  },
  {
   "cell_type": "code",
   "execution_count": 12,
   "id": "14ee6c72",
   "metadata": {},
   "outputs": [
    {
     "data": {
      "text/plain": [
       "(667, 12)"
      ]
     },
     "execution_count": 12,
     "metadata": {},
     "output_type": "execute_result"
    }
   ],
   "source": [
    "df.shape"
   ]
  },
  {
   "cell_type": "code",
   "execution_count": 13,
   "id": "35bdf8a1",
   "metadata": {},
   "outputs": [],
   "source": [
    "#establish X and y\n",
    "X = df.drop(columns='Star_Baker')\n",
    "y= df['Star_Baker'].values"
   ]
  },
  {
   "cell_type": "code",
   "execution_count": 15,
   "id": "eb7d2c9d",
   "metadata": {
    "scrolled": false
   },
   "outputs": [
    {
     "name": "stdout",
     "output_type": "stream",
     "text": [
      "Basic LR Model W/O Class Balancing\n",
      "              precision    recall  f1-score   support\n",
      "\n",
      "           0       0.92      0.93      0.92       175\n",
      "           1       0.48      0.42      0.45        26\n",
      "\n",
      "    accuracy                           0.87       201\n",
      "   macro avg       0.70      0.68      0.69       201\n",
      "weighted avg       0.86      0.87      0.86       201\n",
      "\n",
      "--------------------\n",
      "SMOTE TEST\n",
      "              precision    recall  f1-score   support\n",
      "\n",
      "           0       0.95      0.84      0.89       175\n",
      "           1       0.40      0.73      0.52        26\n",
      "\n",
      "    accuracy                           0.83       201\n",
      "   macro avg       0.68      0.79      0.71       201\n",
      "weighted avg       0.88      0.83      0.85       201\n",
      "\n",
      "--------------------\n",
      "SMOTETomek TEST\n",
      "              precision    recall  f1-score   support\n",
      "\n",
      "           0       0.95      0.84      0.89       175\n",
      "           1       0.39      0.69      0.50        26\n",
      "\n",
      "    accuracy                           0.82       201\n",
      "   macro avg       0.67      0.77      0.70       201\n",
      "weighted avg       0.88      0.82      0.84       201\n",
      "\n",
      "--------------------\n",
      "TomekLinks TEST\n",
      "              precision    recall  f1-score   support\n",
      "\n",
      "           0       0.93      0.89      0.91       175\n",
      "           1       0.42      0.54      0.47        26\n",
      "\n",
      "    accuracy                           0.85       201\n",
      "   macro avg       0.68      0.71      0.69       201\n",
      "weighted avg       0.86      0.85      0.85       201\n",
      "\n",
      "\n",
      "\n",
      "Figure 7; Performance of various class resampling technqiues\n"
     ]
    }
   ],
   "source": [
    "# We will not set stratify=y and test moethods 1,3,4 and 5 listed above. \n",
    "X_train, X_test, y_train, y_test = train_test_split(X,y,test_size=.30, random_state=0)\n",
    "\n",
    "#create unique lists for our different transformed columns\n",
    "num_cols = list(X_train.select_dtypes(include='number').columns)\n",
    "cat_cols = list(X_train.select_dtypes(include='category').columns)\n",
    "sig_text = ('signature')\n",
    "show_text = ('showstopper')\n",
    "\n",
    "#add the transformers\n",
    "preprocessor = ColumnTransformer( \n",
    "    transformers = [\n",
    "        \n",
    "        ('num',StandardScaler(),num_cols),                         #scale the numerical values\n",
    "        ('cat',OneHotEncoder(handle_unknown = 'ignore'),cat_cols), #encode the categorical features\n",
    "        ('text_sig',TfidfVectorizer(max_features=50),sig_text),    #freq counts for words\n",
    "        ('text_show',TfidfVectorizer(max_features=50),show_text)   #freq counts for words\n",
    "    ], remainder='passthrough')\n",
    "\n",
    "\n",
    "#fit and transform our data\n",
    "X_train_trans = preprocessor.fit_transform(X_train)\n",
    "X_test_trans = preprocessor.transform(X_test)\n",
    "\n",
    "\n",
    "\n",
    "\n",
    "## SMOTE method \n",
    "s= SMOTE()\n",
    "##SMOTETomek method\n",
    "smt= SMOTETomek()\n",
    "##TomekLinks method\n",
    "tk= TomekLinks()\n",
    "\n",
    "#resample our training data \n",
    "X_res, y_res= s.fit_resample(X_train_trans, y_train)\n",
    "X_res1, y_res1= smt.fit_resample(X_train_trans, y_train)\n",
    "X_res2, y_res2= tk.fit_resample(X_train_trans, y_train)\n",
    "\n",
    "\n",
    "\n",
    "#create our lm model\n",
    "lr_model = LogisticRegression()\n",
    "\n",
    "print(\"Basic LR Model W/O Class Balancing\")\n",
    "lr_model.fit(X_train_trans,y_train)\n",
    "ypred_basic=lr_model.predict(X_test_trans) \n",
    "print(classification_report(y_test,ypred_basic))\n",
    "print('--------------------')\n",
    "# print(\"Stratify\")\n",
    "# print(classification_report(y_test,ypred_strat))\n",
    "# print('--------------------')\n",
    "print(\"SMOTE TEST\")\n",
    "lr_model.fit(X_res, y_res)\n",
    "ypred=lr_model.predict(X_test_trans)\n",
    "print(classification_report(y_test,ypred))\n",
    "print('--------------------')\n",
    "\n",
    "print(\"SMOTETomek TEST\")\n",
    "lr_model.fit(X_res1, y_res1)\n",
    "ypred1=lr_model.predict(X_test_trans)\n",
    "print(classification_report(y_test,ypred1))\n",
    "print('--------------------')\n",
    "print(\"TomekLinks TEST\")\n",
    "lr_model.fit(X_res2, y_res2)\n",
    "ypred2=lr_model.predict(X_test_trans)\n",
    "print(classification_report(y_test,ypred2))\n",
    "print(\"\")\n",
    "print(\"\")\n",
    "print(\"Figure 7; Performance of various class resampling technqiues\")"
   ]
  },
  {
   "cell_type": "code",
   "execution_count": 16,
   "id": "5d35025d",
   "metadata": {},
   "outputs": [
    {
     "name": "stdout",
     "output_type": "stream",
     "text": [
      "--------------------\n",
      "Stratify\n",
      "              precision    recall  f1-score   support\n",
      "\n",
      "           0       0.90      0.95      0.92       174\n",
      "           1       0.47      0.30      0.36        27\n",
      "\n",
      "    accuracy                           0.86       201\n",
      "   macro avg       0.68      0.62      0.64       201\n",
      "weighted avg       0.84      0.86      0.85       201\n",
      "\n"
     ]
    }
   ],
   "source": [
    "# We will now set stratify=y and test method 2 listed above. \n",
    "X_train, X_test, y_train, y_test = train_test_split(X,y,test_size=.30, random_state=0,stratify=y)\n",
    "\n",
    "#create unique lists for our different transformed columns\n",
    "num_cols = list(X_train.select_dtypes(include='number').columns)\n",
    "cat_cols = list(X_train.select_dtypes(include='category').columns)\n",
    "sig_text = ('signature')\n",
    "show_text = ('showstopper')\n",
    "\n",
    "#add the transformers\n",
    "preprocessor = ColumnTransformer( \n",
    "    transformers = [\n",
    "        \n",
    "        ('num',StandardScaler(),num_cols),                         #scale the numerical values\n",
    "        ('cat',OneHotEncoder(handle_unknown = 'ignore'),cat_cols), #encode the categorical features\n",
    "        ('text_sig',TfidfVectorizer(max_features=50),sig_text),    #freq counts for words\n",
    "        ('text_show',TfidfVectorizer(max_features=50),show_text)   #freq counts for words\n",
    "    ], remainder='passthrough')\n",
    "\n",
    "\n",
    "\n",
    "X_train_trans = preprocessor.fit_transform(X_train)\n",
    "X_test_trans = preprocessor.transform(X_test)\n",
    "\n",
    "lr_model_2 = LogisticRegression()\n",
    "\n",
    "lr_model_2.fit(X_train_trans,y_train)\n",
    "\n",
    "ypred_strat=lr_model_2.predict(X_test_trans)\n",
    "print('--------------------')\n",
    "print(\"Stratify\")\n",
    "print(classification_report(y_test,ypred_strat))"
   ]
  },
  {
   "cell_type": "markdown",
   "id": "4a0516eb",
   "metadata": {},
   "source": [
    "Ranking these methods for f1-score since there isn't a big difference in False Positives or False negatives in this model\n",
    "\n",
    "Ranking\n",
    "1. SMOTETomek (0.50 f1)\n",
    "2. SMOTE (0.52 f1)\n",
    "3. TomekLinks (0.47 f1)\n",
    "4. non-stratify (0.45 f1)\n",
    "5. stratify (0.45 f1)\n",
    "\n",
    "####THESE NUMBERS KEEP CHANGING #####"
   ]
  },
  {
   "cell_type": "markdown",
   "id": "01a2634d",
   "metadata": {},
   "source": [
    "# Model Creation"
   ]
  },
  {
   "cell_type": "markdown",
   "id": "09e04899",
   "metadata": {},
   "source": [
    "Now that we know that we want to use SMOTETomke, let's trying subsituting models out to improve our model performance"
   ]
  },
  {
   "cell_type": "markdown",
   "id": "725ba128",
   "metadata": {},
   "source": [
    "## RandomForest"
   ]
  },
  {
   "cell_type": "code",
   "execution_count": 17,
   "id": "f925f2de",
   "metadata": {
    "scrolled": false
   },
   "outputs": [
    {
     "data": {
      "image/png": "[encoded data removed]",
      "text/plain": [
       "<Figure size 640x480 with 2 Axes>"
      ]
     },
     "metadata": {},
     "output_type": "display_data"
    },
    {
     "name": "stdout",
     "output_type": "stream",
     "text": [
      "              precision    recall  f1-score   support\n",
      "\n",
      "           0       0.94      0.92      0.93       174\n",
      "           1       0.53      0.59      0.56        27\n",
      "\n",
      "    accuracy                           0.88       201\n",
      "   macro avg       0.73      0.76      0.74       201\n",
      "weighted avg       0.88      0.88      0.88       201\n",
      "\n",
      "The training score for the random forest model is 1.0     \n",
      "and the testing score for the model is 0.8756218905472637\n"
     ]
    }
   ],
   "source": [
    "#Basic Random Forest with SMOTETomke\n",
    "rf = RandomForestClassifier(random_state = 1, n_jobs=-1)\n",
    "\n",
    "#fit\n",
    "model =rf.fit(X_res1, y_res1)\n",
    "\n",
    "#pred\n",
    "y_pred = model.predict(X_test_trans)\n",
    "\n",
    "#confusion matrix\n",
    "\n",
    "cm = confusion_matrix(y_test,y_pred)\n",
    "disp = ConfusionMatrixDisplay(cm)\n",
    "disp.plot()\n",
    "plt.show()\n",
    "\n",
    "\n",
    "\n",
    "\n",
    "\n",
    "print(classification_report(y_test,y_pred))\n",
    "\n",
    "#scores\n",
    "\n",
    "training_score = (rf.score(X_res1,y_res1))\n",
    "testing_score = (rf.score(X_test_trans, y_test))\n",
    "f1 = f1_score(y_pred, y_test)\n",
    "\n",
    "print(f'The training score for the random forest model is {training_score}\\\n",
    "     \\nand the testing score for the model is {testing_score}')"
   ]
  },
  {
   "cell_type": "markdown",
   "id": "3dfbe0c2",
   "metadata": {},
   "source": [
    "f1 score was raised to 0.67; much better. "
   ]
  },
  {
   "cell_type": "markdown",
   "id": "c2d9c749",
   "metadata": {},
   "source": [
    "### Creating a table to store model outputs"
   ]
  },
  {
   "cell_type": "code",
   "execution_count": 18,
   "id": "f675e04c",
   "metadata": {},
   "outputs": [
    {
     "data": {
      "text/html": [
       "<div>\n",
       "<style scoped>\n",
       "    .dataframe tbody tr th:only-of-type {\n",
       "        vertical-align: middle;\n",
       "    }\n",
       "\n",
       "    .dataframe tbody tr th {\n",
       "        vertical-align: top;\n",
       "    }\n",
       "\n",
       "    .dataframe thead th {\n",
       "        text-align: right;\n",
       "    }\n",
       "</style>\n",
       "<table border=\"1\" class=\"dataframe\">\n",
       "  <thead>\n",
       "    <tr style=\"text-align: right;\">\n",
       "      <th></th>\n",
       "      <th>Random Forest w/o CV</th>\n",
       "    </tr>\n",
       "  </thead>\n",
       "  <tbody>\n",
       "    <tr>\n",
       "      <th>Training</th>\n",
       "      <td>1.000000</td>\n",
       "    </tr>\n",
       "    <tr>\n",
       "      <th>Testing</th>\n",
       "      <td>0.875622</td>\n",
       "    </tr>\n",
       "    <tr>\n",
       "      <th>F1</th>\n",
       "      <td>0.561404</td>\n",
       "    </tr>\n",
       "  </tbody>\n",
       "</table>\n",
       "</div>"
      ],
      "text/plain": [
       "          Random Forest w/o CV\n",
       "Training              1.000000\n",
       "Testing               0.875622\n",
       "F1                    0.561404"
      ]
     },
     "execution_count": 18,
     "metadata": {},
     "output_type": "execute_result"
    }
   ],
   "source": [
    "Model_Data_Frame = pd.DataFrame({\"Random Forest w/o CV\": [training_score,testing_score,f1]})\n",
    "index_name = ['Training','Testing','F1']\n",
    "Model_Data_Frame.index=index_name\n",
    "Model_Data_Frame"
   ]
  },
  {
   "cell_type": "code",
   "execution_count": 19,
   "id": "9fc39a97",
   "metadata": {
    "scrolled": true
   },
   "outputs": [
    {
     "name": "stdout",
     "output_type": "stream",
     "text": [
      "Fitting 3 folds for each of 100 candidates, totalling 300 fits\n"
     ]
    },
    {
     "data": {
      "image/png": "[encoded data removed]",
      "text/plain": [
       "<Figure size 640x480 with 2 Axes>"
      ]
     },
     "metadata": {},
     "output_type": "display_data"
    },
    {
     "name": "stdout",
     "output_type": "stream",
     "text": [
      "              precision    recall  f1-score   support\n",
      "\n",
      "           0       0.94      0.92      0.93       174\n",
      "           1       0.53      0.59      0.56        27\n",
      "\n",
      "    accuracy                           0.88       201\n",
      "   macro avg       0.73      0.76      0.74       201\n",
      "weighted avg       0.88      0.88      0.88       201\n",
      "\n"
     ]
    }
   ],
   "source": [
    "#Random Forest with SMOTETomke with hyperparameter tuning\n",
    "\n",
    "\n",
    "\n",
    "rf = RandomForestClassifier(random_state = 1, n_jobs=-1)\n",
    "\n",
    "\n",
    "#creating HP tuning Grid\n",
    "\n",
    "\n",
    "# Number of trees in random forest\n",
    "n_estimators = [int(x) for x in np.linspace(start = 200, stop = 2000, num = 10)]\n",
    "# Number of features to consider at every split\n",
    "max_features = ['auto', 'sqrt']\n",
    "# Maximum number of levels in tree\n",
    "max_depth = [int(x) for x in np.linspace(10, 110, num = 11)]\n",
    "max_depth.append(None)\n",
    "# Minimum number of samples required to split a node\n",
    "min_samples_split = [2, 5, 10]\n",
    "# Minimum number of samples required at each leaf node\n",
    "min_samples_leaf = [1, 2, 4]\n",
    "# Method of selecting samples for training each tree\n",
    "bootstrap = [True, False]\n",
    "\n",
    "\n",
    "# Create the random grid\n",
    "random_grid = {'n_estimators': n_estimators,\n",
    "               'max_features': max_features,\n",
    "               'max_depth': max_depth,\n",
    "               'min_samples_split': min_samples_split,\n",
    "               'min_samples_leaf': min_samples_leaf,\n",
    "               'bootstrap': bootstrap}\n",
    "\n",
    "\n",
    "\n",
    "\n",
    "\n",
    "# Random search of parameters, using 3 fold cross validation, \n",
    "# search across 100 different combinations, and use all available cores\n",
    "rf_random = RandomizedSearchCV(estimator = rf, param_distributions = random_grid, n_iter = 100, cv = 3, verbose=2, random_state=42, n_jobs = -1)\n",
    "\n",
    "# Fit the random search model\n",
    "rf_random.fit(X_res1, y_res1)\n",
    "\n",
    "#pred\n",
    "y_pred = model.predict(X_test_trans)\n",
    "#confusion matrix\n",
    "cm = confusion_matrix(y_test,y_pred)\n",
    "disp = ConfusionMatrixDisplay(cm)\n",
    "disp.plot()\n",
    "plt.show()\n",
    "\n",
    "#evaluations\n",
    "#report card\n",
    "print(classification_report(y_test,y_pred))\n",
    "\n",
    "#scores\n",
    "training_score = (rf_random.score(X_res1,y_res1))\n",
    "testing_score = (rf_random.score(X_test_trans, y_test))\n",
    "f1 = f1_score(y_test,y_pred)\n",
    "\n",
    "#add results to ur table\n",
    "Model_Data_Frame['Random Forest (w/CV)']=[training_score,testing_score,f1]"
   ]
  },
  {
   "cell_type": "markdown",
   "id": "266e0b0e",
   "metadata": {},
   "source": [
    "## Logistic Regression"
   ]
  },
  {
   "cell_type": "code",
   "execution_count": 20,
   "id": "aad23fdf",
   "metadata": {},
   "outputs": [],
   "source": [
    "#Our original model used a LOGIT model so we can add directly to our table\n",
    "lr_model.fit(X_res1, y_res1)\n",
    "training_score = (lr_model.score(X_res1,y_res1))\n",
    "testing_score = (lr_model.score(X_test_trans, y_test))\n",
    "y_pred=lr_model.predict(X_test_trans)\n",
    "f1 = f1_score(y_test,y_pred)\n",
    "\n",
    "\n",
    "\n",
    "Model_Data_Frame['Logistic Regression (w/o CV)']=[training_score,testing_score,f1]"
   ]
  },
  {
   "cell_type": "code",
   "execution_count": 21,
   "id": "56f5dadd",
   "metadata": {},
   "outputs": [
    {
     "name": "stdout",
     "output_type": "stream",
     "text": [
      "              precision    recall  f1-score   support\n",
      "\n",
      "           0       0.99      0.83      0.90       174\n",
      "           1       0.46      0.93      0.62        27\n",
      "\n",
      "    accuracy                           0.85       201\n",
      "   macro avg       0.72      0.88      0.76       201\n",
      "weighted avg       0.92      0.85      0.86       201\n",
      "\n"
     ]
    }
   ],
   "source": [
    "#LOGIT model with hyperparameter tuning\n",
    "\n",
    "logreg = LogisticRegression()\n",
    "param_grid = {'C':np.arange(.1,1.1,.1)}\n",
    "\n",
    "logreg_cv =GridSearchCV(logreg,param_grid,cv=3)\n",
    "\n",
    "\n",
    "logreg_cv.fit(X_res1,y_res1)\n",
    "y_pred = logreg_cv.predict(X_test_trans)\n",
    "\n",
    "print(classification_report(y_test,y_pred))\n",
    "training_score = (logreg_cv.score(X_res1,y_res1))\n",
    "testing_score = (logreg_cv.score(X_test_trans, y_test))\n",
    "f1 = f1_score(y_pred, y_test)\n",
    "\n",
    "Model_Data_Frame['Logistic Regression (w/ CV)']=[training_score,testing_score,f1]"
   ]
  },
  {
   "cell_type": "code",
   "execution_count": 22,
   "id": "2c807339",
   "metadata": {
    "scrolled": true
   },
   "outputs": [
    {
     "name": "stdout",
     "output_type": "stream",
     "text": [
      "              precision    recall  f1-score   support\n",
      "\n",
      "           0       0.99      0.83      0.90       174\n",
      "           1       0.46      0.93      0.62        27\n",
      "\n",
      "    accuracy                           0.85       201\n",
      "   macro avg       0.72      0.88      0.76       201\n",
      "weighted avg       0.92      0.85      0.86       201\n",
      "\n"
     ]
    }
   ],
   "source": [
    "#LOGIT model with lasso regression\n",
    "\n",
    "logreg_lasso = LogisticRegression(penalty='l1', solver='liblinear')\n",
    "param_grid = {'C':np.arange(.1,1.1,.1)}\n",
    "\n",
    "logreg_cv =GridSearchCV(logreg_lasso,param_grid,cv=3)\n",
    "\n",
    "\n",
    "logreg_cv.fit(X_res1,y_res1)\n",
    "\n",
    "y_pred = logreg_cv.predict(X_test_trans)\n",
    "\n",
    "print(classification_report(y_test,y_pred))\n",
    "training_score = (logreg_cv.score(X_res1,y_res1))\n",
    "testing_score = (logreg_cv.score(X_test_trans, y_test))\n",
    "f1 = f1_score(y_pred, y_test)\n",
    "\n",
    "Model_Data_Frame['Logistic Regression (w/ CV & Lasso)']=[training_score,testing_score,f1]"
   ]
  },
  {
   "cell_type": "code",
   "execution_count": 23,
   "id": "3c119f45",
   "metadata": {},
   "outputs": [
    {
     "data": {
      "text/html": [
       "<div>\n",
       "<style scoped>\n",
       "    .dataframe tbody tr th:only-of-type {\n",
       "        vertical-align: middle;\n",
       "    }\n",
       "\n",
       "    .dataframe tbody tr th {\n",
       "        vertical-align: top;\n",
       "    }\n",
       "\n",
       "    .dataframe thead tr th {\n",
       "        text-align: left;\n",
       "    }\n",
       "</style>\n",
       "<table border=\"1\" class=\"dataframe\">\n",
       "  <thead>\n",
       "    <tr>\n",
       "      <th></th>\n",
       "      <th colspan=\"2\" halign=\"left\">Lasso Regression</th>\n",
       "    </tr>\n",
       "    <tr>\n",
       "      <th></th>\n",
       "      <th>feature</th>\n",
       "      <th>coef</th>\n",
       "    </tr>\n",
       "  </thead>\n",
       "  <tbody>\n",
       "    <tr>\n",
       "      <th>21</th>\n",
       "      <td>cat__Week_Name_Final</td>\n",
       "      <td>5.609034</td>\n",
       "    </tr>\n",
       "    <tr>\n",
       "      <th>127</th>\n",
       "      <td>text_show__pie</td>\n",
       "      <td>2.259469</td>\n",
       "    </tr>\n",
       "    <tr>\n",
       "      <th>45</th>\n",
       "      <td>text_sig__bread</td>\n",
       "      <td>2.174449</td>\n",
       "    </tr>\n",
       "    <tr>\n",
       "      <th>116</th>\n",
       "      <td>text_show__in</td>\n",
       "      <td>1.554069</td>\n",
       "    </tr>\n",
       "    <tr>\n",
       "      <th>122</th>\n",
       "      <td>text_show__mousse</td>\n",
       "      <td>1.519326</td>\n",
       "    </tr>\n",
       "    <tr>\n",
       "      <th>4</th>\n",
       "      <td>num__Favorite</td>\n",
       "      <td>1.385271</td>\n",
       "    </tr>\n",
       "    <tr>\n",
       "      <th>105</th>\n",
       "      <td>text_show__churros</td>\n",
       "      <td>1.334515</td>\n",
       "    </tr>\n",
       "    <tr>\n",
       "      <th>32</th>\n",
       "      <td>cat__Week_Name_Tarts</td>\n",
       "      <td>0.958170</td>\n",
       "    </tr>\n",
       "    <tr>\n",
       "      <th>111</th>\n",
       "      <td>text_show__fruit</td>\n",
       "      <td>0.849336</td>\n",
       "    </tr>\n",
       "    <tr>\n",
       "      <th>25</th>\n",
       "      <td>cat__Week_Name_Pie</td>\n",
       "      <td>0.822499</td>\n",
       "    </tr>\n",
       "    <tr>\n",
       "      <th>118</th>\n",
       "      <td>text_show__lemon</td>\n",
       "      <td>0.603405</td>\n",
       "    </tr>\n",
       "    <tr>\n",
       "      <th>12</th>\n",
       "      <td>cat__Week_Name_Bread</td>\n",
       "      <td>0.500116</td>\n",
       "    </tr>\n",
       "    <tr>\n",
       "      <th>91</th>\n",
       "      <td>text_show__and</td>\n",
       "      <td>0.460087</td>\n",
       "    </tr>\n",
       "    <tr>\n",
       "      <th>18</th>\n",
       "      <td>cat__Week_Name_Dessert</td>\n",
       "      <td>0.443609</td>\n",
       "    </tr>\n",
       "    <tr>\n",
       "      <th>70</th>\n",
       "      <td>text_sig__pie</td>\n",
       "      <td>0.411487</td>\n",
       "    </tr>\n",
       "    <tr>\n",
       "      <th>69</th>\n",
       "      <td>text_sig__pecan</td>\n",
       "      <td>0.371598</td>\n",
       "    </tr>\n",
       "    <tr>\n",
       "      <th>88</th>\n",
       "      <td>text_sig__with</td>\n",
       "      <td>0.211600</td>\n",
       "    </tr>\n",
       "    <tr>\n",
       "      <th>1</th>\n",
       "      <td>num__Signature_Handshake</td>\n",
       "      <td>0.194906</td>\n",
       "    </tr>\n",
       "    <tr>\n",
       "      <th>3</th>\n",
       "      <td>num__Showstopper_Handshake</td>\n",
       "      <td>0.168884</td>\n",
       "    </tr>\n",
       "    <tr>\n",
       "      <th>10</th>\n",
       "      <td>cat__Week_Name_Biscuits</td>\n",
       "      <td>0.137568</td>\n",
       "    </tr>\n",
       "    <tr>\n",
       "      <th>124</th>\n",
       "      <td>text_show__opera</td>\n",
       "      <td>0.091452</td>\n",
       "    </tr>\n",
       "    <tr>\n",
       "      <th>120</th>\n",
       "      <td>text_show__meringue</td>\n",
       "      <td>0.045795</td>\n",
       "    </tr>\n",
       "    <tr>\n",
       "      <th>24</th>\n",
       "      <td>cat__Week_Name_Pastry</td>\n",
       "      <td>0.000165</td>\n",
       "    </tr>\n",
       "  </tbody>\n",
       "</table>\n",
       "</div>"
      ],
      "text/plain": [
       "               Lasso Regression          \n",
       "                        feature      coef\n",
       "21         cat__Week_Name_Final  5.609034\n",
       "127              text_show__pie  2.259469\n",
       "45              text_sig__bread  2.174449\n",
       "116               text_show__in  1.554069\n",
       "122           text_show__mousse  1.519326\n",
       "4                 num__Favorite  1.385271\n",
       "105          text_show__churros  1.334515\n",
       "32         cat__Week_Name_Tarts  0.958170\n",
       "111            text_show__fruit  0.849336\n",
       "25           cat__Week_Name_Pie  0.822499\n",
       "118            text_show__lemon  0.603405\n",
       "12         cat__Week_Name_Bread  0.500116\n",
       "91               text_show__and  0.460087\n",
       "18       cat__Week_Name_Dessert  0.443609\n",
       "70                text_sig__pie  0.411487\n",
       "69              text_sig__pecan  0.371598\n",
       "88               text_sig__with  0.211600\n",
       "1      num__Signature_Handshake  0.194906\n",
       "3    num__Showstopper_Handshake  0.168884\n",
       "10      cat__Week_Name_Biscuits  0.137568\n",
       "124            text_show__opera  0.091452\n",
       "120         text_show__meringue  0.045795\n",
       "24        cat__Week_Name_Pastry  0.000165"
      ]
     },
     "execution_count": 23,
     "metadata": {},
     "output_type": "execute_result"
    }
   ],
   "source": [
    "#print out a list of important coefficients\n",
    "Coef_Table = pd.DataFrame(zip(preprocessor.get_feature_names_out(),\n",
    "                              logreg_cv.best_estimator_.coef_[0])).sort_values(1,ascending=False)\n",
    "Coef_Table.columns=['feature','coef']\n",
    "Coef_Table =Coef_Table.loc[Coef_Table.coef>0]\n",
    "Coef_Table.columns = pd.MultiIndex.from_product([[\"Lasso Regression\"], Coef_Table.columns])\n",
    "Coef_Table"
   ]
  },
  {
   "cell_type": "markdown",
   "id": "5a2b7bdc",
   "metadata": {},
   "source": [
    "You can see when we use a lasso regression, that making it to the finals is the most important factor for winning star baker. When in doubt cook with meringue and lemon and do well during Tarts week"
   ]
  },
  {
   "cell_type": "code",
   "execution_count": 24,
   "id": "94f15c2d",
   "metadata": {
    "scrolled": false
   },
   "outputs": [
    {
     "name": "stderr",
     "output_type": "stream",
     "text": [
      "/Users/matt/opt/anaconda3/lib/python3.9/site-packages/sklearn/utils/deprecation.py:103: FutureWarning: The `grid_scores_` attribute is deprecated in version 1.0 in favor of `cv_results_` and will be removed in version 1.2.\n",
      "  warnings.warn(msg, category=FutureWarning)\n"
     ]
    },
    {
     "data": {
      "text/plain": [
       "Text(20, 0.1, 'Figure 9; Determining the ideal number of features')"
      ]
     },
     "execution_count": 24,
     "metadata": {},
     "output_type": "execute_result"
    },
    {
     "data": {
      "image/png": "[encoded data removed]",
      "text/plain": [
       "<Figure size 640x480 with 1 Axes>"
      ]
     },
     "metadata": {},
     "output_type": "display_data"
    }
   ],
   "source": [
    "#Trying feature reduction with reductive feature elimination and our logit model\n",
    "from sklearn.feature_selection import RFECV\n",
    "selector = RFECV(lr_model, step=1, cv=3,\n",
    "              scoring='f1')\n",
    "\n",
    "selector.fit(X_res1,y_res1)\n",
    "\n",
    "plt.plot(range(len(selector.grid_scores_)),selector.grid_scores_)\n",
    "plt.title('Number of features and F1 Scores')\n",
    "plt.xlabel(\"# features\")\n",
    "plt.ylabel('f1 score')\n",
    "plt.text(20,.1,'Figure 9; Determining the ideal number of features', ha='center')"
   ]
  },
  {
   "cell_type": "markdown",
   "id": "adfbbddb",
   "metadata": {},
   "source": [
    "Going with n_features as 20"
   ]
  },
  {
   "cell_type": "code",
   "execution_count": 25,
   "id": "79b3f27f",
   "metadata": {},
   "outputs": [
    {
     "data": {
      "text/plain": [
       "RFE(estimator=LogisticRegression(), n_features_to_select=20)"
      ]
     },
     "execution_count": 25,
     "metadata": {},
     "output_type": "execute_result"
    }
   ],
   "source": [
    "from sklearn.feature_selection import RFE\n",
    "\n",
    "selector = RFE(lr_model, n_features_to_select=20)\n",
    "selector.fit(X_res1,y_res1)\n"
   ]
  },
  {
   "cell_type": "code",
   "execution_count": 26,
   "id": "85ec3806",
   "metadata": {},
   "outputs": [
    {
     "data": {
      "text/html": [
       "<div>\n",
       "<style scoped>\n",
       "    .dataframe tbody tr th:only-of-type {\n",
       "        vertical-align: middle;\n",
       "    }\n",
       "\n",
       "    .dataframe tbody tr th {\n",
       "        vertical-align: top;\n",
       "    }\n",
       "\n",
       "    .dataframe thead tr th {\n",
       "        text-align: left;\n",
       "    }\n",
       "</style>\n",
       "<table border=\"1\" class=\"dataframe\">\n",
       "  <thead>\n",
       "    <tr>\n",
       "      <th></th>\n",
       "      <th colspan=\"2\" halign=\"left\">RFE</th>\n",
       "    </tr>\n",
       "    <tr>\n",
       "      <th></th>\n",
       "      <th>Features</th>\n",
       "      <th>Coefs</th>\n",
       "    </tr>\n",
       "  </thead>\n",
       "  <tbody>\n",
       "    <tr>\n",
       "      <th>21</th>\n",
       "      <td>cat__Week_Name_Final</td>\n",
       "      <td>3.253155</td>\n",
       "    </tr>\n",
       "    <tr>\n",
       "      <th>45</th>\n",
       "      <td>text_sig__bread</td>\n",
       "      <td>1.728038</td>\n",
       "    </tr>\n",
       "    <tr>\n",
       "      <th>127</th>\n",
       "      <td>text_show__pie</td>\n",
       "      <td>1.350443</td>\n",
       "    </tr>\n",
       "    <tr>\n",
       "      <th>4</th>\n",
       "      <td>num__Favorite</td>\n",
       "      <td>1.310379</td>\n",
       "    </tr>\n",
       "    <tr>\n",
       "      <th>116</th>\n",
       "      <td>text_show__in</td>\n",
       "      <td>1.207877</td>\n",
       "    </tr>\n",
       "    <tr>\n",
       "      <th>122</th>\n",
       "      <td>text_show__mousse</td>\n",
       "      <td>1.183517</td>\n",
       "    </tr>\n",
       "  </tbody>\n",
       "</table>\n",
       "</div>"
      ],
      "text/plain": [
       "                      RFE          \n",
       "                 Features     Coefs\n",
       "21   cat__Week_Name_Final  3.253155\n",
       "45        text_sig__bread  1.728038\n",
       "127        text_show__pie  1.350443\n",
       "4           num__Favorite  1.310379\n",
       "116         text_show__in  1.207877\n",
       "122     text_show__mousse  1.183517"
      ]
     },
     "execution_count": 26,
     "metadata": {},
     "output_type": "execute_result"
    }
   ],
   "source": [
    "RFE_df = pd.DataFrame(preprocessor.get_feature_names_out(),selector.ranking_)\n",
    "RFE_df.reset_index(inplace=True)\n",
    "RFE_df = pd.concat([RFE_df,pd.DataFrame(selector.estimator.coef_[0])],axis=1)\n",
    "RFE_df.columns=['Rank','Features','Coefs']\n",
    "RFE_df =RFE_df.loc[RFE_df.Rank==1][['Features','Coefs']]\n",
    "RFE_df = RFE_df.loc[RFE_df.Coefs>0].sort_values('Coefs',ascending=False)\n",
    "RFE_df.columns = pd.MultiIndex.from_product([[\"RFE\"], RFE_df.columns])\n",
    "RFE_df"
   ]
  },
  {
   "cell_type": "code",
   "execution_count": 27,
   "id": "6178c614",
   "metadata": {
    "scrolled": false
   },
   "outputs": [
    {
     "data": {
      "text/html": [
       "<div>\n",
       "<style scoped>\n",
       "    .dataframe tbody tr th:only-of-type {\n",
       "        vertical-align: middle;\n",
       "    }\n",
       "\n",
       "    .dataframe tbody tr th {\n",
       "        vertical-align: top;\n",
       "    }\n",
       "\n",
       "    .dataframe thead tr th {\n",
       "        text-align: left;\n",
       "    }\n",
       "</style>\n",
       "<table border=\"1\" class=\"dataframe\">\n",
       "  <thead>\n",
       "    <tr>\n",
       "      <th></th>\n",
       "      <th colspan=\"2\" halign=\"left\">RFE</th>\n",
       "      <th colspan=\"2\" halign=\"left\">Lasso Regression</th>\n",
       "    </tr>\n",
       "    <tr>\n",
       "      <th></th>\n",
       "      <th>Features</th>\n",
       "      <th>Coefs</th>\n",
       "      <th>feature</th>\n",
       "      <th>coef</th>\n",
       "    </tr>\n",
       "  </thead>\n",
       "  <tbody>\n",
       "    <tr>\n",
       "      <th>21</th>\n",
       "      <td>cat__Week_Name_Final</td>\n",
       "      <td>3.253155</td>\n",
       "      <td>cat__Week_Name_Final</td>\n",
       "      <td>5.609034</td>\n",
       "    </tr>\n",
       "    <tr>\n",
       "      <th>45</th>\n",
       "      <td>text_sig__bread</td>\n",
       "      <td>1.728038</td>\n",
       "      <td>text_sig__bread</td>\n",
       "      <td>2.174449</td>\n",
       "    </tr>\n",
       "    <tr>\n",
       "      <th>127</th>\n",
       "      <td>text_show__pie</td>\n",
       "      <td>1.350443</td>\n",
       "      <td>text_show__pie</td>\n",
       "      <td>2.259469</td>\n",
       "    </tr>\n",
       "    <tr>\n",
       "      <th>4</th>\n",
       "      <td>num__Favorite</td>\n",
       "      <td>1.310379</td>\n",
       "      <td>num__Favorite</td>\n",
       "      <td>1.385271</td>\n",
       "    </tr>\n",
       "    <tr>\n",
       "      <th>116</th>\n",
       "      <td>text_show__in</td>\n",
       "      <td>1.207877</td>\n",
       "      <td>text_show__in</td>\n",
       "      <td>1.554069</td>\n",
       "    </tr>\n",
       "    <tr>\n",
       "      <th>122</th>\n",
       "      <td>text_show__mousse</td>\n",
       "      <td>1.183517</td>\n",
       "      <td>text_show__mousse</td>\n",
       "      <td>1.519326</td>\n",
       "    </tr>\n",
       "    <tr>\n",
       "      <th>105</th>\n",
       "      <td>NaN</td>\n",
       "      <td>NaN</td>\n",
       "      <td>text_show__churros</td>\n",
       "      <td>1.334515</td>\n",
       "    </tr>\n",
       "    <tr>\n",
       "      <th>32</th>\n",
       "      <td>NaN</td>\n",
       "      <td>NaN</td>\n",
       "      <td>cat__Week_Name_Tarts</td>\n",
       "      <td>0.958170</td>\n",
       "    </tr>\n",
       "    <tr>\n",
       "      <th>111</th>\n",
       "      <td>NaN</td>\n",
       "      <td>NaN</td>\n",
       "      <td>text_show__fruit</td>\n",
       "      <td>0.849336</td>\n",
       "    </tr>\n",
       "    <tr>\n",
       "      <th>25</th>\n",
       "      <td>NaN</td>\n",
       "      <td>NaN</td>\n",
       "      <td>cat__Week_Name_Pie</td>\n",
       "      <td>0.822499</td>\n",
       "    </tr>\n",
       "    <tr>\n",
       "      <th>118</th>\n",
       "      <td>NaN</td>\n",
       "      <td>NaN</td>\n",
       "      <td>text_show__lemon</td>\n",
       "      <td>0.603405</td>\n",
       "    </tr>\n",
       "    <tr>\n",
       "      <th>12</th>\n",
       "      <td>NaN</td>\n",
       "      <td>NaN</td>\n",
       "      <td>cat__Week_Name_Bread</td>\n",
       "      <td>0.500116</td>\n",
       "    </tr>\n",
       "    <tr>\n",
       "      <th>91</th>\n",
       "      <td>NaN</td>\n",
       "      <td>NaN</td>\n",
       "      <td>text_show__and</td>\n",
       "      <td>0.460087</td>\n",
       "    </tr>\n",
       "    <tr>\n",
       "      <th>18</th>\n",
       "      <td>NaN</td>\n",
       "      <td>NaN</td>\n",
       "      <td>cat__Week_Name_Dessert</td>\n",
       "      <td>0.443609</td>\n",
       "    </tr>\n",
       "    <tr>\n",
       "      <th>70</th>\n",
       "      <td>NaN</td>\n",
       "      <td>NaN</td>\n",
       "      <td>text_sig__pie</td>\n",
       "      <td>0.411487</td>\n",
       "    </tr>\n",
       "    <tr>\n",
       "      <th>69</th>\n",
       "      <td>NaN</td>\n",
       "      <td>NaN</td>\n",
       "      <td>text_sig__pecan</td>\n",
       "      <td>0.371598</td>\n",
       "    </tr>\n",
       "    <tr>\n",
       "      <th>88</th>\n",
       "      <td>NaN</td>\n",
       "      <td>NaN</td>\n",
       "      <td>text_sig__with</td>\n",
       "      <td>0.211600</td>\n",
       "    </tr>\n",
       "    <tr>\n",
       "      <th>1</th>\n",
       "      <td>NaN</td>\n",
       "      <td>NaN</td>\n",
       "      <td>num__Signature_Handshake</td>\n",
       "      <td>0.194906</td>\n",
       "    </tr>\n",
       "    <tr>\n",
       "      <th>3</th>\n",
       "      <td>NaN</td>\n",
       "      <td>NaN</td>\n",
       "      <td>num__Showstopper_Handshake</td>\n",
       "      <td>0.168884</td>\n",
       "    </tr>\n",
       "    <tr>\n",
       "      <th>10</th>\n",
       "      <td>NaN</td>\n",
       "      <td>NaN</td>\n",
       "      <td>cat__Week_Name_Biscuits</td>\n",
       "      <td>0.137568</td>\n",
       "    </tr>\n",
       "    <tr>\n",
       "      <th>124</th>\n",
       "      <td>NaN</td>\n",
       "      <td>NaN</td>\n",
       "      <td>text_show__opera</td>\n",
       "      <td>0.091452</td>\n",
       "    </tr>\n",
       "    <tr>\n",
       "      <th>120</th>\n",
       "      <td>NaN</td>\n",
       "      <td>NaN</td>\n",
       "      <td>text_show__meringue</td>\n",
       "      <td>0.045795</td>\n",
       "    </tr>\n",
       "    <tr>\n",
       "      <th>24</th>\n",
       "      <td>NaN</td>\n",
       "      <td>NaN</td>\n",
       "      <td>cat__Week_Name_Pastry</td>\n",
       "      <td>0.000165</td>\n",
       "    </tr>\n",
       "  </tbody>\n",
       "</table>\n",
       "</div>"
      ],
      "text/plain": [
       "                      RFE                      Lasso Regression          \n",
       "                 Features     Coefs                     feature      coef\n",
       "21   cat__Week_Name_Final  3.253155        cat__Week_Name_Final  5.609034\n",
       "45        text_sig__bread  1.728038             text_sig__bread  2.174449\n",
       "127        text_show__pie  1.350443              text_show__pie  2.259469\n",
       "4           num__Favorite  1.310379               num__Favorite  1.385271\n",
       "116         text_show__in  1.207877               text_show__in  1.554069\n",
       "122     text_show__mousse  1.183517           text_show__mousse  1.519326\n",
       "105                   NaN       NaN          text_show__churros  1.334515\n",
       "32                    NaN       NaN        cat__Week_Name_Tarts  0.958170\n",
       "111                   NaN       NaN            text_show__fruit  0.849336\n",
       "25                    NaN       NaN          cat__Week_Name_Pie  0.822499\n",
       "118                   NaN       NaN            text_show__lemon  0.603405\n",
       "12                    NaN       NaN        cat__Week_Name_Bread  0.500116\n",
       "91                    NaN       NaN              text_show__and  0.460087\n",
       "18                    NaN       NaN      cat__Week_Name_Dessert  0.443609\n",
       "70                    NaN       NaN               text_sig__pie  0.411487\n",
       "69                    NaN       NaN             text_sig__pecan  0.371598\n",
       "88                    NaN       NaN              text_sig__with  0.211600\n",
       "1                     NaN       NaN    num__Signature_Handshake  0.194906\n",
       "3                     NaN       NaN  num__Showstopper_Handshake  0.168884\n",
       "10                    NaN       NaN     cat__Week_Name_Biscuits  0.137568\n",
       "124                   NaN       NaN            text_show__opera  0.091452\n",
       "120                   NaN       NaN         text_show__meringue  0.045795\n",
       "24                    NaN       NaN       cat__Week_Name_Pastry  0.000165"
      ]
     },
     "execution_count": 27,
     "metadata": {},
     "output_type": "execute_result"
    }
   ],
   "source": [
    "#combine the tables\n",
    "pd.concat([RFE_df,Coef_Table],axis=1)"
   ]
  },
  {
   "cell_type": "markdown",
   "id": "9ac83f83",
   "metadata": {},
   "source": [
    "Here is a list of the features that will most likely predict a star baker. While being in the finals makes sense, some valuable insight derrived from this analysis is that you should bake recipes with the word \"bread\" during the signature challenge, and \"pie\" during the showstopper challenge. Also, doing well during Tarts week is very important and being labeled a favorite \"prior\" to the showstopper challenge is a big deal. Aka, its more important to do well on Day 1 than Day 2."
   ]
  },
  {
   "cell_type": "markdown",
   "id": "eff7f133",
   "metadata": {},
   "source": [
    "## Gradient Boosting"
   ]
  },
  {
   "cell_type": "code",
   "execution_count": 28,
   "id": "7c28f5bd",
   "metadata": {},
   "outputs": [],
   "source": [
    "#Gradient Boosting w/o CV\n",
    "\n",
    "gb = GradientBoostingClassifier()\n",
    "\n",
    "gb.fit(X_res1,y_res1)\n",
    "y_pred = gb.predict(X_test_trans)\n",
    "\n",
    "training =gb.score(X_res1,y_res1)\n",
    "testing =gb.score(X_test_trans, y_test)\n",
    "\n",
    "\n",
    "f1=f1_score(y_test,y_pred)\n",
    "\n",
    "Model_Data_Frame['Gradient Boosting (w/CV)']=[training,testing,f1]"
   ]
  },
  {
   "cell_type": "code",
   "execution_count": 29,
   "id": "e1481c39",
   "metadata": {},
   "outputs": [],
   "source": [
    "#Gradient Boosting with CV\n",
    "\n",
    "#params\n",
    "learning_rate = [0.05, 0.1, 0.25, 0.5, 0.75, 1]\n",
    "n_estimators = [18,19,20,21,22]\n",
    "max_depth = [1,2,3]\n",
    "params = ({'learning_rate': learning_rate,\n",
    "          'n_estimators' : n_estimators,\n",
    "          'max_depth': max_depth})\n",
    "\n",
    "#model\n",
    "gb = GradientBoostingClassifier()\n",
    "\n",
    "cv = GridSearchCV(gb,params, cv=5)\n",
    "\n",
    "#fit/transform\n",
    "cv.fit(X_res1,y_res1)\n",
    "\n",
    "y_pred = cv.predict(X_test_trans)\n",
    "\n",
    "f1=f1_score(y_test,y_pred)\n",
    "\n",
    "training =cv.score(X_res1,y_res1)\n",
    "testing =cv.score(X_test_trans, y_test)\n",
    "\n",
    "Model_Data_Frame['Gradient Boosting (w/CV)']=[training,testing,f1]"
   ]
  },
  {
   "cell_type": "markdown",
   "id": "7df4d195",
   "metadata": {},
   "source": [
    "### KNN"
   ]
  },
  {
   "cell_type": "code",
   "execution_count": 30,
   "id": "6ffd9d38",
   "metadata": {},
   "outputs": [],
   "source": [
    "simplefilter(action='ignore', category=FutureWarning) # to deal with annoying future warning"
   ]
  },
  {
   "cell_type": "code",
   "execution_count": 31,
   "id": "4f1f2d3d",
   "metadata": {},
   "outputs": [],
   "source": [
    "#KNN model w/o CV\n",
    "\n",
    "knn = KNeighborsClassifier()\n",
    "\n",
    "knn.fit(X_res1,y_res1)\n",
    "\n",
    "\n",
    "y_pred = knn.predict(X_test_trans)\n",
    "\n",
    "f1=f1_score(y_test,y_pred)\n",
    "\n",
    "\n",
    "\n",
    "training =knn.score(X_res1,y_res1)\n",
    "testing =knn.score(X_test_trans, y_test)\n",
    "\n",
    "\n",
    "Model_Data_Frame['KNN (w/o CV)']=[training,testing,f1]"
   ]
  },
  {
   "cell_type": "code",
   "execution_count": 32,
   "id": "c16b108a",
   "metadata": {
    "scrolled": false
   },
   "outputs": [
    {
     "data": {
      "image/png": "[encoded data removed]",
      "text/plain": [
       "<Figure size 640x480 with 2 Axes>"
      ]
     },
     "metadata": {},
     "output_type": "display_data"
    }
   ],
   "source": [
    "#KNN model w/ CV\n",
    "\n",
    "#param\n",
    "param_grid = {'n_neighbors':np.arange(1,50)}\n",
    "\n",
    "#model\n",
    "knn = KNeighborsClassifier()\n",
    "knn_cv= GridSearchCV(knn,param_grid,cv=5)\n",
    "\n",
    "#fit\n",
    "knn_cv.fit(X_res1,y_res1)\n",
    "y_pred = knn_cv.predict(X_test_trans)\n",
    "\n",
    "f1=f1_score(y_test,y_pred)\n",
    "\n",
    "\n",
    "\n",
    "training =knn_cv.score(X_res1,y_res1)\n",
    "testing =knn_cv.score(X_test_trans, y_test)\n",
    "\n",
    "\n",
    "cm = confusion_matrix(y_test,y_pred)\n",
    "disp = ConfusionMatrixDisplay(cm)\n",
    "disp.plot()\n",
    "txt='Figure 8; Confusion Matrix for the KNN Model'\n",
    "plt.text(.5,2,txt,ha='center')\n",
    "plt.title(\"KNN Confusion Matrix\")\n",
    "plt.show()\n",
    "\n",
    "\n"
   ]
  },
  {
   "cell_type": "code",
   "execution_count": 33,
   "id": "e417401b",
   "metadata": {},
   "outputs": [
    {
     "name": "stdout",
     "output_type": "stream",
     "text": [
      "              precision    recall  f1-score   support\n",
      "\n",
      "           0       0.97      0.91      0.94       174\n",
      "           1       0.58      0.81      0.68        27\n",
      "\n",
      "    accuracy                           0.90       201\n",
      "   macro avg       0.77      0.86      0.81       201\n",
      "weighted avg       0.92      0.90      0.90       201\n",
      "\n"
     ]
    }
   ],
   "source": [
    "print(classification_report(y_test,y_pred))\n",
    "Model_Data_Frame['KNN (w/CV)']=[training,testing,f1]"
   ]
  },
  {
   "cell_type": "code",
   "execution_count": 34,
   "id": "f3d08f6a",
   "metadata": {},
   "outputs": [
    {
     "data": {
      "text/html": [
       "<div>\n",
       "<style scoped>\n",
       "    .dataframe tbody tr th:only-of-type {\n",
       "        vertical-align: middle;\n",
       "    }\n",
       "\n",
       "    .dataframe tbody tr th {\n",
       "        vertical-align: top;\n",
       "    }\n",
       "\n",
       "    .dataframe thead th {\n",
       "        text-align: right;\n",
       "    }\n",
       "</style>\n",
       "<table border=\"1\" class=\"dataframe\">\n",
       "  <thead>\n",
       "    <tr style=\"text-align: right;\">\n",
       "      <th></th>\n",
       "      <th>Random Forest w/o CV</th>\n",
       "      <th>Random Forest (w/CV)</th>\n",
       "      <th>Logistic Regression (w/o CV)</th>\n",
       "      <th>Logistic Regression (w/ CV)</th>\n",
       "      <th>Logistic Regression (w/ CV &amp; Lasso)</th>\n",
       "      <th>Gradient Boosting (w/CV)</th>\n",
       "      <th>KNN (w/o CV)</th>\n",
       "      <th>KNN (w/CV)</th>\n",
       "    </tr>\n",
       "  </thead>\n",
       "  <tbody>\n",
       "    <tr>\n",
       "      <th>Training</th>\n",
       "      <td>1.000000</td>\n",
       "      <td>0.996287</td>\n",
       "      <td>0.929455</td>\n",
       "      <td>0.929455</td>\n",
       "      <td>0.926980</td>\n",
       "      <td>0.965347</td>\n",
       "      <td>0.897277</td>\n",
       "      <td>1.000000</td>\n",
       "    </tr>\n",
       "    <tr>\n",
       "      <th>Testing</th>\n",
       "      <td>0.875622</td>\n",
       "      <td>0.885572</td>\n",
       "      <td>0.845771</td>\n",
       "      <td>0.845771</td>\n",
       "      <td>0.845771</td>\n",
       "      <td>0.850746</td>\n",
       "      <td>0.796020</td>\n",
       "      <td>0.895522</td>\n",
       "    </tr>\n",
       "    <tr>\n",
       "      <th>F1</th>\n",
       "      <td>0.561404</td>\n",
       "      <td>0.561404</td>\n",
       "      <td>0.617284</td>\n",
       "      <td>0.617284</td>\n",
       "      <td>0.617284</td>\n",
       "      <td>0.605263</td>\n",
       "      <td>0.549451</td>\n",
       "      <td>0.676923</td>\n",
       "    </tr>\n",
       "    <tr>\n",
       "      <th>Variance</th>\n",
       "      <td>0.124378</td>\n",
       "      <td>0.110715</td>\n",
       "      <td>0.083684</td>\n",
       "      <td>0.083684</td>\n",
       "      <td>0.081209</td>\n",
       "      <td>0.114600</td>\n",
       "      <td>0.101257</td>\n",
       "      <td>0.104478</td>\n",
       "    </tr>\n",
       "  </tbody>\n",
       "</table>\n",
       "</div>"
      ],
      "text/plain": [
       "          Random Forest w/o CV  Random Forest (w/CV)  \\\n",
       "Training              1.000000              0.996287   \n",
       "Testing               0.875622              0.885572   \n",
       "F1                    0.561404              0.561404   \n",
       "Variance              0.124378              0.110715   \n",
       "\n",
       "          Logistic Regression (w/o CV)  Logistic Regression (w/ CV)  \\\n",
       "Training                      0.929455                     0.929455   \n",
       "Testing                       0.845771                     0.845771   \n",
       "F1                            0.617284                     0.617284   \n",
       "Variance                      0.083684                     0.083684   \n",
       "\n",
       "          Logistic Regression (w/ CV & Lasso)  Gradient Boosting (w/CV)  \\\n",
       "Training                             0.926980                  0.965347   \n",
       "Testing                              0.845771                  0.850746   \n",
       "F1                                   0.617284                  0.605263   \n",
       "Variance                             0.081209                  0.114600   \n",
       "\n",
       "          KNN (w/o CV)  KNN (w/CV)  \n",
       "Training      0.897277    1.000000  \n",
       "Testing       0.796020    0.895522  \n",
       "F1            0.549451    0.676923  \n",
       "Variance      0.101257    0.104478  "
      ]
     },
     "execution_count": 34,
     "metadata": {},
     "output_type": "execute_result"
    }
   ],
   "source": [
    "#Table of models\n",
    "Model_Data_Frame.loc['Variance',:] = Model_Data_Frame.loc['Training',:] - Model_Data_Frame.loc['Testing',:]\n",
    "Model_Data_Frame"
   ]
  },
  {
   "cell_type": "markdown",
   "id": "0c9831e2",
   "metadata": {},
   "source": [
    "The KNN model with CV Shows the largest F1 score (0.68) and the lowest variance between training and testing data with 0.1"
   ]
  },
  {
   "cell_type": "code",
   "execution_count": null,
   "id": "20fdf9d0",
   "metadata": {},
   "outputs": [],
   "source": []
  }
 ],
 "metadata": {
  "kernelspec": {
   "display_name": "Python 3 (ipykernel)",
   "language": "python",
   "name": "python3"
  },
  "language_info": {
   "codemirror_mode": {
    "name": "ipython",
    "version": 3
   },
   "file_extension": ".py",
   "mimetype": "text/x-python",
   "name": "python",
   "nbconvert_exporter": "python",
   "pygments_lexer": "ipython3",
   "version": "3.9.13"
  }
 },
 "nbformat": 4,
 "nbformat_minor": 5
}
