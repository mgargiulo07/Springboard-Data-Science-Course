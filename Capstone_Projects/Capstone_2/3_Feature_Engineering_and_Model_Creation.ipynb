{
 "cells": [
  {
   "cell_type": "markdown",
   "id": "789dca74",
   "metadata": {},
   "source": [
    "# Feature Engineering"
   ]
  },
  {
   "cell_type": "markdown",
   "id": "263b7866",
   "metadata": {},
   "source": [
    "### Import Libraries"
   ]
  },
  {
   "cell_type": "code",
   "execution_count": 73,
   "id": "63fa37d4",
   "metadata": {},
   "outputs": [],
   "source": [
    "from sklearn.model_selection import train_test_split\n",
    "import pandas as pd\n",
    "import numpy as np\n",
    "import seaborn as sns\n",
    "import matplotlib.pyplot as plt\n",
    "\n",
    "#feature engineering\n",
    "from sklearn.preprocessing import StandardScaler\n",
    "from sklearn.preprocessing import OneHotEncoder\n",
    "from sklearn.feature_extraction.text import TfidfVectorizer\n",
    "from sklearn.compose import ColumnTransformer\n",
    "\n",
    "#Model Creation\n",
    "from sklearn.linear_model import LogisticRegression\n",
    "from sklearn.ensemble import RandomForestClassifier\n",
    "from sklearn.metrics import confusion_matrix\n",
    "from sklearn.metrics import accuracy_score\n",
    "from sklearn.metrics import classification_report\n",
    "from sklearn.linear_model import LogisticRegression\n",
    "from sklearn.ensemble import GradientBoostingClassifier\n",
    "from sklearn.model_selection import GridSearchCV\n",
    "from sklearn.neighbors import KNeighborsClassifier\n",
    "from warnings import simplefilter"
   ]
  },
  {
   "cell_type": "markdown",
   "id": "8566dff8",
   "metadata": {},
   "source": [
    "### Import data"
   ]
  },
  {
   "cell_type": "code",
   "execution_count": 32,
   "id": "e1111c37",
   "metadata": {},
   "outputs": [],
   "source": [
    "final_df = pd.read_csv('data/final_df.csv',index_col = 0)"
   ]
  },
  {
   "cell_type": "code",
   "execution_count": 33,
   "id": "9d296846",
   "metadata": {},
   "outputs": [
    {
     "data": {
      "text/plain": [
       "Season                     int64\n",
       "Week_Number                int64\n",
       "Week_Name                 object\n",
       "Baker                     object\n",
       "Gender                    object\n",
       "Age                        int64\n",
       "Signature_Handshake        int64\n",
       "Technical_Rank             int64\n",
       "Showstopper_Handshake      int64\n",
       "Favorite                 float64\n",
       "Least_Favorite             int64\n",
       "Star_Baker                 int64\n",
       "Eliminated                 int64\n",
       "Winner                     int64\n",
       "signature                 object\n",
       "showstopper               object\n",
       "dtype: object"
      ]
     },
     "execution_count": 33,
     "metadata": {},
     "output_type": "execute_result"
    }
   ],
   "source": [
    "final_df.dtypes"
   ]
  },
  {
   "cell_type": "markdown",
   "id": "e4854d41",
   "metadata": {},
   "source": [
    "### Create a table of winners for future reference"
   ]
  },
  {
   "cell_type": "code",
   "execution_count": 24,
   "id": "1c268d28",
   "metadata": {},
   "outputs": [],
   "source": [
    "Table_of_Winners = final_df.loc[final_df.Winner == 1]"
   ]
  },
  {
   "cell_type": "code",
   "execution_count": 29,
   "id": "82776b77",
   "metadata": {},
   "outputs": [],
   "source": [
    "Table_of_Winners = Table_of_Winners[['Season','Baker']].drop_duplicates()"
   ]
  },
  {
   "cell_type": "code",
   "execution_count": 31,
   "id": "38d15b15",
   "metadata": {},
   "outputs": [],
   "source": [
    "Table_of_Winners.to_csv('data/Table_of_Winners.csv')"
   ]
  },
  {
   "cell_type": "markdown",
   "id": "758e20ca",
   "metadata": {},
   "source": [
    "After understanding my data better:\n",
    "- It seems the winner decided by whoever wins the final star baker. Therefore I will remove Winner from my dataset and set the target feature to Star Baker.\n",
    "- Week_Name is redundant with Week_Number. I'll remove Week_Number\n",
    "- We don't need the names of the bakers."
   ]
  },
  {
   "cell_type": "markdown",
   "id": "2d41a517",
   "metadata": {},
   "source": [
    "### Drop Week_Number, Baker, Winner"
   ]
  },
  {
   "cell_type": "code",
   "execution_count": 35,
   "id": "16df8736",
   "metadata": {},
   "outputs": [],
   "source": [
    "df = final_df.drop(columns=['Week_Number','Baker','Winner'])"
   ]
  },
  {
   "cell_type": "code",
   "execution_count": 53,
   "id": "3e71e27e",
   "metadata": {},
   "outputs": [
    {
     "data": {
      "text/plain": [
       "Season                   category\n",
       "Week_Name                category\n",
       "Gender                   category\n",
       "Age                         int64\n",
       "Signature_Handshake         int64\n",
       "Technical_Rank              int64\n",
       "Showstopper_Handshake       int64\n",
       "Favorite                  float64\n",
       "Least_Favorite              int64\n",
       "Star_Baker                  int64\n",
       "Eliminated                  int64\n",
       "signature                  object\n",
       "showstopper                object\n",
       "dtype: object"
      ]
     },
     "execution_count": 53,
     "metadata": {},
     "output_type": "execute_result"
    }
   ],
   "source": [
    "df = df.astype({'Season':'category',\n",
    "                       'Week_Name':'category',\n",
    "                       'Gender':'category'})\n",
    "df.dtypes"
   ]
  },
  {
   "cell_type": "markdown",
   "id": "4e3e882a",
   "metadata": {},
   "source": [
    "### Get my split ready"
   ]
  },
  {
   "cell_type": "code",
   "execution_count": 54,
   "id": "09d37bc6",
   "metadata": {},
   "outputs": [],
   "source": [
    "X = df.drop(columns='Star_Baker')\n",
    "y= df['Star_Baker'].values"
   ]
  },
  {
   "cell_type": "code",
   "execution_count": 55,
   "id": "408d93bc",
   "metadata": {},
   "outputs": [
    {
     "data": {
      "text/plain": [
       "0    576\n",
       "1     88\n",
       "Name: Star_Baker, dtype: int64"
      ]
     },
     "execution_count": 55,
     "metadata": {},
     "output_type": "execute_result"
    }
   ],
   "source": [
    "#is our class unbalanced?\n",
    "df.Star_Baker.value_counts()"
   ]
  },
  {
   "cell_type": "code",
   "execution_count": 56,
   "id": "f3688772",
   "metadata": {},
   "outputs": [],
   "source": [
    "#test_size of 30%. Also the target variable is unbalanced so i'll set stratify = y\n",
    "X_train, X_test, y_train, y_test = train_test_split(X,y,test_size=.30, random_state=0,stratify =y )"
   ]
  },
  {
   "cell_type": "code",
   "execution_count": 57,
   "id": "691f777a",
   "metadata": {},
   "outputs": [],
   "source": [
    "#create unique lists for our different transformed columns\n",
    "num_cols = list(X_train.select_dtypes(include='number').columns)\n",
    "cat_cols = list(X_train.select_dtypes(include='category').columns)\n",
    "sig_text = ('signature')\n",
    "show_text = ('showstopper')\n",
    "\n",
    "#add the transformers\n",
    "preprocessor = ColumnTransformer( \n",
    "    transformers = [\n",
    "        ('num',StandardScaler(),num_cols),\n",
    "        ('cat',OneHotEncoder(handle_unknown = 'ignore'),cat_cols),\n",
    "        ('text_sig',TfidfVectorizer(max_features=50),sig_text),\n",
    "        ('text_show',TfidfVectorizer(max_features=50),show_text)\n",
    "    ], remainder='passthrough')"
   ]
  },
  {
   "cell_type": "code",
   "execution_count": 61,
   "id": "3b3d295b",
   "metadata": {},
   "outputs": [],
   "source": [
    "#Fit and Transform our Training and Testing Data\n",
    "X_train_trans = preprocessor.fit_transform(X_train)\n",
    "X_test_trans  = preprocessor.transform(X_test)"
   ]
  },
  {
   "cell_type": "code",
   "execution_count": 66,
   "id": "411ec0c1",
   "metadata": {},
   "outputs": [
    {
     "data": {
      "text/html": [
       "<div>\n",
       "<style scoped>\n",
       "    .dataframe tbody tr th:only-of-type {\n",
       "        vertical-align: middle;\n",
       "    }\n",
       "\n",
       "    .dataframe tbody tr th {\n",
       "        vertical-align: top;\n",
       "    }\n",
       "\n",
       "    .dataframe thead th {\n",
       "        text-align: right;\n",
       "    }\n",
       "</style>\n",
       "<table border=\"1\" class=\"dataframe\">\n",
       "  <thead>\n",
       "    <tr style=\"text-align: right;\">\n",
       "      <th></th>\n",
       "      <th>num__Age</th>\n",
       "      <th>num__Signature_Handshake</th>\n",
       "      <th>num__Technical_Rank</th>\n",
       "      <th>num__Showstopper_Handshake</th>\n",
       "      <th>num__Favorite</th>\n",
       "      <th>num__Least_Favorite</th>\n",
       "      <th>num__Eliminated</th>\n",
       "      <th>cat__Season_2</th>\n",
       "      <th>cat__Season_3</th>\n",
       "      <th>cat__Season_4</th>\n",
       "      <th>...</th>\n",
       "      <th>text_show__sculpture</th>\n",
       "      <th>text_show__spiced</th>\n",
       "      <th>text_show__tart</th>\n",
       "      <th>text_show__tarts</th>\n",
       "      <th>text_show__the</th>\n",
       "      <th>text_show__to</th>\n",
       "      <th>text_show__tower</th>\n",
       "      <th>text_show__walnut</th>\n",
       "      <th>text_show__white</th>\n",
       "      <th>text_show__with</th>\n",
       "    </tr>\n",
       "  </thead>\n",
       "  <tbody>\n",
       "    <tr>\n",
       "      <th>0</th>\n",
       "      <td>-0.592962</td>\n",
       "      <td>-0.228373</td>\n",
       "      <td>-1.290162</td>\n",
       "      <td>-0.08067</td>\n",
       "      <td>-0.576523</td>\n",
       "      <td>-0.590624</td>\n",
       "      <td>-0.410811</td>\n",
       "      <td>0.0</td>\n",
       "      <td>0.0</td>\n",
       "      <td>0.0</td>\n",
       "      <td>...</td>\n",
       "      <td>0.0</td>\n",
       "      <td>0.0</td>\n",
       "      <td>0.0</td>\n",
       "      <td>0.0</td>\n",
       "      <td>0.000000</td>\n",
       "      <td>0.000000</td>\n",
       "      <td>0.0</td>\n",
       "      <td>0.00000</td>\n",
       "      <td>0.0</td>\n",
       "      <td>0.0</td>\n",
       "    </tr>\n",
       "    <tr>\n",
       "      <th>1</th>\n",
       "      <td>2.058561</td>\n",
       "      <td>-0.228373</td>\n",
       "      <td>1.073316</td>\n",
       "      <td>-0.08067</td>\n",
       "      <td>-0.576523</td>\n",
       "      <td>1.693123</td>\n",
       "      <td>-0.410811</td>\n",
       "      <td>1.0</td>\n",
       "      <td>0.0</td>\n",
       "      <td>0.0</td>\n",
       "      <td>...</td>\n",
       "      <td>0.0</td>\n",
       "      <td>0.0</td>\n",
       "      <td>0.0</td>\n",
       "      <td>0.0</td>\n",
       "      <td>0.000000</td>\n",
       "      <td>0.000000</td>\n",
       "      <td>0.0</td>\n",
       "      <td>0.69731</td>\n",
       "      <td>0.0</td>\n",
       "      <td>0.0</td>\n",
       "    </tr>\n",
       "    <tr>\n",
       "      <th>2</th>\n",
       "      <td>0.732799</td>\n",
       "      <td>-0.228373</td>\n",
       "      <td>-1.290162</td>\n",
       "      <td>-0.08067</td>\n",
       "      <td>-0.576523</td>\n",
       "      <td>-0.590624</td>\n",
       "      <td>-0.410811</td>\n",
       "      <td>0.0</td>\n",
       "      <td>0.0</td>\n",
       "      <td>0.0</td>\n",
       "      <td>...</td>\n",
       "      <td>0.0</td>\n",
       "      <td>0.0</td>\n",
       "      <td>0.0</td>\n",
       "      <td>0.0</td>\n",
       "      <td>0.000000</td>\n",
       "      <td>0.000000</td>\n",
       "      <td>0.0</td>\n",
       "      <td>0.00000</td>\n",
       "      <td>0.0</td>\n",
       "      <td>0.0</td>\n",
       "    </tr>\n",
       "    <tr>\n",
       "      <th>3</th>\n",
       "      <td>0.108911</td>\n",
       "      <td>-0.228373</td>\n",
       "      <td>0.060397</td>\n",
       "      <td>-0.08067</td>\n",
       "      <td>-0.576523</td>\n",
       "      <td>-0.590624</td>\n",
       "      <td>-0.410811</td>\n",
       "      <td>0.0</td>\n",
       "      <td>1.0</td>\n",
       "      <td>0.0</td>\n",
       "      <td>...</td>\n",
       "      <td>0.0</td>\n",
       "      <td>0.0</td>\n",
       "      <td>0.0</td>\n",
       "      <td>0.0</td>\n",
       "      <td>0.000000</td>\n",
       "      <td>0.000000</td>\n",
       "      <td>0.0</td>\n",
       "      <td>0.00000</td>\n",
       "      <td>0.0</td>\n",
       "      <td>0.0</td>\n",
       "    </tr>\n",
       "    <tr>\n",
       "      <th>4</th>\n",
       "      <td>0.108911</td>\n",
       "      <td>-0.228373</td>\n",
       "      <td>-1.290162</td>\n",
       "      <td>-0.08067</td>\n",
       "      <td>1.739551</td>\n",
       "      <td>-0.590624</td>\n",
       "      <td>-0.410811</td>\n",
       "      <td>0.0</td>\n",
       "      <td>0.0</td>\n",
       "      <td>0.0</td>\n",
       "      <td>...</td>\n",
       "      <td>0.0</td>\n",
       "      <td>0.0</td>\n",
       "      <td>0.0</td>\n",
       "      <td>0.0</td>\n",
       "      <td>0.000000</td>\n",
       "      <td>0.000000</td>\n",
       "      <td>0.0</td>\n",
       "      <td>0.00000</td>\n",
       "      <td>0.0</td>\n",
       "      <td>0.0</td>\n",
       "    </tr>\n",
       "    <tr>\n",
       "      <th>...</th>\n",
       "      <td>...</td>\n",
       "      <td>...</td>\n",
       "      <td>...</td>\n",
       "      <td>...</td>\n",
       "      <td>...</td>\n",
       "      <td>...</td>\n",
       "      <td>...</td>\n",
       "      <td>...</td>\n",
       "      <td>...</td>\n",
       "      <td>...</td>\n",
       "      <td>...</td>\n",
       "      <td>...</td>\n",
       "      <td>...</td>\n",
       "      <td>...</td>\n",
       "      <td>...</td>\n",
       "      <td>...</td>\n",
       "      <td>...</td>\n",
       "      <td>...</td>\n",
       "      <td>...</td>\n",
       "      <td>...</td>\n",
       "      <td>...</td>\n",
       "    </tr>\n",
       "    <tr>\n",
       "      <th>459</th>\n",
       "      <td>-0.281018</td>\n",
       "      <td>-0.228373</td>\n",
       "      <td>-0.952523</td>\n",
       "      <td>-0.08067</td>\n",
       "      <td>1.739551</td>\n",
       "      <td>-0.590624</td>\n",
       "      <td>-0.410811</td>\n",
       "      <td>0.0</td>\n",
       "      <td>0.0</td>\n",
       "      <td>0.0</td>\n",
       "      <td>...</td>\n",
       "      <td>0.0</td>\n",
       "      <td>0.0</td>\n",
       "      <td>0.0</td>\n",
       "      <td>0.0</td>\n",
       "      <td>0.000000</td>\n",
       "      <td>0.000000</td>\n",
       "      <td>0.0</td>\n",
       "      <td>0.00000</td>\n",
       "      <td>0.0</td>\n",
       "      <td>0.0</td>\n",
       "    </tr>\n",
       "    <tr>\n",
       "      <th>460</th>\n",
       "      <td>-0.436990</td>\n",
       "      <td>-0.228373</td>\n",
       "      <td>1.410956</td>\n",
       "      <td>-0.08067</td>\n",
       "      <td>-0.576523</td>\n",
       "      <td>-0.590624</td>\n",
       "      <td>-0.410811</td>\n",
       "      <td>0.0</td>\n",
       "      <td>0.0</td>\n",
       "      <td>0.0</td>\n",
       "      <td>...</td>\n",
       "      <td>0.0</td>\n",
       "      <td>0.0</td>\n",
       "      <td>0.0</td>\n",
       "      <td>0.0</td>\n",
       "      <td>0.000000</td>\n",
       "      <td>0.000000</td>\n",
       "      <td>0.0</td>\n",
       "      <td>0.00000</td>\n",
       "      <td>0.0</td>\n",
       "      <td>1.0</td>\n",
       "    </tr>\n",
       "    <tr>\n",
       "      <th>461</th>\n",
       "      <td>-0.748934</td>\n",
       "      <td>-0.228373</td>\n",
       "      <td>-0.952523</td>\n",
       "      <td>-0.08067</td>\n",
       "      <td>-0.576523</td>\n",
       "      <td>1.693123</td>\n",
       "      <td>-0.410811</td>\n",
       "      <td>0.0</td>\n",
       "      <td>0.0</td>\n",
       "      <td>0.0</td>\n",
       "      <td>...</td>\n",
       "      <td>0.0</td>\n",
       "      <td>0.0</td>\n",
       "      <td>0.0</td>\n",
       "      <td>0.0</td>\n",
       "      <td>0.463091</td>\n",
       "      <td>0.626716</td>\n",
       "      <td>0.0</td>\n",
       "      <td>0.00000</td>\n",
       "      <td>0.0</td>\n",
       "      <td>0.0</td>\n",
       "    </tr>\n",
       "    <tr>\n",
       "      <th>462</th>\n",
       "      <td>0.108911</td>\n",
       "      <td>-0.228373</td>\n",
       "      <td>0.398037</td>\n",
       "      <td>-0.08067</td>\n",
       "      <td>-0.576523</td>\n",
       "      <td>-0.590624</td>\n",
       "      <td>-0.410811</td>\n",
       "      <td>0.0</td>\n",
       "      <td>0.0</td>\n",
       "      <td>0.0</td>\n",
       "      <td>...</td>\n",
       "      <td>0.0</td>\n",
       "      <td>0.0</td>\n",
       "      <td>0.0</td>\n",
       "      <td>0.0</td>\n",
       "      <td>0.000000</td>\n",
       "      <td>0.000000</td>\n",
       "      <td>0.0</td>\n",
       "      <td>0.00000</td>\n",
       "      <td>0.0</td>\n",
       "      <td>0.0</td>\n",
       "    </tr>\n",
       "    <tr>\n",
       "      <th>463</th>\n",
       "      <td>-0.436990</td>\n",
       "      <td>-0.228373</td>\n",
       "      <td>-0.952523</td>\n",
       "      <td>-0.08067</td>\n",
       "      <td>1.739551</td>\n",
       "      <td>-0.590624</td>\n",
       "      <td>-0.410811</td>\n",
       "      <td>0.0</td>\n",
       "      <td>0.0</td>\n",
       "      <td>1.0</td>\n",
       "      <td>...</td>\n",
       "      <td>0.0</td>\n",
       "      <td>0.0</td>\n",
       "      <td>0.0</td>\n",
       "      <td>0.0</td>\n",
       "      <td>0.000000</td>\n",
       "      <td>0.000000</td>\n",
       "      <td>0.0</td>\n",
       "      <td>0.00000</td>\n",
       "      <td>0.0</td>\n",
       "      <td>0.0</td>\n",
       "    </tr>\n",
       "  </tbody>\n",
       "</table>\n",
       "<p>464 rows × 148 columns</p>\n",
       "</div>"
      ],
      "text/plain": [
       "     num__Age  num__Signature_Handshake  num__Technical_Rank  \\\n",
       "0   -0.592962                 -0.228373            -1.290162   \n",
       "1    2.058561                 -0.228373             1.073316   \n",
       "2    0.732799                 -0.228373            -1.290162   \n",
       "3    0.108911                 -0.228373             0.060397   \n",
       "4    0.108911                 -0.228373            -1.290162   \n",
       "..        ...                       ...                  ...   \n",
       "459 -0.281018                 -0.228373            -0.952523   \n",
       "460 -0.436990                 -0.228373             1.410956   \n",
       "461 -0.748934                 -0.228373            -0.952523   \n",
       "462  0.108911                 -0.228373             0.398037   \n",
       "463 -0.436990                 -0.228373            -0.952523   \n",
       "\n",
       "     num__Showstopper_Handshake  num__Favorite  num__Least_Favorite  \\\n",
       "0                      -0.08067      -0.576523            -0.590624   \n",
       "1                      -0.08067      -0.576523             1.693123   \n",
       "2                      -0.08067      -0.576523            -0.590624   \n",
       "3                      -0.08067      -0.576523            -0.590624   \n",
       "4                      -0.08067       1.739551            -0.590624   \n",
       "..                          ...            ...                  ...   \n",
       "459                    -0.08067       1.739551            -0.590624   \n",
       "460                    -0.08067      -0.576523            -0.590624   \n",
       "461                    -0.08067      -0.576523             1.693123   \n",
       "462                    -0.08067      -0.576523            -0.590624   \n",
       "463                    -0.08067       1.739551            -0.590624   \n",
       "\n",
       "     num__Eliminated  cat__Season_2  cat__Season_3  cat__Season_4  ...  \\\n",
       "0          -0.410811            0.0            0.0            0.0  ...   \n",
       "1          -0.410811            1.0            0.0            0.0  ...   \n",
       "2          -0.410811            0.0            0.0            0.0  ...   \n",
       "3          -0.410811            0.0            1.0            0.0  ...   \n",
       "4          -0.410811            0.0            0.0            0.0  ...   \n",
       "..               ...            ...            ...            ...  ...   \n",
       "459        -0.410811            0.0            0.0            0.0  ...   \n",
       "460        -0.410811            0.0            0.0            0.0  ...   \n",
       "461        -0.410811            0.0            0.0            0.0  ...   \n",
       "462        -0.410811            0.0            0.0            0.0  ...   \n",
       "463        -0.410811            0.0            0.0            1.0  ...   \n",
       "\n",
       "     text_show__sculpture  text_show__spiced  text_show__tart  \\\n",
       "0                     0.0                0.0              0.0   \n",
       "1                     0.0                0.0              0.0   \n",
       "2                     0.0                0.0              0.0   \n",
       "3                     0.0                0.0              0.0   \n",
       "4                     0.0                0.0              0.0   \n",
       "..                    ...                ...              ...   \n",
       "459                   0.0                0.0              0.0   \n",
       "460                   0.0                0.0              0.0   \n",
       "461                   0.0                0.0              0.0   \n",
       "462                   0.0                0.0              0.0   \n",
       "463                   0.0                0.0              0.0   \n",
       "\n",
       "     text_show__tarts  text_show__the  text_show__to  text_show__tower  \\\n",
       "0                 0.0        0.000000       0.000000               0.0   \n",
       "1                 0.0        0.000000       0.000000               0.0   \n",
       "2                 0.0        0.000000       0.000000               0.0   \n",
       "3                 0.0        0.000000       0.000000               0.0   \n",
       "4                 0.0        0.000000       0.000000               0.0   \n",
       "..                ...             ...            ...               ...   \n",
       "459               0.0        0.000000       0.000000               0.0   \n",
       "460               0.0        0.000000       0.000000               0.0   \n",
       "461               0.0        0.463091       0.626716               0.0   \n",
       "462               0.0        0.000000       0.000000               0.0   \n",
       "463               0.0        0.000000       0.000000               0.0   \n",
       "\n",
       "     text_show__walnut  text_show__white  text_show__with  \n",
       "0              0.00000               0.0              0.0  \n",
       "1              0.69731               0.0              0.0  \n",
       "2              0.00000               0.0              0.0  \n",
       "3              0.00000               0.0              0.0  \n",
       "4              0.00000               0.0              0.0  \n",
       "..                 ...               ...              ...  \n",
       "459            0.00000               0.0              0.0  \n",
       "460            0.00000               0.0              1.0  \n",
       "461            0.00000               0.0              0.0  \n",
       "462            0.00000               0.0              0.0  \n",
       "463            0.00000               0.0              0.0  \n",
       "\n",
       "[464 rows x 148 columns]"
      ]
     },
     "execution_count": 66,
     "metadata": {},
     "output_type": "execute_result"
    }
   ],
   "source": [
    "#View our transformed X_train_trans\n",
    "pd.DataFrame(X_train_trans.toarray(),columns=preprocessor.get_feature_names_out())"
   ]
  },
  {
   "cell_type": "markdown",
   "id": "01a2634d",
   "metadata": {},
   "source": [
    "# Model Creation"
   ]
  },
  {
   "cell_type": "markdown",
   "id": "725ba128",
   "metadata": {},
   "source": [
    "### RandomForest"
   ]
  },
  {
   "cell_type": "code",
   "execution_count": 74,
   "id": "f925f2de",
   "metadata": {},
   "outputs": [
    {
     "data": {
      "image/png": "[encoded data removed]",
      "text/plain": [
       "<Figure size 640x480 with 2 Axes>"
      ]
     },
     "metadata": {},
     "output_type": "display_data"
    },
    {
     "name": "stdout",
     "output_type": "stream",
     "text": [
      "              precision    recall  f1-score   support\n",
      "\n",
      "           0       0.87      0.98      0.92       173\n",
      "           1       0.33      0.07      0.12        27\n",
      "\n",
      "    accuracy                           0.85       200\n",
      "   macro avg       0.60      0.53      0.52       200\n",
      "weighted avg       0.80      0.85      0.81       200\n",
      "\n",
      "The training score for the random forest model is 1.0     \n",
      "and the testing score for the model is 0.855\n"
     ]
    }
   ],
   "source": [
    "#RandomForest\n",
    "\n",
    "rf = RandomForestClassifier(n_estimators = 300, random_state = 1, n_jobs=-1)\n",
    "\n",
    "#fit\n",
    "model = rf.fit(X_train_trans,y_train)\n",
    "\n",
    "#pred\n",
    "y_pred = model.predict(X_test_trans)\n",
    "\n",
    "#confusion matrix\n",
    "cm = confusion_matrix(y_test,y_pred)\n",
    "\n",
    "sns.heatmap(cm,annot=True,cmap='coolwarm')\n",
    "plt.xlabel('actual values')\n",
    "plt.ylabel('predicted labels')\n",
    "plt.title('Random Forest Model for Predicting Star Baker')\n",
    "plt.show()\n",
    "\n",
    "print(classification_report(y_test,y_pred))\n",
    "\n",
    "#scores\n",
    "\n",
    "training_score = (rf.score(X_train_trans,y_train))\n",
    "testing_score = (rf.score(X_test_trans, y_test))\n",
    "\n",
    "print(f'The training score for the random forest model is {training_score}\\\n",
    "     \\nand the testing score for the model is {testing_score}')"
   ]
  },
  {
   "cell_type": "markdown",
   "id": "c2d9c749",
   "metadata": {},
   "source": [
    "### Creating a table to store model outputs"
   ]
  },
  {
   "cell_type": "code",
   "execution_count": 76,
   "id": "f675e04c",
   "metadata": {},
   "outputs": [
    {
     "data": {
      "text/html": [
       "<div>\n",
       "<style scoped>\n",
       "    .dataframe tbody tr th:only-of-type {\n",
       "        vertical-align: middle;\n",
       "    }\n",
       "\n",
       "    .dataframe tbody tr th {\n",
       "        vertical-align: top;\n",
       "    }\n",
       "\n",
       "    .dataframe thead th {\n",
       "        text-align: right;\n",
       "    }\n",
       "</style>\n",
       "<table border=\"1\" class=\"dataframe\">\n",
       "  <thead>\n",
       "    <tr style=\"text-align: right;\">\n",
       "      <th></th>\n",
       "      <th>Random Forest</th>\n",
       "    </tr>\n",
       "  </thead>\n",
       "  <tbody>\n",
       "    <tr>\n",
       "      <th>Training</th>\n",
       "      <td>1.000</td>\n",
       "    </tr>\n",
       "    <tr>\n",
       "      <th>Testing</th>\n",
       "      <td>0.855</td>\n",
       "    </tr>\n",
       "  </tbody>\n",
       "</table>\n",
       "</div>"
      ],
      "text/plain": [
       "          Random Forest\n",
       "Training          1.000\n",
       "Testing           0.855"
      ]
     },
     "execution_count": 76,
     "metadata": {},
     "output_type": "execute_result"
    }
   ],
   "source": [
    "Model_Data_Frame = pd.DataFrame({\"Random Forest\": [training_score,testing_score]})\n",
    "index_name = ['Training','Testing']\n",
    "Model_Data_Frame.index=index_name\n",
    "Model_Data_Frame"
   ]
  },
  {
   "cell_type": "markdown",
   "id": "266e0b0e",
   "metadata": {},
   "source": [
    "### Logistic Regression"
   ]
  },
  {
   "cell_type": "code",
   "execution_count": 77,
   "id": "56f5dadd",
   "metadata": {
    "scrolled": true
   },
   "outputs": [
    {
     "data": {
      "image/png": "[encoded data removed]",
      "text/plain": [
       "<Figure size 640x480 with 2 Axes>"
      ]
     },
     "metadata": {},
     "output_type": "display_data"
    },
    {
     "name": "stdout",
     "output_type": "stream",
     "text": [
      "              precision    recall  f1-score   support\n",
      "\n",
      "           0       0.91      0.95      0.93       173\n",
      "           1       0.56      0.37      0.44        27\n",
      "\n",
      "    accuracy                           0.88       200\n",
      "   macro avg       0.73      0.66      0.69       200\n",
      "weighted avg       0.86      0.88      0.86       200\n",
      "\n",
      "The training score for the Logistic Regression model is 0.9288793103448276     \n",
      "and the testing score for the model is 0.875\n"
     ]
    }
   ],
   "source": [
    "\n",
    "#is this the right solver / max_iter?\n",
    "logreg = LogisticRegression(solver= 'liblinear',max_iter = 500)\n",
    "logreg.fit(X_train_trans,y_train)\n",
    "y_pred_logreg = logreg.predict(X_test_trans)\n",
    "\n",
    "#confusion matrix\n",
    "cm = confusion_matrix(y_test,y_pred_logreg)\n",
    "\n",
    "sns.heatmap(cm,annot=True,cmap='coolwarm')\n",
    "plt.xlabel('actual values')\n",
    "plt.ylabel('predicted labels')\n",
    "plt.title('Random Forest Model for Predicting Star Baker')\n",
    "plt.show()\n",
    "\n",
    "print(classification_report(y_test,y_pred_logreg))\n",
    "\n",
    "#scores\n",
    "\n",
    "training_score = (logreg.score(X_train_trans,y_train))\n",
    "testing_score = (logreg.score(X_test_trans, y_test))\n",
    "\n",
    "print(f'The training score for the Logistic Regression model is {training_score}\\\n",
    "     \\nand the testing score for the model is {testing_score}')"
   ]
  },
  {
   "cell_type": "code",
   "execution_count": 78,
   "id": "493b94f6",
   "metadata": {
    "scrolled": false
   },
   "outputs": [],
   "source": [
    "Model_Data_Frame['Logistic Regression']=[training_score,testing_score]"
   ]
  },
  {
   "cell_type": "markdown",
   "id": "eff7f133",
   "metadata": {},
   "source": [
    "### Gradient Boosting"
   ]
  },
  {
   "cell_type": "code",
   "execution_count": 81,
   "id": "e1481c39",
   "metadata": {},
   "outputs": [],
   "source": [
    "learning_rate = [0.05, 0.1, 0.25, 0.5, 0.75, 1]\n",
    "n_estimators = [18,19,20,21,22]\n",
    "max_depth = [1,2,3]\n",
    "params = ({'learning_rate': learning_rate,\n",
    "          'n_estimators' : n_estimators,\n",
    "          'max_depth': max_depth})\n"
   ]
  },
  {
   "cell_type": "code",
   "execution_count": 82,
   "id": "5cb410bc",
   "metadata": {},
   "outputs": [
    {
     "data": {
      "text/plain": [
       "GridSearchCV(cv=5, estimator=GradientBoostingClassifier(),\n",
       "             param_grid={'learning_rate': [0.05, 0.1, 0.25, 0.5, 0.75, 1],\n",
       "                         'max_depth': [1, 2, 3],\n",
       "                         'n_estimators': [18, 19, 20, 21, 22]})"
      ]
     },
     "execution_count": 82,
     "metadata": {},
     "output_type": "execute_result"
    }
   ],
   "source": [
    "gb = GradientBoostingClassifier()\n",
    "cv = GridSearchCV(gb,params, cv=5)\n",
    "cv.fit(X_train_trans,y_train)"
   ]
  },
  {
   "cell_type": "code",
   "execution_count": 83,
   "id": "f81185c9",
   "metadata": {},
   "outputs": [
    {
     "name": "stdout",
     "output_type": "stream",
     "text": [
      "Accuracy score (training): 0.892\n",
      "Accuracy score (validation): 0.875\n"
     ]
    }
   ],
   "source": [
    "training =cv.score(X_train_trans, y_train)\n",
    "testing =cv.score(X_test_trans, y_test)\n",
    "\n",
    "print(\"Accuracy score (training): {0:.3f}\".format(training))\n",
    "print(\"Accuracy score (validation): {0:.3f}\".format(testing))\n"
   ]
  },
  {
   "cell_type": "code",
   "execution_count": 84,
   "id": "1f021f2b",
   "metadata": {},
   "outputs": [],
   "source": [
    "Model_Data_Frame['Gradient Boosting (w/CV)']=[training,testing]"
   ]
  },
  {
   "cell_type": "markdown",
   "id": "7df4d195",
   "metadata": {},
   "source": [
    "### KNN"
   ]
  },
  {
   "cell_type": "code",
   "execution_count": 85,
   "id": "4f1f2d3d",
   "metadata": {},
   "outputs": [
    {
     "data": {
      "text/plain": [
       "GridSearchCV(cv=5, estimator=KNeighborsClassifier(),\n",
       "             param_grid={'n_neighbors': array([ 1,  2,  3,  4,  5,  6,  7,  8,  9, 10, 11, 12, 13, 14, 15, 16, 17,\n",
       "       18, 19, 20, 21, 22, 23, 24, 25, 26, 27, 28, 29, 30, 31, 32, 33, 34,\n",
       "       35, 36, 37, 38, 39, 40, 41, 42, 43, 44, 45, 46, 47, 48, 49])})"
      ]
     },
     "execution_count": 85,
     "metadata": {},
     "output_type": "execute_result"
    }
   ],
   "source": [
    "\n",
    "simplefilter(action='ignore', category=FutureWarning) # to deal with annoying future warning\n",
    "param_grid = {'n_neighbors':np.arange(1,50)}\n",
    "knn = KNeighborsClassifier()\n",
    "knn_cv= GridSearchCV(knn,param_grid,cv=5)\n",
    "knn_cv.fit(X_train_trans,y_train)\n"
   ]
  },
  {
   "cell_type": "code",
   "execution_count": 86,
   "id": "29c75c93",
   "metadata": {},
   "outputs": [
    {
     "name": "stdout",
     "output_type": "stream",
     "text": [
      "Accuracy score (training): 0.875\n",
      "Accuracy score (validation): 0.865\n"
     ]
    }
   ],
   "source": [
    "training =knn_cv.score(X_train_trans, y_train)\n",
    "testing =knn_cv.score(X_test_trans, y_test)\n",
    "\n",
    "print(\"Accuracy score (training): {0:.3f}\".format(training))\n",
    "print(\"Accuracy score (validation): {0:.3f}\".format(testing))\n"
   ]
  },
  {
   "cell_type": "code",
   "execution_count": 87,
   "id": "c48a6fc5",
   "metadata": {},
   "outputs": [],
   "source": [
    "Model_Data_Frame['KNN (w/CV)']=[training,testing]"
   ]
  },
  {
   "cell_type": "code",
   "execution_count": 88,
   "id": "f3d08f6a",
   "metadata": {},
   "outputs": [
    {
     "data": {
      "text/html": [
       "<div>\n",
       "<style scoped>\n",
       "    .dataframe tbody tr th:only-of-type {\n",
       "        vertical-align: middle;\n",
       "    }\n",
       "\n",
       "    .dataframe tbody tr th {\n",
       "        vertical-align: top;\n",
       "    }\n",
       "\n",
       "    .dataframe thead th {\n",
       "        text-align: right;\n",
       "    }\n",
       "</style>\n",
       "<table border=\"1\" class=\"dataframe\">\n",
       "  <thead>\n",
       "    <tr style=\"text-align: right;\">\n",
       "      <th></th>\n",
       "      <th>Random Forest</th>\n",
       "      <th>Logistic Regression</th>\n",
       "      <th>Gradient Boosting (w/CV)</th>\n",
       "      <th>KNN (w/CV)</th>\n",
       "    </tr>\n",
       "  </thead>\n",
       "  <tbody>\n",
       "    <tr>\n",
       "      <th>Training</th>\n",
       "      <td>1.000</td>\n",
       "      <td>0.928879</td>\n",
       "      <td>0.892241</td>\n",
       "      <td>0.875</td>\n",
       "    </tr>\n",
       "    <tr>\n",
       "      <th>Testing</th>\n",
       "      <td>0.855</td>\n",
       "      <td>0.875000</td>\n",
       "      <td>0.875000</td>\n",
       "      <td>0.865</td>\n",
       "    </tr>\n",
       "  </tbody>\n",
       "</table>\n",
       "</div>"
      ],
      "text/plain": [
       "          Random Forest  Logistic Regression  Gradient Boosting (w/CV)  \\\n",
       "Training          1.000             0.928879                  0.892241   \n",
       "Testing           0.855             0.875000                  0.875000   \n",
       "\n",
       "          KNN (w/CV)  \n",
       "Training       0.875  \n",
       "Testing        0.865  "
      ]
     },
     "execution_count": 88,
     "metadata": {},
     "output_type": "execute_result"
    }
   ],
   "source": [
    "Model_Data_Frame"
   ]
  },
  {
   "cell_type": "code",
   "execution_count": null,
   "id": "34e05bf8",
   "metadata": {},
   "outputs": [],
   "source": []
  }
 ],
 "metadata": {
  "kernelspec": {
   "display_name": "Python 3 (ipykernel)",
   "language": "python",
   "name": "python3"
  },
  "language_info": {
   "codemirror_mode": {
    "name": "ipython",
    "version": 3
   },
   "file_extension": ".py",
   "mimetype": "text/x-python",
   "name": "python",
   "nbconvert_exporter": "python",
   "pygments_lexer": "ipython3",
   "version": "3.9.13"
  }
 },
 "nbformat": 4,
 "nbformat_minor": 5
}
