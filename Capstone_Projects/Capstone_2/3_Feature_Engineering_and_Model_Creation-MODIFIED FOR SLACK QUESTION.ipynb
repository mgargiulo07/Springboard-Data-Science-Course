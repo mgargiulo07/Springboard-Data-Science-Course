{
 "cells": [
  {
   "cell_type": "markdown",
   "id": "789dca74",
   "metadata": {},
   "source": [
    "# Feature Engineering"
   ]
  },
  {
   "cell_type": "markdown",
   "id": "263b7866",
   "metadata": {},
   "source": [
    "### Import Libraries"
   ]
  },
  {
   "cell_type": "code",
   "execution_count": 1,
   "id": "63fa37d4",
   "metadata": {},
   "outputs": [],
   "source": [
    "from sklearn.model_selection import train_test_split\n",
    "import pandas as pd\n",
    "import numpy as np\n",
    "import seaborn as sns\n",
    "import matplotlib.pyplot as plt\n",
    "\n",
    "#feature engineering\n",
    "from sklearn.preprocessing import StandardScaler\n",
    "from sklearn.preprocessing import OneHotEncoder\n",
    "from sklearn.feature_extraction.text import TfidfVectorizer\n",
    "from sklearn.compose import ColumnTransformer\n",
    "\n",
    "#Model Creation\n",
    "from sklearn.linear_model import LogisticRegression\n",
    "from sklearn.ensemble import RandomForestClassifier\n",
    "from sklearn.metrics import confusion_matrix\n",
    "from sklearn.metrics import accuracy_score\n",
    "from sklearn.metrics import classification_report\n",
    "from sklearn.linear_model import LogisticRegression\n",
    "from sklearn.ensemble import GradientBoostingClassifier\n",
    "from sklearn.model_selection import GridSearchCV\n",
    "from sklearn.neighbors import KNeighborsClassifier\n",
    "from warnings import simplefilter\n",
    "from imblearn.pipeline import Pipeline\n",
    "from imblearn.over_sampling import SMOTE"
   ]
  },
  {
   "cell_type": "markdown",
   "id": "8566dff8",
   "metadata": {},
   "source": [
    "### Import data"
   ]
  },
  {
   "cell_type": "code",
   "execution_count": 2,
   "id": "e1111c37",
   "metadata": {},
   "outputs": [],
   "source": [
    "final_df = pd.read_csv('data/final_df.csv',index_col = 0)"
   ]
  },
  {
   "cell_type": "code",
   "execution_count": 3,
   "id": "9d296846",
   "metadata": {},
   "outputs": [
    {
     "data": {
      "text/plain": [
       "Season                     int64\n",
       "Week_Number                int64\n",
       "Week_Name                 object\n",
       "Baker                     object\n",
       "Gender                    object\n",
       "Age                        int64\n",
       "Signature_Handshake        int64\n",
       "Technical_Rank             int64\n",
       "Showstopper_Handshake      int64\n",
       "Favorite                 float64\n",
       "Least_Favorite             int64\n",
       "Star_Baker                 int64\n",
       "Eliminated                 int64\n",
       "Winner                     int64\n",
       "signature                 object\n",
       "showstopper               object\n",
       "dtype: object"
      ]
     },
     "execution_count": 3,
     "metadata": {},
     "output_type": "execute_result"
    }
   ],
   "source": [
    "final_df.dtypes"
   ]
  },
  {
   "cell_type": "markdown",
   "id": "e4854d41",
   "metadata": {},
   "source": [
    "### Create a table of winners for future reference"
   ]
  },
  {
   "cell_type": "code",
   "execution_count": 4,
   "id": "1c268d28",
   "metadata": {},
   "outputs": [],
   "source": [
    "Table_of_Winners = final_df.loc[final_df.Winner == 1]"
   ]
  },
  {
   "cell_type": "code",
   "execution_count": 5,
   "id": "82776b77",
   "metadata": {},
   "outputs": [],
   "source": [
    "Table_of_Winners = Table_of_Winners[['Season','Baker']].drop_duplicates()"
   ]
  },
  {
   "cell_type": "code",
   "execution_count": 6,
   "id": "38d15b15",
   "metadata": {},
   "outputs": [],
   "source": [
    "Table_of_Winners.to_csv('data/Table_of_Winners.csv')"
   ]
  },
  {
   "cell_type": "markdown",
   "id": "758e20ca",
   "metadata": {},
   "source": [
    "After understanding my data better:\n",
    "- It seems the winner decided by whoever wins the final star baker. Therefore I will remove Winner from my dataset and set the target feature to Star Baker.\n",
    "- Week_Name is redundant with Week_Number. I'll remove Week_Number\n",
    "- We don't need the names of the bakers.\n",
    "- Lastly, we will remove the name of the season, because older seasons won't show up in future datasets"
   ]
  },
  {
   "cell_type": "markdown",
   "id": "2d41a517",
   "metadata": {},
   "source": [
    "### Drop Week_Number, Baker, Winner"
   ]
  },
  {
   "cell_type": "code",
   "execution_count": 7,
   "id": "16df8736",
   "metadata": {},
   "outputs": [],
   "source": [
    "df = final_df.drop(columns=['Week_Number','Baker','Winner','Season'])"
   ]
  },
  {
   "cell_type": "code",
   "execution_count": 8,
   "id": "3e71e27e",
   "metadata": {},
   "outputs": [
    {
     "data": {
      "text/plain": [
       "Week_Name                category\n",
       "Gender                   category\n",
       "Age                         int64\n",
       "Signature_Handshake         int64\n",
       "Technical_Rank              int64\n",
       "Showstopper_Handshake       int64\n",
       "Favorite                  float64\n",
       "Least_Favorite              int64\n",
       "Star_Baker                  int64\n",
       "Eliminated                  int64\n",
       "signature                  object\n",
       "showstopper                object\n",
       "dtype: object"
      ]
     },
     "execution_count": 8,
     "metadata": {},
     "output_type": "execute_result"
    }
   ],
   "source": [
    "df = df.astype({'Week_Name':'category',\n",
    "                       'Gender':'category'})\n",
    "df.dtypes"
   ]
  },
  {
   "cell_type": "code",
   "execution_count": 101,
   "id": "357a772a",
   "metadata": {},
   "outputs": [
    {
     "data": {
      "text/html": [
       "<div>\n",
       "<style scoped>\n",
       "    .dataframe tbody tr th:only-of-type {\n",
       "        vertical-align: middle;\n",
       "    }\n",
       "\n",
       "    .dataframe tbody tr th {\n",
       "        vertical-align: top;\n",
       "    }\n",
       "\n",
       "    .dataframe thead th {\n",
       "        text-align: right;\n",
       "    }\n",
       "</style>\n",
       "<table border=\"1\" class=\"dataframe\">\n",
       "  <thead>\n",
       "    <tr style=\"text-align: right;\">\n",
       "      <th></th>\n",
       "      <th>Week_Name</th>\n",
       "      <th>Gender</th>\n",
       "      <th>Age</th>\n",
       "      <th>Signature_Handshake</th>\n",
       "      <th>Technical_Rank</th>\n",
       "      <th>Showstopper_Handshake</th>\n",
       "      <th>Favorite</th>\n",
       "      <th>Least_Favorite</th>\n",
       "      <th>Star_Baker</th>\n",
       "      <th>Eliminated</th>\n",
       "      <th>signature</th>\n",
       "      <th>showstopper</th>\n",
       "    </tr>\n",
       "  </thead>\n",
       "  <tbody>\n",
       "    <tr>\n",
       "      <th>0</th>\n",
       "      <td>Cake</td>\n",
       "      <td>M</td>\n",
       "      <td>31</td>\n",
       "      <td>0</td>\n",
       "      <td>2</td>\n",
       "      <td>0</td>\n",
       "      <td>0.0</td>\n",
       "      <td>0</td>\n",
       "      <td>0</td>\n",
       "      <td>0</td>\n",
       "      <td>Rhubarb and Custard CupcakesAfter Dinner Cupcakes</td>\n",
       "      <td>Vanilla Sponge with White Chocolate and Raspbe...</td>\n",
       "    </tr>\n",
       "    <tr>\n",
       "      <th>1</th>\n",
       "      <td>Cake</td>\n",
       "      <td>F</td>\n",
       "      <td>31</td>\n",
       "      <td>0</td>\n",
       "      <td>1</td>\n",
       "      <td>0</td>\n",
       "      <td>0.0</td>\n",
       "      <td>0</td>\n",
       "      <td>1</td>\n",
       "      <td>0</td>\n",
       "      <td>Cherry Bakewell Inspired CupcakesGinger Cupcak...</td>\n",
       "      <td>Novelty Farm Cake</td>\n",
       "    </tr>\n",
       "    <tr>\n",
       "      <th>2</th>\n",
       "      <td>Cake</td>\n",
       "      <td>M</td>\n",
       "      <td>40</td>\n",
       "      <td>0</td>\n",
       "      <td>10</td>\n",
       "      <td>0</td>\n",
       "      <td>0.0</td>\n",
       "      <td>0</td>\n",
       "      <td>0</td>\n",
       "      <td>0</td>\n",
       "      <td>Apple and Cinnamon Cupcakes</td>\n",
       "      <td>Unknown</td>\n",
       "    </tr>\n",
       "    <tr>\n",
       "      <th>3</th>\n",
       "      <td>Cake</td>\n",
       "      <td>F</td>\n",
       "      <td>63</td>\n",
       "      <td>0</td>\n",
       "      <td>8</td>\n",
       "      <td>0</td>\n",
       "      <td>0.0</td>\n",
       "      <td>0</td>\n",
       "      <td>0</td>\n",
       "      <td>0</td>\n",
       "      <td>Raspberry and Cream Cupcakes</td>\n",
       "      <td>Chocolate Marble Cakewith Dark and White Choco...</td>\n",
       "    </tr>\n",
       "    <tr>\n",
       "      <th>4</th>\n",
       "      <td>Cake</td>\n",
       "      <td>M</td>\n",
       "      <td>19</td>\n",
       "      <td>0</td>\n",
       "      <td>6</td>\n",
       "      <td>0</td>\n",
       "      <td>0.0</td>\n",
       "      <td>0</td>\n",
       "      <td>0</td>\n",
       "      <td>0</td>\n",
       "      <td>Lemon Meringue CupcakesApple and Cinnamon Cupc...</td>\n",
       "      <td>Unknown</td>\n",
       "    </tr>\n",
       "  </tbody>\n",
       "</table>\n",
       "</div>"
      ],
      "text/plain": [
       "  Week_Name Gender  Age  Signature_Handshake  Technical_Rank  \\\n",
       "0      Cake      M   31                    0               2   \n",
       "1      Cake      F   31                    0               1   \n",
       "2      Cake      M   40                    0              10   \n",
       "3      Cake      F   63                    0               8   \n",
       "4      Cake      M   19                    0               6   \n",
       "\n",
       "   Showstopper_Handshake  Favorite  Least_Favorite  Star_Baker  Eliminated  \\\n",
       "0                      0       0.0               0           0           0   \n",
       "1                      0       0.0               0           1           0   \n",
       "2                      0       0.0               0           0           0   \n",
       "3                      0       0.0               0           0           0   \n",
       "4                      0       0.0               0           0           0   \n",
       "\n",
       "                                           signature  \\\n",
       "0  Rhubarb and Custard CupcakesAfter Dinner Cupcakes   \n",
       "1  Cherry Bakewell Inspired CupcakesGinger Cupcak...   \n",
       "2                        Apple and Cinnamon Cupcakes   \n",
       "3                       Raspberry and Cream Cupcakes   \n",
       "4  Lemon Meringue CupcakesApple and Cinnamon Cupc...   \n",
       "\n",
       "                                         showstopper  \n",
       "0  Vanilla Sponge with White Chocolate and Raspbe...  \n",
       "1                                  Novelty Farm Cake  \n",
       "2                                            Unknown  \n",
       "3  Chocolate Marble Cakewith Dark and White Choco...  \n",
       "4                                            Unknown  "
      ]
     },
     "execution_count": 101,
     "metadata": {},
     "output_type": "execute_result"
    }
   ],
   "source": [
    "df.head()"
   ]
  },
  {
   "cell_type": "markdown",
   "id": "4e3e882a",
   "metadata": {},
   "source": [
    "### Get my split ready"
   ]
  },
  {
   "cell_type": "code",
   "execution_count": 10,
   "id": "09d37bc6",
   "metadata": {},
   "outputs": [],
   "source": [
    "X = df.drop(columns='Star_Baker')\n",
    "y= df['Star_Baker'].values"
   ]
  },
  {
   "cell_type": "code",
   "execution_count": 11,
   "id": "408d93bc",
   "metadata": {},
   "outputs": [
    {
     "data": {
      "text/plain": [
       "0    576\n",
       "1     88\n",
       "Name: Star_Baker, dtype: int64"
      ]
     },
     "execution_count": 11,
     "metadata": {},
     "output_type": "execute_result"
    }
   ],
   "source": [
    "#is our class unbalanced?\n",
    "#we should use SMOTE for class balance\n",
    "df.Star_Baker.value_counts()"
   ]
  },
  {
   "cell_type": "code",
   "execution_count": 100,
   "id": "691f777a",
   "metadata": {
    "scrolled": true
   },
   "outputs": [
    {
     "name": "stdout",
     "output_type": "stream",
     "text": [
      "              precision    recall  f1-score   support\n",
      "\n",
      "           0       0.89      1.00      0.94        31\n",
      "           1       1.00      0.33      0.50         6\n",
      "\n",
      "    accuracy                           0.89        37\n",
      "   macro avg       0.94      0.67      0.72        37\n",
      "weighted avg       0.90      0.89      0.87        37\n",
      "\n"
     ]
    }
   ],
   "source": [
    "#test_size of 30%.\n",
    "X_train, X_test, y_train, y_test = train_test_split(X,y,test_size=.30, random_state=0,stratify = y)\n",
    "\n",
    "#create unique lists for our different transformed columns\n",
    "num_cols = list(X_train.select_dtypes(include='number').columns)\n",
    "cat_cols = list(X_train.select_dtypes(include='category').columns)\n",
    "sig_text = ('signature')\n",
    "show_text = ('showstopper')\n",
    "\n",
    "#add the transformers\n",
    "preprocessor = ColumnTransformer( \n",
    "    transformers = [\n",
    "        \n",
    "        ('num',StandardScaler(),num_cols),                         #scale the numerical values\n",
    "        ('cat',OneHotEncoder(handle_unknown = 'ignore'),cat_cols), #encode the categorical features\n",
    "        ('text_sig',TfidfVectorizer(max_features=50),sig_text),    #freq counts for words\n",
    "        ('text_show',TfidfVectorizer(max_features=50),show_text)   #freq counts for words\n",
    "    ], remainder='passthrough')\n",
    "\n",
    "\n",
    "#initialize the SMOTE class\n",
    "smt = SMOTE(random_state=0)\n",
    "\n",
    "pipeline = Pipeline( #using imblearn.pipeline\n",
    "    [('preprocess',preprocessor),\n",
    "     ('smote',smt),\n",
    "     ('RandomForestClassifier',RandomForestClassifier(n_estimators = 300, random_state = 1, n_jobs=-1))\n",
    "    ]\n",
    ")\n",
    "\n",
    "\n",
    "X_train_trans = pipeline.fit(X_train,y_train)\n",
    "ypred=pipeline.predict(X_test)\n",
    "\n",
    "print(classification_report(y_test,ypred))"
   ]
  }
 ],
 "metadata": {
  "kernelspec": {
   "display_name": "Python 3 (ipykernel)",
   "language": "python",
   "name": "python3"
  },
  "language_info": {
   "codemirror_mode": {
    "name": "ipython",
    "version": 3
   },
   "file_extension": ".py",
   "mimetype": "text/x-python",
   "name": "python",
   "nbconvert_exporter": "python",
   "pygments_lexer": "ipython3",
   "version": "3.9.13"
  }
 },
 "nbformat": 4,
 "nbformat_minor": 5
}
