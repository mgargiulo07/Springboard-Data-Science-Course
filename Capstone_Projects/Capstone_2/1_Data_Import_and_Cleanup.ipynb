{
 "cells": [
  {
   "cell_type": "markdown",
   "id": "7195cd60",
   "metadata": {},
   "source": [
    "# Data Import "
   ]
  },
  {
   "cell_type": "markdown",
   "id": "1003c936",
   "metadata": {},
   "source": [
    "### Import Libraries"
   ]
  },
  {
   "cell_type": "code",
   "execution_count": 1,
   "id": "01892149",
   "metadata": {},
   "outputs": [],
   "source": [
    "import pandas as pd\n",
    "import numpy as np\n",
    "import seaborn as sns\n",
    "import matplotlib.pyplot as plt"
   ]
  },
  {
   "cell_type": "markdown",
   "id": "b5d81f76",
   "metadata": {},
   "source": [
    "### Initial Data Exploration for our GBBO Dataset (Head, Shape, Info, Data Types & Describe)"
   ]
  },
  {
   "cell_type": "code",
   "execution_count": 2,
   "id": "0e07d34b",
   "metadata": {},
   "outputs": [],
   "source": [
    "GBBO_df = pd.read_csv('data/GBBO_data_set.csv')"
   ]
  },
  {
   "cell_type": "code",
   "execution_count": 3,
   "id": "2fd131e5",
   "metadata": {},
   "outputs": [],
   "source": [
    "#Remove those last 2 weird columns.\n",
    "GBBO_df=GBBO_df.iloc[:,:16]"
   ]
  },
  {
   "cell_type": "code",
   "execution_count": 4,
   "id": "45a5bc63",
   "metadata": {},
   "outputs": [
    {
     "data": {
      "text/html": [
       "<div>\n",
       "<style scoped>\n",
       "    .dataframe tbody tr th:only-of-type {\n",
       "        vertical-align: middle;\n",
       "    }\n",
       "\n",
       "    .dataframe tbody tr th {\n",
       "        vertical-align: top;\n",
       "    }\n",
       "\n",
       "    .dataframe thead th {\n",
       "        text-align: right;\n",
       "    }\n",
       "</style>\n",
       "<table border=\"1\" class=\"dataframe\">\n",
       "  <thead>\n",
       "    <tr style=\"text-align: right;\">\n",
       "      <th></th>\n",
       "      <th>Season</th>\n",
       "      <th>Judge</th>\n",
       "      <th>Week Number</th>\n",
       "      <th>Week Name</th>\n",
       "      <th>Baker</th>\n",
       "      <th>Gender</th>\n",
       "      <th>Age</th>\n",
       "      <th>Signature Handshake</th>\n",
       "      <th>Technical Rank</th>\n",
       "      <th>Showstopper Handshake</th>\n",
       "      <th>Favorite</th>\n",
       "      <th>Least Favorite</th>\n",
       "      <th>Star Baker</th>\n",
       "      <th>Eliminated</th>\n",
       "      <th>Competed</th>\n",
       "      <th>Winner</th>\n",
       "    </tr>\n",
       "  </thead>\n",
       "  <tbody>\n",
       "    <tr>\n",
       "      <th>0</th>\n",
       "      <td>Series 1</td>\n",
       "      <td>Mary</td>\n",
       "      <td>1</td>\n",
       "      <td>Cake</td>\n",
       "      <td>Annetha</td>\n",
       "      <td>F</td>\n",
       "      <td>30</td>\n",
       "      <td>0</td>\n",
       "      <td>2.0</td>\n",
       "      <td>0</td>\n",
       "      <td>1.0</td>\n",
       "      <td>0</td>\n",
       "      <td>0</td>\n",
       "      <td>0</td>\n",
       "      <td>1</td>\n",
       "      <td>0</td>\n",
       "    </tr>\n",
       "    <tr>\n",
       "      <th>1</th>\n",
       "      <td>Series 1</td>\n",
       "      <td>Mary</td>\n",
       "      <td>1</td>\n",
       "      <td>Cake</td>\n",
       "      <td>David</td>\n",
       "      <td>M</td>\n",
       "      <td>31</td>\n",
       "      <td>0</td>\n",
       "      <td>3.0</td>\n",
       "      <td>0</td>\n",
       "      <td>0.0</td>\n",
       "      <td>1</td>\n",
       "      <td>0</td>\n",
       "      <td>0</td>\n",
       "      <td>1</td>\n",
       "      <td>0</td>\n",
       "    </tr>\n",
       "    <tr>\n",
       "      <th>2</th>\n",
       "      <td>Series 1</td>\n",
       "      <td>Mary</td>\n",
       "      <td>1</td>\n",
       "      <td>Cake</td>\n",
       "      <td>Edd</td>\n",
       "      <td>M</td>\n",
       "      <td>24</td>\n",
       "      <td>0</td>\n",
       "      <td>1.0</td>\n",
       "      <td>0</td>\n",
       "      <td>0.0</td>\n",
       "      <td>0</td>\n",
       "      <td>0</td>\n",
       "      <td>0</td>\n",
       "      <td>1</td>\n",
       "      <td>1</td>\n",
       "    </tr>\n",
       "    <tr>\n",
       "      <th>3</th>\n",
       "      <td>Series 1</td>\n",
       "      <td>Mary</td>\n",
       "      <td>1</td>\n",
       "      <td>Cake</td>\n",
       "      <td>Jasminder</td>\n",
       "      <td>F</td>\n",
       "      <td>45</td>\n",
       "      <td>0</td>\n",
       "      <td>NaN</td>\n",
       "      <td>0</td>\n",
       "      <td>0.0</td>\n",
       "      <td>0</td>\n",
       "      <td>0</td>\n",
       "      <td>0</td>\n",
       "      <td>1</td>\n",
       "      <td>0</td>\n",
       "    </tr>\n",
       "    <tr>\n",
       "      <th>4</th>\n",
       "      <td>Series 1</td>\n",
       "      <td>Mary</td>\n",
       "      <td>1</td>\n",
       "      <td>Cake</td>\n",
       "      <td>Jonathan</td>\n",
       "      <td>M</td>\n",
       "      <td>25</td>\n",
       "      <td>0</td>\n",
       "      <td>9.0</td>\n",
       "      <td>0</td>\n",
       "      <td>0.0</td>\n",
       "      <td>0</td>\n",
       "      <td>0</td>\n",
       "      <td>0</td>\n",
       "      <td>1</td>\n",
       "      <td>0</td>\n",
       "    </tr>\n",
       "  </tbody>\n",
       "</table>\n",
       "</div>"
      ],
      "text/plain": [
       "     Season Judge  Week Number Week Name      Baker Gender  Age  \\\n",
       "0  Series 1  Mary            1      Cake    Annetha      F   30   \n",
       "1  Series 1  Mary            1      Cake      David      M   31   \n",
       "2  Series 1  Mary            1      Cake        Edd      M   24   \n",
       "3  Series 1  Mary            1      Cake  Jasminder      F   45   \n",
       "4  Series 1  Mary            1      Cake   Jonathan      M   25   \n",
       "\n",
       "   Signature Handshake  Technical Rank  Showstopper Handshake  Favorite  \\\n",
       "0                    0             2.0                      0       1.0   \n",
       "1                    0             3.0                      0       0.0   \n",
       "2                    0             1.0                      0       0.0   \n",
       "3                    0             NaN                      0       0.0   \n",
       "4                    0             9.0                      0       0.0   \n",
       "\n",
       "   Least Favorite  Star Baker  Eliminated  Competed  Winner  \n",
       "0               0           0           0         1       0  \n",
       "1               1           0           0         1       0  \n",
       "2               0           0           0         1       1  \n",
       "3               0           0           0         1       0  \n",
       "4               0           0           0         1       0  "
      ]
     },
     "execution_count": 4,
     "metadata": {},
     "output_type": "execute_result"
    }
   ],
   "source": [
    "GBBO_df.head()"
   ]
  },
  {
   "cell_type": "code",
   "execution_count": 5,
   "id": "56f5e74e",
   "metadata": {},
   "outputs": [
    {
     "data": {
      "text/plain": [
       "(1256, 16)"
      ]
     },
     "execution_count": 5,
     "metadata": {},
     "output_type": "execute_result"
    }
   ],
   "source": [
    "GBBO_df.shape"
   ]
  },
  {
   "cell_type": "code",
   "execution_count": 6,
   "id": "226a8a47",
   "metadata": {},
   "outputs": [
    {
     "data": {
      "text/html": [
       "<div>\n",
       "<style scoped>\n",
       "    .dataframe tbody tr th:only-of-type {\n",
       "        vertical-align: middle;\n",
       "    }\n",
       "\n",
       "    .dataframe tbody tr th {\n",
       "        vertical-align: top;\n",
       "    }\n",
       "\n",
       "    .dataframe thead th {\n",
       "        text-align: right;\n",
       "    }\n",
       "</style>\n",
       "<table border=\"1\" class=\"dataframe\">\n",
       "  <thead>\n",
       "    <tr style=\"text-align: right;\">\n",
       "      <th></th>\n",
       "      <th>Baker</th>\n",
       "      <th>Season</th>\n",
       "    </tr>\n",
       "  </thead>\n",
       "  <tbody>\n",
       "    <tr>\n",
       "      <th>1008</th>\n",
       "      <td>Dan</td>\n",
       "      <td>Series 10</td>\n",
       "    </tr>\n",
       "    <tr>\n",
       "      <th>888</th>\n",
       "      <td>Dan</td>\n",
       "      <td>Series 9</td>\n",
       "    </tr>\n",
       "    <tr>\n",
       "      <th>1</th>\n",
       "      <td>David</td>\n",
       "      <td>Series 1</td>\n",
       "    </tr>\n",
       "    <tr>\n",
       "      <th>1009</th>\n",
       "      <td>David</td>\n",
       "      <td>Series 10</td>\n",
       "    </tr>\n",
       "    <tr>\n",
       "      <th>62</th>\n",
       "      <td>Ian</td>\n",
       "      <td>Series 2</td>\n",
       "    </tr>\n",
       "    <tr>\n",
       "      <th>529</th>\n",
       "      <td>Ian</td>\n",
       "      <td>Series 6</td>\n",
       "    </tr>\n",
       "    <tr>\n",
       "      <th>159</th>\n",
       "      <td>James</td>\n",
       "      <td>Series 3</td>\n",
       "    </tr>\n",
       "    <tr>\n",
       "      <th>768</th>\n",
       "      <td>James</td>\n",
       "      <td>Series 8</td>\n",
       "    </tr>\n",
       "    <tr>\n",
       "      <th>412</th>\n",
       "      <td>Kate</td>\n",
       "      <td>Series 5</td>\n",
       "    </tr>\n",
       "    <tr>\n",
       "      <th>650</th>\n",
       "      <td>Kate</td>\n",
       "      <td>Series 7</td>\n",
       "    </tr>\n",
       "    <tr>\n",
       "      <th>770</th>\n",
       "      <td>Kate</td>\n",
       "      <td>Series 8</td>\n",
       "    </tr>\n",
       "    <tr>\n",
       "      <th>6</th>\n",
       "      <td>Louise</td>\n",
       "      <td>Series 1</td>\n",
       "    </tr>\n",
       "    <tr>\n",
       "      <th>652</th>\n",
       "      <td>Louise</td>\n",
       "      <td>Series 7</td>\n",
       "    </tr>\n",
       "    <tr>\n",
       "      <th>7</th>\n",
       "      <td>Mark</td>\n",
       "      <td>Series 1</td>\n",
       "    </tr>\n",
       "    <tr>\n",
       "      <th>285</th>\n",
       "      <td>Mark</td>\n",
       "      <td>Series 4</td>\n",
       "    </tr>\n",
       "    <tr>\n",
       "      <th>1013</th>\n",
       "      <td>Michael</td>\n",
       "      <td>Series 10</td>\n",
       "    </tr>\n",
       "    <tr>\n",
       "      <th>653</th>\n",
       "      <td>Michael</td>\n",
       "      <td>Series 7</td>\n",
       "    </tr>\n",
       "    <tr>\n",
       "      <th>1145</th>\n",
       "      <td>Peter</td>\n",
       "      <td>Series 11</td>\n",
       "    </tr>\n",
       "    <tr>\n",
       "      <th>163</th>\n",
       "      <td>Peter</td>\n",
       "      <td>Series 3</td>\n",
       "    </tr>\n",
       "    <tr>\n",
       "      <th>772</th>\n",
       "      <td>Peter</td>\n",
       "      <td>Series 8</td>\n",
       "    </tr>\n",
       "    <tr>\n",
       "      <th>68</th>\n",
       "      <td>Robert</td>\n",
       "      <td>Series 2</td>\n",
       "    </tr>\n",
       "    <tr>\n",
       "      <th>286</th>\n",
       "      <td>Robert</td>\n",
       "      <td>Series 4</td>\n",
       "    </tr>\n",
       "    <tr>\n",
       "      <th>287</th>\n",
       "      <td>Ruby</td>\n",
       "      <td>Series 4</td>\n",
       "    </tr>\n",
       "    <tr>\n",
       "      <th>896</th>\n",
       "      <td>Ruby</td>\n",
       "      <td>Series 9</td>\n",
       "    </tr>\n",
       "    <tr>\n",
       "      <th>656</th>\n",
       "      <td>Tom</td>\n",
       "      <td>Series 7</td>\n",
       "    </tr>\n",
       "    <tr>\n",
       "      <th>776</th>\n",
       "      <td>Tom</td>\n",
       "      <td>Series 8</td>\n",
       "    </tr>\n",
       "  </tbody>\n",
       "</table>\n",
       "</div>"
      ],
      "text/plain": [
       "        Baker     Season\n",
       "1008      Dan  Series 10\n",
       "888       Dan   Series 9\n",
       "1       David   Series 1\n",
       "1009    David  Series 10\n",
       "62        Ian   Series 2\n",
       "529       Ian   Series 6\n",
       "159     James   Series 3\n",
       "768     James   Series 8\n",
       "412      Kate   Series 5\n",
       "650      Kate   Series 7\n",
       "770      Kate   Series 8\n",
       "6      Louise   Series 1\n",
       "652    Louise   Series 7\n",
       "7        Mark   Series 1\n",
       "285      Mark   Series 4\n",
       "1013  Michael  Series 10\n",
       "653   Michael   Series 7\n",
       "1145    Peter  Series 11\n",
       "163     Peter   Series 3\n",
       "772     Peter   Series 8\n",
       "68     Robert   Series 2\n",
       "286    Robert   Series 4\n",
       "287      Ruby   Series 4\n",
       "896      Ruby   Series 9\n",
       "656       Tom   Series 7\n",
       "776       Tom   Series 8"
      ]
     },
     "execution_count": 6,
     "metadata": {},
     "output_type": "execute_result"
    }
   ],
   "source": [
    "#Find any baker's who's name appears in multiple seasons\n",
    "double_baker_df=GBBO_df[GBBO_df.groupby('Baker')['Season'].transform('nunique') > 1]\n",
    "double_baker_df[['Baker','Season']].drop_duplicates().sort_values(['Baker','Season'],ascending=[True,True])"
   ]
  },
  {
   "cell_type": "code",
   "execution_count": 7,
   "id": "6615d9bc",
   "metadata": {},
   "outputs": [
    {
     "name": "stdout",
     "output_type": "stream",
     "text": [
      "<class 'pandas.core.frame.DataFrame'>\n",
      "RangeIndex: 1256 entries, 0 to 1255\n",
      "Data columns (total 16 columns):\n",
      " #   Column                 Non-Null Count  Dtype  \n",
      "---  ------                 --------------  -----  \n",
      " 0   Season                 1256 non-null   object \n",
      " 1   Judge                  1256 non-null   object \n",
      " 2   Week Number            1256 non-null   int64  \n",
      " 3   Week Name              1256 non-null   object \n",
      " 4   Baker                  1256 non-null   object \n",
      " 5   Gender                 1256 non-null   object \n",
      " 6   Age                    1256 non-null   int64  \n",
      " 7   Signature Handshake    1256 non-null   int64  \n",
      " 8   Technical Rank         771 non-null    float64\n",
      " 9   Showstopper Handshake  1256 non-null   int64  \n",
      " 10  Favorite               1256 non-null   float64\n",
      " 11  Least Favorite         1256 non-null   int64  \n",
      " 12  Star Baker             1256 non-null   int64  \n",
      " 13  Eliminated             1256 non-null   int64  \n",
      " 14  Competed               1256 non-null   int64  \n",
      " 15  Winner                 1256 non-null   int64  \n",
      "dtypes: float64(2), int64(9), object(5)\n",
      "memory usage: 157.1+ KB\n"
     ]
    }
   ],
   "source": [
    "GBBO_df.info()\n",
    "#notice several missing values for Technical Rank."
   ]
  },
  {
   "cell_type": "code",
   "execution_count": 8,
   "id": "d0042007",
   "metadata": {},
   "outputs": [
    {
     "data": {
      "text/html": [
       "<div>\n",
       "<style scoped>\n",
       "    .dataframe tbody tr th:only-of-type {\n",
       "        vertical-align: middle;\n",
       "    }\n",
       "\n",
       "    .dataframe tbody tr th {\n",
       "        vertical-align: top;\n",
       "    }\n",
       "\n",
       "    .dataframe thead th {\n",
       "        text-align: right;\n",
       "    }\n",
       "</style>\n",
       "<table border=\"1\" class=\"dataframe\">\n",
       "  <thead>\n",
       "    <tr style=\"text-align: right;\">\n",
       "      <th></th>\n",
       "      <th>Week Number</th>\n",
       "      <th>Age</th>\n",
       "      <th>Signature Handshake</th>\n",
       "      <th>Technical Rank</th>\n",
       "      <th>Showstopper Handshake</th>\n",
       "      <th>Favorite</th>\n",
       "      <th>Least Favorite</th>\n",
       "      <th>Star Baker</th>\n",
       "      <th>Eliminated</th>\n",
       "      <th>Competed</th>\n",
       "      <th>Winner</th>\n",
       "    </tr>\n",
       "  </thead>\n",
       "  <tbody>\n",
       "    <tr>\n",
       "      <th>count</th>\n",
       "      <td>1256.000000</td>\n",
       "      <td>1256.000000</td>\n",
       "      <td>1256.000000</td>\n",
       "      <td>771.000000</td>\n",
       "      <td>1256.000000</td>\n",
       "      <td>1256.000000</td>\n",
       "      <td>1256.000000</td>\n",
       "      <td>1256.000000</td>\n",
       "      <td>1256.000000</td>\n",
       "      <td>1256.000000</td>\n",
       "      <td>1256.000000</td>\n",
       "    </tr>\n",
       "    <tr>\n",
       "      <th>mean</th>\n",
       "      <td>5.328025</td>\n",
       "      <td>37.449045</td>\n",
       "      <td>0.024682</td>\n",
       "      <td>4.837873</td>\n",
       "      <td>0.003185</td>\n",
       "      <td>0.164013</td>\n",
       "      <td>0.170382</td>\n",
       "      <td>0.078025</td>\n",
       "      <td>0.095541</td>\n",
       "      <td>0.619427</td>\n",
       "      <td>0.082803</td>\n",
       "    </tr>\n",
       "    <tr>\n",
       "      <th>std</th>\n",
       "      <td>2.830237</td>\n",
       "      <td>12.841254</td>\n",
       "      <td>0.155214</td>\n",
       "      <td>2.967953</td>\n",
       "      <td>0.056366</td>\n",
       "      <td>0.369896</td>\n",
       "      <td>0.376118</td>\n",
       "      <td>0.268319</td>\n",
       "      <td>0.294078</td>\n",
       "      <td>0.485721</td>\n",
       "      <td>0.275693</td>\n",
       "    </tr>\n",
       "    <tr>\n",
       "      <th>min</th>\n",
       "      <td>1.000000</td>\n",
       "      <td>17.000000</td>\n",
       "      <td>0.000000</td>\n",
       "      <td>1.000000</td>\n",
       "      <td>0.000000</td>\n",
       "      <td>0.000000</td>\n",
       "      <td>0.000000</td>\n",
       "      <td>0.000000</td>\n",
       "      <td>0.000000</td>\n",
       "      <td>0.000000</td>\n",
       "      <td>0.000000</td>\n",
       "    </tr>\n",
       "    <tr>\n",
       "      <th>25%</th>\n",
       "      <td>3.000000</td>\n",
       "      <td>29.000000</td>\n",
       "      <td>0.000000</td>\n",
       "      <td>2.000000</td>\n",
       "      <td>0.000000</td>\n",
       "      <td>0.000000</td>\n",
       "      <td>0.000000</td>\n",
       "      <td>0.000000</td>\n",
       "      <td>0.000000</td>\n",
       "      <td>0.000000</td>\n",
       "      <td>0.000000</td>\n",
       "    </tr>\n",
       "    <tr>\n",
       "      <th>50%</th>\n",
       "      <td>5.000000</td>\n",
       "      <td>33.500000</td>\n",
       "      <td>0.000000</td>\n",
       "      <td>4.000000</td>\n",
       "      <td>0.000000</td>\n",
       "      <td>0.000000</td>\n",
       "      <td>0.000000</td>\n",
       "      <td>0.000000</td>\n",
       "      <td>0.000000</td>\n",
       "      <td>1.000000</td>\n",
       "      <td>0.000000</td>\n",
       "    </tr>\n",
       "    <tr>\n",
       "      <th>75%</th>\n",
       "      <td>8.000000</td>\n",
       "      <td>46.000000</td>\n",
       "      <td>0.000000</td>\n",
       "      <td>7.000000</td>\n",
       "      <td>0.000000</td>\n",
       "      <td>0.000000</td>\n",
       "      <td>0.000000</td>\n",
       "      <td>0.000000</td>\n",
       "      <td>0.000000</td>\n",
       "      <td>1.000000</td>\n",
       "      <td>0.000000</td>\n",
       "    </tr>\n",
       "    <tr>\n",
       "      <th>max</th>\n",
       "      <td>10.000000</td>\n",
       "      <td>71.000000</td>\n",
       "      <td>1.000000</td>\n",
       "      <td>13.000000</td>\n",
       "      <td>1.000000</td>\n",
       "      <td>1.000000</td>\n",
       "      <td>1.000000</td>\n",
       "      <td>1.000000</td>\n",
       "      <td>1.000000</td>\n",
       "      <td>1.000000</td>\n",
       "      <td>1.000000</td>\n",
       "    </tr>\n",
       "  </tbody>\n",
       "</table>\n",
       "</div>"
      ],
      "text/plain": [
       "       Week Number          Age  Signature Handshake  Technical Rank  \\\n",
       "count  1256.000000  1256.000000          1256.000000      771.000000   \n",
       "mean      5.328025    37.449045             0.024682        4.837873   \n",
       "std       2.830237    12.841254             0.155214        2.967953   \n",
       "min       1.000000    17.000000             0.000000        1.000000   \n",
       "25%       3.000000    29.000000             0.000000        2.000000   \n",
       "50%       5.000000    33.500000             0.000000        4.000000   \n",
       "75%       8.000000    46.000000             0.000000        7.000000   \n",
       "max      10.000000    71.000000             1.000000       13.000000   \n",
       "\n",
       "       Showstopper Handshake     Favorite  Least Favorite   Star Baker  \\\n",
       "count            1256.000000  1256.000000     1256.000000  1256.000000   \n",
       "mean                0.003185     0.164013        0.170382     0.078025   \n",
       "std                 0.056366     0.369896        0.376118     0.268319   \n",
       "min                 0.000000     0.000000        0.000000     0.000000   \n",
       "25%                 0.000000     0.000000        0.000000     0.000000   \n",
       "50%                 0.000000     0.000000        0.000000     0.000000   \n",
       "75%                 0.000000     0.000000        0.000000     0.000000   \n",
       "max                 1.000000     1.000000        1.000000     1.000000   \n",
       "\n",
       "        Eliminated     Competed       Winner  \n",
       "count  1256.000000  1256.000000  1256.000000  \n",
       "mean      0.095541     0.619427     0.082803  \n",
       "std       0.294078     0.485721     0.275693  \n",
       "min       0.000000     0.000000     0.000000  \n",
       "25%       0.000000     0.000000     0.000000  \n",
       "50%       0.000000     1.000000     0.000000  \n",
       "75%       0.000000     1.000000     0.000000  \n",
       "max       1.000000     1.000000     1.000000  "
      ]
     },
     "execution_count": 8,
     "metadata": {},
     "output_type": "execute_result"
    }
   ],
   "source": [
    "GBBO_df.describe()"
   ]
  },
  {
   "cell_type": "code",
   "execution_count": 9,
   "id": "0db61f17",
   "metadata": {},
   "outputs": [
    {
     "data": {
      "text/plain": [
       "Season                    object\n",
       "Judge                     object\n",
       "Week Number                int64\n",
       "Week Name                 object\n",
       "Baker                     object\n",
       "Gender                    object\n",
       "Age                        int64\n",
       "Signature Handshake        int64\n",
       "Technical Rank           float64\n",
       "Showstopper Handshake      int64\n",
       "Favorite                 float64\n",
       "Least Favorite             int64\n",
       "Star Baker                 int64\n",
       "Eliminated                 int64\n",
       "Competed                   int64\n",
       "Winner                     int64\n",
       "dtype: object"
      ]
     },
     "execution_count": 9,
     "metadata": {},
     "output_type": "execute_result"
    }
   ],
   "source": [
    "GBBO_df.dtypes"
   ]
  },
  {
   "cell_type": "markdown",
   "id": "54d6e520",
   "metadata": {},
   "source": [
    "#### Renaming Columns and getting data types"
   ]
  },
  {
   "cell_type": "code",
   "execution_count": 10,
   "id": "1f1d48b2",
   "metadata": {
    "scrolled": true
   },
   "outputs": [
    {
     "data": {
      "text/plain": [
       "['Season',\n",
       " 'Judge',\n",
       " 'Week Number',\n",
       " 'Week Name',\n",
       " 'Baker',\n",
       " 'Gender',\n",
       " 'Age',\n",
       " 'Signature Handshake',\n",
       " 'Technical Rank',\n",
       " 'Showstopper Handshake',\n",
       " 'Favorite',\n",
       " 'Least Favorite',\n",
       " 'Star Baker',\n",
       " 'Eliminated',\n",
       " 'Competed',\n",
       " 'Winner']"
      ]
     },
     "execution_count": 10,
     "metadata": {},
     "output_type": "execute_result"
    }
   ],
   "source": [
    "list(GBBO_df.columns)"
   ]
  },
  {
   "cell_type": "code",
   "execution_count": 11,
   "id": "04a8e29e",
   "metadata": {},
   "outputs": [],
   "source": [
    "#I will now rename the columns to be a bit easier to program with\n",
    "GBBO_df.rename(columns = {'Week Number':'Week_Number',\n",
    "                          'Week Name':'Week_Name', \n",
    "                          'Signature Handshake':'Signature_Handshake',\n",
    "                          'Technical Rank':'Technical_Rank',\n",
    "                          'Showstopper Handshake':'Showstopper_Handshake',\n",
    "                          'Least Favorite':'Least_Favorite',\n",
    "                          'Star Baker':'Star_Baker'},\n",
    "              inplace = True)"
   ]
  },
  {
   "cell_type": "markdown",
   "id": "89b5e83d",
   "metadata": {},
   "source": [
    "#### Initial Summary on Data"
   ]
  },
  {
   "cell_type": "code",
   "execution_count": 12,
   "id": "36d54b9c",
   "metadata": {},
   "outputs": [
    {
     "name": "stdout",
     "output_type": "stream",
     "text": [
      "Over 11 seasons, The Great British Bake Off has seen 132 bakers, 68 of whom identify as female and 64 whom identify as male. The series has also seen bakers range in ages from the youngest of 17 years old, to the oldest of 71 years old. Paul, one of the judges, loves to give out handshakes after exceptional bakes and we have seen 31 after Signature Challenges, and 4 after Showstopper challenges.\n"
     ]
    }
   ],
   "source": [
    "Unique_Bakers = GBBO_df[['Baker','Season']].drop_duplicates().shape[0]\n",
    "Gender_Counts = GBBO_df.groupby(['Baker','Season'],as_index = False)['Gender'].value_counts().Gender.value_counts()\n",
    "Num_Sig_Handshakes = GBBO_df.Signature_Handshake.sum()\n",
    "Num_Show_Handshakes = GBBO_df.Showstopper_Handshake.sum()\n",
    "Youngest_Baker = GBBO_df.Age.min()\n",
    "Oldest_Baker = GBBO_df.Age.max()\n",
    "\n",
    "\n",
    "print(f'Over 11 seasons, The Great British Bake Off has seen {Unique_Bakers} bakers, \\\n",
    "{Gender_Counts[0]} of whom identify as female and {Gender_Counts[1]} whom identify as male. \\\n",
    "The series has also seen bakers range in ages from the youngest of {Youngest_Baker} years old, \\\n",
    "to the oldest of {Oldest_Baker} years old. Paul, one of the judges, loves to give out handshakes after exceptional bakes and \\\n",
    "we have seen {Num_Sig_Handshakes} after Signature Challenges, \\\n",
    "and {Num_Show_Handshakes} after Showstopper challenges.')"
   ]
  },
  {
   "cell_type": "code",
   "execution_count": 13,
   "id": "5014f5f5",
   "metadata": {},
   "outputs": [
    {
     "data": {
      "text/plain": [
       "Index(['Season', 'Judge', 'Week_Number', 'Week_Name', 'Baker', 'Gender', 'Age',\n",
       "       'Signature_Handshake', 'Technical_Rank', 'Showstopper_Handshake',\n",
       "       'Favorite', 'Least_Favorite', 'Star_Baker', 'Eliminated', 'Competed',\n",
       "       'Winner'],\n",
       "      dtype='object')"
      ]
     },
     "execution_count": 13,
     "metadata": {},
     "output_type": "execute_result"
    }
   ],
   "source": [
    "GBBO_df.columns"
   ]
  },
  {
   "cell_type": "markdown",
   "id": "5fdff913",
   "metadata": {},
   "source": [
    "### Data Manipulation for GBBO Data Set"
   ]
  },
  {
   "cell_type": "markdown",
   "id": "06be6dba",
   "metadata": {},
   "source": [
    "1. Season one operated differently than the rest of the seasons. We had multiple contestants leave each week, handshakes weren't a thing, and we don't have a full list of technical scores. We will remove season 1. \n",
    "2. We will convert Season and Week_Number to category data types.\n",
    "3. After further data exploration, we've discovered that the baker 'Brenden' was spelled 'Brendan'. "
   ]
  },
  {
   "cell_type": "markdown",
   "id": "1f514a59",
   "metadata": {},
   "source": [
    "#### Clean up 'Series' feature (Remove season 1, convert the data type to a category)"
   ]
  },
  {
   "cell_type": "code",
   "execution_count": 14,
   "id": "5e487900",
   "metadata": {},
   "outputs": [
    {
     "name": "stdout",
     "output_type": "stream",
     "text": [
      "['Series 2' 'Series 3' 'Series 4' 'Series 5' 'Series 6' 'Series 7'\n",
      " 'Series 8' 'Series 9' 'Series 10' 'Series 11']\n",
      "object\n"
     ]
    }
   ],
   "source": [
    "#Remove Season 1\n",
    "df = GBBO_df.loc[GBBO_df.Season != 'Series 1'].copy()\n",
    "print(df.Season.unique())\n",
    "print(df.Season.dtype)"
   ]
  },
  {
   "cell_type": "code",
   "execution_count": 15,
   "id": "d182197f",
   "metadata": {
    "scrolled": false
   },
   "outputs": [],
   "source": [
    "#Remove \"Series\" from the name \n",
    "df.Season = df.loc[:,'Season'].str.replace(\"Series \",\"\")"
   ]
  },
  {
   "cell_type": "code",
   "execution_count": 16,
   "id": "629334f4",
   "metadata": {
    "scrolled": false
   },
   "outputs": [],
   "source": [
    "#and convert the data type to a category.Warning is okay because we are not using a copy\n",
    "df.Season = df.loc[:,'Season'].astype('int').astype('category')"
   ]
  },
  {
   "cell_type": "markdown",
   "id": "1fcd0327",
   "metadata": {},
   "source": [
    "#### Clean up \"Week_Number\" (convert the data type to a category)"
   ]
  },
  {
   "cell_type": "code",
   "execution_count": 17,
   "id": "cbfb92c9",
   "metadata": {},
   "outputs": [],
   "source": [
    "#convert to a category. Warning is okay because wea re not using a copy\n",
    "df.Week_Number = df.loc[:,'Week_Number'].astype('category')"
   ]
  },
  {
   "cell_type": "markdown",
   "id": "e067674c",
   "metadata": {},
   "source": [
    "#### Fix Brenden"
   ]
  },
  {
   "cell_type": "code",
   "execution_count": 18,
   "id": "db35383c",
   "metadata": {},
   "outputs": [],
   "source": [
    "#Brenden's name is spelled incorrectly. Should be 'Brendan'\n",
    "df.loc[:,'Baker'].replace('Brenden','Brendan',inplace=True)"
   ]
  },
  {
   "cell_type": "markdown",
   "id": "f82be594",
   "metadata": {},
   "source": [
    "### Initial Data Exploration for our Challenges Dataset (Head, Shape, Info, Data Types & Describe)"
   ]
  },
  {
   "cell_type": "code",
   "execution_count": 19,
   "id": "4231b4ea",
   "metadata": {},
   "outputs": [],
   "source": [
    "url = 'https://raw.githubusercontent.com/rfordatascience/tidytuesday/master/data/2022/2022-10-25/challenges.csv'"
   ]
  },
  {
   "cell_type": "code",
   "execution_count": 20,
   "id": "f885ba01",
   "metadata": {},
   "outputs": [],
   "source": [
    "challenges = pd.read_csv(url)"
   ]
  },
  {
   "cell_type": "code",
   "execution_count": 21,
   "id": "abef36b4",
   "metadata": {},
   "outputs": [
    {
     "data": {
      "text/html": [
       "<div>\n",
       "<style scoped>\n",
       "    .dataframe tbody tr th:only-of-type {\n",
       "        vertical-align: middle;\n",
       "    }\n",
       "\n",
       "    .dataframe tbody tr th {\n",
       "        vertical-align: top;\n",
       "    }\n",
       "\n",
       "    .dataframe thead th {\n",
       "        text-align: right;\n",
       "    }\n",
       "</style>\n",
       "<table border=\"1\" class=\"dataframe\">\n",
       "  <thead>\n",
       "    <tr style=\"text-align: right;\">\n",
       "      <th></th>\n",
       "      <th>series</th>\n",
       "      <th>episode</th>\n",
       "      <th>baker</th>\n",
       "      <th>result</th>\n",
       "      <th>signature</th>\n",
       "      <th>technical</th>\n",
       "      <th>showstopper</th>\n",
       "    </tr>\n",
       "  </thead>\n",
       "  <tbody>\n",
       "    <tr>\n",
       "      <th>0</th>\n",
       "      <td>1</td>\n",
       "      <td>1</td>\n",
       "      <td>Annetha</td>\n",
       "      <td>IN</td>\n",
       "      <td>Light Jamaican Black Cakewith Strawberries and...</td>\n",
       "      <td>2.0</td>\n",
       "      <td>Red, White &amp; Blue Chocolate Cake with Cigarell...</td>\n",
       "    </tr>\n",
       "    <tr>\n",
       "      <th>1</th>\n",
       "      <td>1</td>\n",
       "      <td>1</td>\n",
       "      <td>David</td>\n",
       "      <td>IN</td>\n",
       "      <td>Chocolate Orange Cake</td>\n",
       "      <td>3.0</td>\n",
       "      <td>Black Forest Floor Gateaux with Moulded Chocol...</td>\n",
       "    </tr>\n",
       "    <tr>\n",
       "      <th>2</th>\n",
       "      <td>1</td>\n",
       "      <td>1</td>\n",
       "      <td>Edd</td>\n",
       "      <td>IN</td>\n",
       "      <td>Caramel Cinnamon and Banana Cake</td>\n",
       "      <td>1.0</td>\n",
       "      <td>NaN</td>\n",
       "    </tr>\n",
       "    <tr>\n",
       "      <th>3</th>\n",
       "      <td>1</td>\n",
       "      <td>1</td>\n",
       "      <td>Jasminder</td>\n",
       "      <td>IN</td>\n",
       "      <td>Fresh Mango and Passion Fruit Hummingbird Cake</td>\n",
       "      <td>NaN</td>\n",
       "      <td>NaN</td>\n",
       "    </tr>\n",
       "    <tr>\n",
       "      <th>4</th>\n",
       "      <td>1</td>\n",
       "      <td>1</td>\n",
       "      <td>Jonathan</td>\n",
       "      <td>IN</td>\n",
       "      <td>Carrot Cake with Lime and Cream Cheese Icing</td>\n",
       "      <td>9.0</td>\n",
       "      <td>Three Tiered White and Dark Chocolate with Alm...</td>\n",
       "    </tr>\n",
       "  </tbody>\n",
       "</table>\n",
       "</div>"
      ],
      "text/plain": [
       "   series  episode      baker result  \\\n",
       "0       1        1    Annetha     IN   \n",
       "1       1        1      David     IN   \n",
       "2       1        1        Edd     IN   \n",
       "3       1        1  Jasminder     IN   \n",
       "4       1        1   Jonathan     IN   \n",
       "\n",
       "                                           signature  technical  \\\n",
       "0  Light Jamaican Black Cakewith Strawberries and...        2.0   \n",
       "1                              Chocolate Orange Cake        3.0   \n",
       "2                   Caramel Cinnamon and Banana Cake        1.0   \n",
       "3     Fresh Mango and Passion Fruit Hummingbird Cake        NaN   \n",
       "4       Carrot Cake with Lime and Cream Cheese Icing        9.0   \n",
       "\n",
       "                                         showstopper  \n",
       "0  Red, White & Blue Chocolate Cake with Cigarell...  \n",
       "1  Black Forest Floor Gateaux with Moulded Chocol...  \n",
       "2                                                NaN  \n",
       "3                                                NaN  \n",
       "4  Three Tiered White and Dark Chocolate with Alm...  "
      ]
     },
     "execution_count": 21,
     "metadata": {},
     "output_type": "execute_result"
    }
   ],
   "source": [
    "challenges.head()"
   ]
  },
  {
   "cell_type": "code",
   "execution_count": 22,
   "id": "d194f787",
   "metadata": {},
   "outputs": [
    {
     "data": {
      "text/plain": [
       "array([ 1,  2,  3,  4,  5,  6,  7,  8,  9, 10])"
      ]
     },
     "execution_count": 22,
     "metadata": {},
     "output_type": "execute_result"
    }
   ],
   "source": [
    "challenges.series.unique()"
   ]
  },
  {
   "cell_type": "code",
   "execution_count": 23,
   "id": "a67127fe",
   "metadata": {},
   "outputs": [
    {
     "data": {
      "text/plain": [
       "(1136, 7)"
      ]
     },
     "execution_count": 23,
     "metadata": {},
     "output_type": "execute_result"
    }
   ],
   "source": [
    "challenges.shape"
   ]
  },
  {
   "cell_type": "code",
   "execution_count": 24,
   "id": "845cdeb9",
   "metadata": {},
   "outputs": [
    {
     "name": "stdout",
     "output_type": "stream",
     "text": [
      "<class 'pandas.core.frame.DataFrame'>\n",
      "RangeIndex: 1136 entries, 0 to 1135\n",
      "Data columns (total 7 columns):\n",
      " #   Column       Non-Null Count  Dtype  \n",
      "---  ------       --------------  -----  \n",
      " 0   series       1136 non-null   int64  \n",
      " 1   episode      1136 non-null   int64  \n",
      " 2   baker        1136 non-null   object \n",
      " 3   result       710 non-null    object \n",
      " 4   signature    703 non-null    object \n",
      " 5   technical    696 non-null    float64\n",
      " 6   showstopper  688 non-null    object \n",
      "dtypes: float64(1), int64(2), object(4)\n",
      "memory usage: 62.2+ KB\n"
     ]
    }
   ],
   "source": [
    "challenges.info()"
   ]
  },
  {
   "cell_type": "code",
   "execution_count": 25,
   "id": "148e1a2a",
   "metadata": {},
   "outputs": [
    {
     "data": {
      "text/html": [
       "<div>\n",
       "<style scoped>\n",
       "    .dataframe tbody tr th:only-of-type {\n",
       "        vertical-align: middle;\n",
       "    }\n",
       "\n",
       "    .dataframe tbody tr th {\n",
       "        vertical-align: top;\n",
       "    }\n",
       "\n",
       "    .dataframe thead th {\n",
       "        text-align: right;\n",
       "    }\n",
       "</style>\n",
       "<table border=\"1\" class=\"dataframe\">\n",
       "  <thead>\n",
       "    <tr style=\"text-align: right;\">\n",
       "      <th></th>\n",
       "      <th>series</th>\n",
       "      <th>episode</th>\n",
       "      <th>technical</th>\n",
       "    </tr>\n",
       "  </thead>\n",
       "  <tbody>\n",
       "    <tr>\n",
       "      <th>count</th>\n",
       "      <td>1136.000000</td>\n",
       "      <td>1136.000000</td>\n",
       "      <td>696.000000</td>\n",
       "    </tr>\n",
       "    <tr>\n",
       "      <th>mean</th>\n",
       "      <td>5.838028</td>\n",
       "      <td>5.309859</td>\n",
       "      <td>4.843391</td>\n",
       "    </tr>\n",
       "    <tr>\n",
       "      <th>std</th>\n",
       "      <td>2.734378</td>\n",
       "      <td>2.825143</td>\n",
       "      <td>2.976147</td>\n",
       "    </tr>\n",
       "    <tr>\n",
       "      <th>min</th>\n",
       "      <td>1.000000</td>\n",
       "      <td>1.000000</td>\n",
       "      <td>1.000000</td>\n",
       "    </tr>\n",
       "    <tr>\n",
       "      <th>25%</th>\n",
       "      <td>4.000000</td>\n",
       "      <td>3.000000</td>\n",
       "      <td>2.000000</td>\n",
       "    </tr>\n",
       "    <tr>\n",
       "      <th>50%</th>\n",
       "      <td>6.000000</td>\n",
       "      <td>5.000000</td>\n",
       "      <td>4.000000</td>\n",
       "    </tr>\n",
       "    <tr>\n",
       "      <th>75%</th>\n",
       "      <td>8.000000</td>\n",
       "      <td>8.000000</td>\n",
       "      <td>7.000000</td>\n",
       "    </tr>\n",
       "    <tr>\n",
       "      <th>max</th>\n",
       "      <td>10.000000</td>\n",
       "      <td>10.000000</td>\n",
       "      <td>13.000000</td>\n",
       "    </tr>\n",
       "  </tbody>\n",
       "</table>\n",
       "</div>"
      ],
      "text/plain": [
       "            series      episode   technical\n",
       "count  1136.000000  1136.000000  696.000000\n",
       "mean      5.838028     5.309859    4.843391\n",
       "std       2.734378     2.825143    2.976147\n",
       "min       1.000000     1.000000    1.000000\n",
       "25%       4.000000     3.000000    2.000000\n",
       "50%       6.000000     5.000000    4.000000\n",
       "75%       8.000000     8.000000    7.000000\n",
       "max      10.000000    10.000000   13.000000"
      ]
     },
     "execution_count": 25,
     "metadata": {},
     "output_type": "execute_result"
    }
   ],
   "source": [
    "challenges.describe()"
   ]
  },
  {
   "cell_type": "code",
   "execution_count": 26,
   "id": "a9dae1e3",
   "metadata": {},
   "outputs": [
    {
     "data": {
      "text/plain": [
       "series           int64\n",
       "episode          int64\n",
       "baker           object\n",
       "result          object\n",
       "signature       object\n",
       "technical      float64\n",
       "showstopper     object\n",
       "dtype: object"
      ]
     },
     "execution_count": 26,
     "metadata": {},
     "output_type": "execute_result"
    }
   ],
   "source": [
    "challenges.dtypes"
   ]
  },
  {
   "cell_type": "markdown",
   "id": "f2023ed4",
   "metadata": {},
   "source": [
    "### Data Manipulation for Challenges Data Set"
   ]
  },
  {
   "cell_type": "markdown",
   "id": "fc61dc75",
   "metadata": {},
   "source": [
    "1. Remove Season 1\n",
    "2. remove technical and result columns (overlap with GBBO dataset)\n",
    "3. Change Season and Week_Number to 'category' datatype to match the GBBO dataset."
   ]
  },
  {
   "cell_type": "code",
   "execution_count": 27,
   "id": "21ebe6a4",
   "metadata": {
    "scrolled": true
   },
   "outputs": [],
   "source": [
    "#remove series 1 to match our existing DF\n",
    "challenges=challenges.loc[(challenges.series != 1)]"
   ]
  },
  {
   "cell_type": "code",
   "execution_count": 28,
   "id": "47d4063f",
   "metadata": {},
   "outputs": [],
   "source": [
    "#drop superflous columns\n",
    "challenges.drop(columns=['result','technical'],inplace=True)"
   ]
  },
  {
   "cell_type": "code",
   "execution_count": 29,
   "id": "736d6662",
   "metadata": {},
   "outputs": [],
   "source": [
    "#Change col labels of the challenges dataset\n",
    "challenges.rename(columns={\"series\":\"Season\",\"episode\":\"Week_Number\",\"baker\":\"Baker\"},inplace=True)"
   ]
  },
  {
   "cell_type": "code",
   "execution_count": 30,
   "id": "9e127247",
   "metadata": {},
   "outputs": [],
   "source": [
    "#Change datatypes to match the GBBO datset\n",
    "challenges.Season=challenges.loc[:,'Season'].astype('category')\n",
    "challenges.Week_Number=challenges.loc[:,'Week_Number'].astype('category')"
   ]
  },
  {
   "cell_type": "markdown",
   "id": "2e684012",
   "metadata": {},
   "source": [
    "### Merging the datasets and doing further data Wrangling (dealing with nulls)"
   ]
  },
  {
   "cell_type": "markdown",
   "id": "4ce27862",
   "metadata": {},
   "source": [
    "1. Merge the dataframes on Season, Week Number and Baker.\n",
    "2. Remove un-necessary / redundant Colummns (result, technical, and judge).\n",
    "3. check and handle null values\n",
    "4. Remove rows where bakers have been eliminated."
   ]
  },
  {
   "cell_type": "code",
   "execution_count": 31,
   "id": "ae1c7cf2",
   "metadata": {},
   "outputs": [
    {
     "data": {
      "text/plain": [
       "(1196, 16)"
      ]
     },
     "execution_count": 31,
     "metadata": {},
     "output_type": "execute_result"
    }
   ],
   "source": [
    "df.shape"
   ]
  },
  {
   "cell_type": "code",
   "execution_count": 32,
   "id": "99f394cd",
   "metadata": {},
   "outputs": [
    {
     "data": {
      "text/plain": [
       "(1076, 5)"
      ]
     },
     "execution_count": 32,
     "metadata": {},
     "output_type": "execute_result"
    }
   ],
   "source": [
    "challenges.shape"
   ]
  },
  {
   "cell_type": "code",
   "execution_count": 33,
   "id": "a386b931",
   "metadata": {},
   "outputs": [],
   "source": [
    "#1.merge\n",
    "final_df = pd.merge(df,challenges,how = 'left', on=['Season','Week_Number','Baker'])\n"
   ]
  },
  {
   "cell_type": "code",
   "execution_count": 34,
   "id": "2b58fbe9",
   "metadata": {
    "scrolled": true
   },
   "outputs": [
    {
     "data": {
      "text/plain": [
       "(1196, 18)"
      ]
     },
     "execution_count": 34,
     "metadata": {},
     "output_type": "execute_result"
    }
   ],
   "source": [
    "final_df.shape"
   ]
  },
  {
   "cell_type": "code",
   "execution_count": 35,
   "id": "8e9d1215",
   "metadata": {},
   "outputs": [
    {
     "data": {
      "text/plain": [
       "Index(['Season', 'Judge', 'Week_Number', 'Week_Name', 'Baker', 'Gender', 'Age',\n",
       "       'Signature_Handshake', 'Technical_Rank', 'Showstopper_Handshake',\n",
       "       'Favorite', 'Least_Favorite', 'Star_Baker', 'Eliminated', 'Competed',\n",
       "       'Winner', 'signature', 'showstopper'],\n",
       "      dtype='object')"
      ]
     },
     "execution_count": 35,
     "metadata": {},
     "output_type": "execute_result"
    }
   ],
   "source": [
    "final_df.columns"
   ]
  },
  {
   "cell_type": "code",
   "execution_count": 36,
   "id": "76e429af",
   "metadata": {
    "scrolled": false
   },
   "outputs": [],
   "source": [
    "#2 drop judge column since Mary won't be a judge moving forward \n",
    "final_df.drop(columns=['Judge'],inplace=True)"
   ]
  },
  {
   "cell_type": "code",
   "execution_count": 37,
   "id": "9720f05b",
   "metadata": {},
   "outputs": [],
   "source": [
    "#2.dropping competed \n",
    "final_df.drop(columns='Competed',inplace=True)"
   ]
  },
  {
   "cell_type": "code",
   "execution_count": 38,
   "id": "f0edbf07",
   "metadata": {},
   "outputs": [],
   "source": [
    "#2. dropping season 11\n",
    "final_df = final_df.loc[final_df.Season!=11]"
   ]
  },
  {
   "cell_type": "code",
   "execution_count": 39,
   "id": "747442af",
   "metadata": {},
   "outputs": [
    {
     "data": {
      "text/plain": [
       "Season                     0\n",
       "Week_Number                0\n",
       "Week_Name                  0\n",
       "Baker                      0\n",
       "Gender                     0\n",
       "Age                        0\n",
       "Signature_Handshake        0\n",
       "Technical_Rank           409\n",
       "Showstopper_Handshake      0\n",
       "Favorite                   0\n",
       "Least_Favorite             0\n",
       "Star_Baker                 0\n",
       "Eliminated                 0\n",
       "Winner                     0\n",
       "signature                409\n",
       "showstopper              421\n",
       "dtype: int64"
      ]
     },
     "execution_count": 39,
     "metadata": {},
     "output_type": "execute_result"
    }
   ],
   "source": [
    "#3.investigate nulls\n",
    "final_df.isnull().sum()"
   ]
  },
  {
   "cell_type": "markdown",
   "id": "7788cc0b",
   "metadata": {},
   "source": [
    "#### Manually investigate technical_rank nulls"
   ]
  },
  {
   "cell_type": "code",
   "execution_count": 40,
   "id": "f28b70d5",
   "metadata": {},
   "outputs": [
    {
     "data": {
      "text/html": [
       "<div>\n",
       "<style scoped>\n",
       "    .dataframe tbody tr th:only-of-type {\n",
       "        vertical-align: middle;\n",
       "    }\n",
       "\n",
       "    .dataframe tbody tr th {\n",
       "        vertical-align: top;\n",
       "    }\n",
       "\n",
       "    .dataframe thead th {\n",
       "        text-align: right;\n",
       "    }\n",
       "</style>\n",
       "<table border=\"1\" class=\"dataframe\">\n",
       "  <thead>\n",
       "    <tr style=\"text-align: right;\">\n",
       "      <th></th>\n",
       "      <th>Season</th>\n",
       "      <th>Week_Number</th>\n",
       "      <th>Week_Name</th>\n",
       "      <th>Baker</th>\n",
       "      <th>Gender</th>\n",
       "      <th>Age</th>\n",
       "      <th>Signature_Handshake</th>\n",
       "      <th>Technical_Rank</th>\n",
       "      <th>Showstopper_Handshake</th>\n",
       "      <th>Favorite</th>\n",
       "      <th>Least_Favorite</th>\n",
       "      <th>Star_Baker</th>\n",
       "      <th>Eliminated</th>\n",
       "      <th>Winner</th>\n",
       "      <th>signature</th>\n",
       "      <th>showstopper</th>\n",
       "    </tr>\n",
       "  </thead>\n",
       "  <tbody>\n",
       "    <tr>\n",
       "      <th>584</th>\n",
       "      <td>6</td>\n",
       "      <td>10</td>\n",
       "      <td>Final</td>\n",
       "      <td>Tamal</td>\n",
       "      <td>M</td>\n",
       "      <td>29</td>\n",
       "      <td>0</td>\n",
       "      <td>NaN</td>\n",
       "      <td>0</td>\n",
       "      <td>0.0</td>\n",
       "      <td>0</td>\n",
       "      <td>0</td>\n",
       "      <td>1</td>\n",
       "      <td>0</td>\n",
       "      <td>Cinnamon and Apple &amp; Toffee and Marmalade Iced...</td>\n",
       "      <td>Sticky Toffee Pudding Cake</td>\n",
       "    </tr>\n",
       "  </tbody>\n",
       "</table>\n",
       "</div>"
      ],
      "text/plain": [
       "     Season Week_Number Week_Name  Baker Gender  Age  Signature_Handshake  \\\n",
       "584       6          10     Final  Tamal      M   29                    0   \n",
       "\n",
       "     Technical_Rank  Showstopper_Handshake  Favorite  Least_Favorite  \\\n",
       "584             NaN                      0       0.0               0   \n",
       "\n",
       "     Star_Baker  Eliminated  Winner  \\\n",
       "584           0           1       0   \n",
       "\n",
       "                                             signature  \\\n",
       "584  Cinnamon and Apple & Toffee and Marmalade Iced...   \n",
       "\n",
       "                    showstopper  \n",
       "584  Sticky Toffee Pudding Cake  "
      ]
     },
     "metadata": {},
     "output_type": "display_data"
    },
    {
     "data": {
      "text/html": [
       "<div>\n",
       "<style scoped>\n",
       "    .dataframe tbody tr th:only-of-type {\n",
       "        vertical-align: middle;\n",
       "    }\n",
       "\n",
       "    .dataframe tbody tr th {\n",
       "        vertical-align: top;\n",
       "    }\n",
       "\n",
       "    .dataframe thead th {\n",
       "        text-align: right;\n",
       "    }\n",
       "</style>\n",
       "<table border=\"1\" class=\"dataframe\">\n",
       "  <thead>\n",
       "    <tr style=\"text-align: right;\">\n",
       "      <th></th>\n",
       "      <th>Season</th>\n",
       "      <th>Week_Number</th>\n",
       "      <th>Week_Name</th>\n",
       "      <th>Baker</th>\n",
       "      <th>Gender</th>\n",
       "      <th>Age</th>\n",
       "      <th>Signature_Handshake</th>\n",
       "      <th>Technical_Rank</th>\n",
       "      <th>Showstopper_Handshake</th>\n",
       "      <th>Favorite</th>\n",
       "      <th>Least_Favorite</th>\n",
       "      <th>Star_Baker</th>\n",
       "      <th>Eliminated</th>\n",
       "      <th>Winner</th>\n",
       "      <th>signature</th>\n",
       "      <th>showstopper</th>\n",
       "    </tr>\n",
       "  </thead>\n",
       "  <tbody>\n",
       "    <tr>\n",
       "      <th>584</th>\n",
       "      <td>6</td>\n",
       "      <td>10</td>\n",
       "      <td>Final</td>\n",
       "      <td>Tamal</td>\n",
       "      <td>M</td>\n",
       "      <td>29</td>\n",
       "      <td>0</td>\n",
       "      <td>NaN</td>\n",
       "      <td>0</td>\n",
       "      <td>0.0</td>\n",
       "      <td>0</td>\n",
       "      <td>0</td>\n",
       "      <td>1</td>\n",
       "      <td>0</td>\n",
       "      <td>Cinnamon and Apple &amp; Toffee and Marmalade Iced...</td>\n",
       "      <td>Sticky Toffee Pudding Cake</td>\n",
       "    </tr>\n",
       "  </tbody>\n",
       "</table>\n",
       "</div>"
      ],
      "text/plain": [
       "     Season Week_Number Week_Name  Baker Gender  Age  Signature_Handshake  \\\n",
       "584       6          10     Final  Tamal      M   29                    0   \n",
       "\n",
       "     Technical_Rank  Showstopper_Handshake  Favorite  Least_Favorite  \\\n",
       "584             NaN                      0       0.0               0   \n",
       "\n",
       "     Star_Baker  Eliminated  Winner  \\\n",
       "584           0           1       0   \n",
       "\n",
       "                                             signature  \\\n",
       "584  Cinnamon and Apple & Toffee and Marmalade Iced...   \n",
       "\n",
       "                    showstopper  \n",
       "584  Sticky Toffee Pudding Cake  "
      ]
     },
     "metadata": {},
     "output_type": "display_data"
    }
   ],
   "source": [
    "#lets find all rows of technical rank nulls that are not null for both signature and showstopper\n",
    "delete = final_df[final_df.Technical_Rank.isna()]\n",
    "\n",
    "\n",
    "display(delete.loc[delete.signature.notnull()])\n",
    "display(delete.loc[delete.showstopper.notnull()])"
   ]
  },
  {
   "cell_type": "markdown",
   "id": "a0e03d9a",
   "metadata": {},
   "source": [
    "We can use wikipedia to fill in the technical rank"
   ]
  },
  {
   "cell_type": "code",
   "execution_count": 41,
   "id": "47efa705",
   "metadata": {},
   "outputs": [],
   "source": [
    "#Tamal got 3rd in the competition\n",
    "final_df.loc[584,'Technical_Rank'] = 3"
   ]
  },
  {
   "cell_type": "markdown",
   "id": "bd123139",
   "metadata": {},
   "source": [
    "The remaining nulls are from bakers that were eliminated in the previous week\n"
   ]
  },
  {
   "cell_type": "code",
   "execution_count": 42,
   "id": "54018a29",
   "metadata": {},
   "outputs": [],
   "source": [
    "final_df = final_df.loc[final_df.Technical_Rank.notnull()]"
   ]
  },
  {
   "cell_type": "markdown",
   "id": "ab771a88",
   "metadata": {},
   "source": [
    "#### Manually investigate showstopper nulls"
   ]
  },
  {
   "cell_type": "code",
   "execution_count": 43,
   "id": "4eae0bff",
   "metadata": {
    "scrolled": true
   },
   "outputs": [
    {
     "data": {
      "text/html": [
       "<div>\n",
       "<style scoped>\n",
       "    .dataframe tbody tr th:only-of-type {\n",
       "        vertical-align: middle;\n",
       "    }\n",
       "\n",
       "    .dataframe tbody tr th {\n",
       "        vertical-align: top;\n",
       "    }\n",
       "\n",
       "    .dataframe thead th {\n",
       "        text-align: right;\n",
       "    }\n",
       "</style>\n",
       "<table border=\"1\" class=\"dataframe\">\n",
       "  <thead>\n",
       "    <tr style=\"text-align: right;\">\n",
       "      <th></th>\n",
       "      <th>Season</th>\n",
       "      <th>Week_Number</th>\n",
       "      <th>Week_Name</th>\n",
       "      <th>Baker</th>\n",
       "      <th>Gender</th>\n",
       "      <th>Age</th>\n",
       "      <th>Signature_Handshake</th>\n",
       "      <th>Technical_Rank</th>\n",
       "      <th>Showstopper_Handshake</th>\n",
       "      <th>Favorite</th>\n",
       "      <th>Least_Favorite</th>\n",
       "      <th>Star_Baker</th>\n",
       "      <th>Eliminated</th>\n",
       "      <th>Winner</th>\n",
       "      <th>signature</th>\n",
       "      <th>showstopper</th>\n",
       "    </tr>\n",
       "  </thead>\n",
       "  <tbody>\n",
       "    <tr>\n",
       "      <th>2</th>\n",
       "      <td>2</td>\n",
       "      <td>1</td>\n",
       "      <td>Cake</td>\n",
       "      <td>Ian</td>\n",
       "      <td>M</td>\n",
       "      <td>40</td>\n",
       "      <td>0</td>\n",
       "      <td>10.0</td>\n",
       "      <td>0</td>\n",
       "      <td>0.0</td>\n",
       "      <td>0</td>\n",
       "      <td>0</td>\n",
       "      <td>0</td>\n",
       "      <td>0</td>\n",
       "      <td>Apple and Cinnamon Cupcakes</td>\n",
       "      <td>NaN</td>\n",
       "    </tr>\n",
       "    <tr>\n",
       "      <th>4</th>\n",
       "      <td>2</td>\n",
       "      <td>1</td>\n",
       "      <td>Cake</td>\n",
       "      <td>Jason</td>\n",
       "      <td>M</td>\n",
       "      <td>19</td>\n",
       "      <td>0</td>\n",
       "      <td>6.0</td>\n",
       "      <td>0</td>\n",
       "      <td>0.0</td>\n",
       "      <td>0</td>\n",
       "      <td>0</td>\n",
       "      <td>0</td>\n",
       "      <td>0</td>\n",
       "      <td>Lemon Meringue CupcakesApple and Cinnamon Cupc...</td>\n",
       "      <td>NaN</td>\n",
       "    </tr>\n",
       "    <tr>\n",
       "      <th>10</th>\n",
       "      <td>2</td>\n",
       "      <td>1</td>\n",
       "      <td>Cake</td>\n",
       "      <td>Urvashi</td>\n",
       "      <td>F</td>\n",
       "      <td>40</td>\n",
       "      <td>0</td>\n",
       "      <td>7.0</td>\n",
       "      <td>0</td>\n",
       "      <td>0.0</td>\n",
       "      <td>0</td>\n",
       "      <td>0</td>\n",
       "      <td>0</td>\n",
       "      <td>0</td>\n",
       "      <td>Cherry Blossom CupcakesJapanese Lime Cupcakes</td>\n",
       "      <td>NaN</td>\n",
       "    </tr>\n",
       "    <tr>\n",
       "      <th>11</th>\n",
       "      <td>2</td>\n",
       "      <td>1</td>\n",
       "      <td>Cake</td>\n",
       "      <td>Yasmin</td>\n",
       "      <td>F</td>\n",
       "      <td>43</td>\n",
       "      <td>0</td>\n",
       "      <td>5.0</td>\n",
       "      <td>0</td>\n",
       "      <td>0.0</td>\n",
       "      <td>0</td>\n",
       "      <td>0</td>\n",
       "      <td>0</td>\n",
       "      <td>0</td>\n",
       "      <td>Cardamom and Pomegranate Cupcakes</td>\n",
       "      <td>NaN</td>\n",
       "    </tr>\n",
       "    <tr>\n",
       "      <th>14</th>\n",
       "      <td>2</td>\n",
       "      <td>2</td>\n",
       "      <td>Tarts</td>\n",
       "      <td>Ian</td>\n",
       "      <td>M</td>\n",
       "      <td>40</td>\n",
       "      <td>0</td>\n",
       "      <td>2.0</td>\n",
       "      <td>0</td>\n",
       "      <td>1.0</td>\n",
       "      <td>0</td>\n",
       "      <td>0</td>\n",
       "      <td>0</td>\n",
       "      <td>0</td>\n",
       "      <td>Stilton, Spinach and New Potato Quichewith Pap...</td>\n",
       "      <td>NaN</td>\n",
       "    </tr>\n",
       "    <tr>\n",
       "      <th>24</th>\n",
       "      <td>2</td>\n",
       "      <td>3</td>\n",
       "      <td>Bread</td>\n",
       "      <td>Ben</td>\n",
       "      <td>M</td>\n",
       "      <td>31</td>\n",
       "      <td>0</td>\n",
       "      <td>3.0</td>\n",
       "      <td>0</td>\n",
       "      <td>0.0</td>\n",
       "      <td>0</td>\n",
       "      <td>0</td>\n",
       "      <td>0</td>\n",
       "      <td>0</td>\n",
       "      <td>Walnut, Raisin and Rosemary Loaf</td>\n",
       "      <td>NaN</td>\n",
       "    </tr>\n",
       "    <tr>\n",
       "      <th>28</th>\n",
       "      <td>2</td>\n",
       "      <td>3</td>\n",
       "      <td>Bread</td>\n",
       "      <td>Jason</td>\n",
       "      <td>M</td>\n",
       "      <td>19</td>\n",
       "      <td>0</td>\n",
       "      <td>7.0</td>\n",
       "      <td>0</td>\n",
       "      <td>0.0</td>\n",
       "      <td>0</td>\n",
       "      <td>0</td>\n",
       "      <td>0</td>\n",
       "      <td>0</td>\n",
       "      <td>Cheese and Onion Tear and Share Loaf</td>\n",
       "      <td>NaN</td>\n",
       "    </tr>\n",
       "    <tr>\n",
       "      <th>29</th>\n",
       "      <td>2</td>\n",
       "      <td>3</td>\n",
       "      <td>Bread</td>\n",
       "      <td>Joanne</td>\n",
       "      <td>F</td>\n",
       "      <td>41</td>\n",
       "      <td>0</td>\n",
       "      <td>1.0</td>\n",
       "      <td>0</td>\n",
       "      <td>0.0</td>\n",
       "      <td>0</td>\n",
       "      <td>0</td>\n",
       "      <td>0</td>\n",
       "      <td>1</td>\n",
       "      <td>Stromboli flavored with Mozzarella, Ham, and P...</td>\n",
       "      <td>NaN</td>\n",
       "    </tr>\n",
       "    <tr>\n",
       "      <th>110</th>\n",
       "      <td>3</td>\n",
       "      <td>2</td>\n",
       "      <td>Bread</td>\n",
       "      <td>Danny</td>\n",
       "      <td>F</td>\n",
       "      <td>45</td>\n",
       "      <td>0</td>\n",
       "      <td>3.0</td>\n",
       "      <td>0</td>\n",
       "      <td>0.0</td>\n",
       "      <td>0</td>\n",
       "      <td>0</td>\n",
       "      <td>0</td>\n",
       "      <td>0</td>\n",
       "      <td>Lime Coriander and Coconut TortillasZaatar Naa...</td>\n",
       "      <td>NaN</td>\n",
       "    </tr>\n",
       "    <tr>\n",
       "      <th>113</th>\n",
       "      <td>3</td>\n",
       "      <td>2</td>\n",
       "      <td>Bread</td>\n",
       "      <td>Manisha</td>\n",
       "      <td>F</td>\n",
       "      <td>27</td>\n",
       "      <td>0</td>\n",
       "      <td>6.0</td>\n",
       "      <td>0</td>\n",
       "      <td>0.0</td>\n",
       "      <td>0</td>\n",
       "      <td>0</td>\n",
       "      <td>0</td>\n",
       "      <td>0</td>\n",
       "      <td>Indian FlatbreadsItalian Flatbreads</td>\n",
       "      <td>NaN</td>\n",
       "    </tr>\n",
       "    <tr>\n",
       "      <th>117</th>\n",
       "      <td>3</td>\n",
       "      <td>2</td>\n",
       "      <td>Bread</td>\n",
       "      <td>Sarah-Jane</td>\n",
       "      <td>F</td>\n",
       "      <td>28</td>\n",
       "      <td>0</td>\n",
       "      <td>10.0</td>\n",
       "      <td>0</td>\n",
       "      <td>0.0</td>\n",
       "      <td>0</td>\n",
       "      <td>0</td>\n",
       "      <td>0</td>\n",
       "      <td>0</td>\n",
       "      <td>Coconut RotiOatcakes</td>\n",
       "      <td>NaN</td>\n",
       "    </tr>\n",
       "    <tr>\n",
       "      <th>128</th>\n",
       "      <td>3</td>\n",
       "      <td>3</td>\n",
       "      <td>Tarts</td>\n",
       "      <td>Ryan</td>\n",
       "      <td>M</td>\n",
       "      <td>38</td>\n",
       "      <td>0</td>\n",
       "      <td>5.0</td>\n",
       "      <td>0</td>\n",
       "      <td>0.0</td>\n",
       "      <td>0</td>\n",
       "      <td>0</td>\n",
       "      <td>0</td>\n",
       "      <td>0</td>\n",
       "      <td>Spiced Pear Tarte Tatin</td>\n",
       "      <td>NaN</td>\n",
       "    </tr>\n",
       "    <tr>\n",
       "      <th>583</th>\n",
       "      <td>6</td>\n",
       "      <td>10</td>\n",
       "      <td>Final</td>\n",
       "      <td>Stu</td>\n",
       "      <td>M</td>\n",
       "      <td>35</td>\n",
       "      <td>0</td>\n",
       "      <td>3.0</td>\n",
       "      <td>0</td>\n",
       "      <td>0.0</td>\n",
       "      <td>0</td>\n",
       "      <td>0</td>\n",
       "      <td>0</td>\n",
       "      <td>0</td>\n",
       "      <td>NaN</td>\n",
       "      <td>NaN</td>\n",
       "    </tr>\n",
       "  </tbody>\n",
       "</table>\n",
       "</div>"
      ],
      "text/plain": [
       "     Season Week_Number Week_Name       Baker Gender  Age  \\\n",
       "2         2           1      Cake         Ian      M   40   \n",
       "4         2           1      Cake       Jason      M   19   \n",
       "10        2           1      Cake     Urvashi      F   40   \n",
       "11        2           1      Cake      Yasmin      F   43   \n",
       "14        2           2     Tarts         Ian      M   40   \n",
       "24        2           3     Bread         Ben      M   31   \n",
       "28        2           3     Bread       Jason      M   19   \n",
       "29        2           3     Bread      Joanne      F   41   \n",
       "110       3           2     Bread       Danny      F   45   \n",
       "113       3           2     Bread     Manisha      F   27   \n",
       "117       3           2     Bread  Sarah-Jane      F   28   \n",
       "128       3           3     Tarts        Ryan      M   38   \n",
       "583       6          10     Final         Stu      M   35   \n",
       "\n",
       "     Signature_Handshake  Technical_Rank  Showstopper_Handshake  Favorite  \\\n",
       "2                      0            10.0                      0       0.0   \n",
       "4                      0             6.0                      0       0.0   \n",
       "10                     0             7.0                      0       0.0   \n",
       "11                     0             5.0                      0       0.0   \n",
       "14                     0             2.0                      0       1.0   \n",
       "24                     0             3.0                      0       0.0   \n",
       "28                     0             7.0                      0       0.0   \n",
       "29                     0             1.0                      0       0.0   \n",
       "110                    0             3.0                      0       0.0   \n",
       "113                    0             6.0                      0       0.0   \n",
       "117                    0            10.0                      0       0.0   \n",
       "128                    0             5.0                      0       0.0   \n",
       "583                    0             3.0                      0       0.0   \n",
       "\n",
       "     Least_Favorite  Star_Baker  Eliminated  Winner  \\\n",
       "2                 0           0           0       0   \n",
       "4                 0           0           0       0   \n",
       "10                0           0           0       0   \n",
       "11                0           0           0       0   \n",
       "14                0           0           0       0   \n",
       "24                0           0           0       0   \n",
       "28                0           0           0       0   \n",
       "29                0           0           0       1   \n",
       "110               0           0           0       0   \n",
       "113               0           0           0       0   \n",
       "117               0           0           0       0   \n",
       "128               0           0           0       0   \n",
       "583               0           0           0       0   \n",
       "\n",
       "                                             signature showstopper  \n",
       "2                          Apple and Cinnamon Cupcakes         NaN  \n",
       "4    Lemon Meringue CupcakesApple and Cinnamon Cupc...         NaN  \n",
       "10       Cherry Blossom CupcakesJapanese Lime Cupcakes         NaN  \n",
       "11                   Cardamom and Pomegranate Cupcakes         NaN  \n",
       "14   Stilton, Spinach and New Potato Quichewith Pap...         NaN  \n",
       "24                    Walnut, Raisin and Rosemary Loaf         NaN  \n",
       "28                Cheese and Onion Tear and Share Loaf         NaN  \n",
       "29   Stromboli flavored with Mozzarella, Ham, and P...         NaN  \n",
       "110  Lime Coriander and Coconut TortillasZaatar Naa...         NaN  \n",
       "113                Indian FlatbreadsItalian Flatbreads         NaN  \n",
       "117                               Coconut RotiOatcakes         NaN  \n",
       "128                            Spiced Pear Tarte Tatin         NaN  \n",
       "583                                                NaN         NaN  "
      ]
     },
     "execution_count": 43,
     "metadata": {},
     "output_type": "execute_result"
    }
   ],
   "source": [
    "final_df[final_df.showstopper.isna()]"
   ]
  },
  {
   "cell_type": "markdown",
   "id": "d7e2b18e",
   "metadata": {},
   "source": [
    "#### Using Wikipedia, We can fill in the bakes for Urvashi(Season 2, episode 1) and Manisha (Season 3, episode 2). The remaining NAs are listed as \"unknown\" on wikipedia. I'll fill the missing values with \"Unknown\""
   ]
  },
  {
   "cell_type": "code",
   "execution_count": 44,
   "id": "8c6c2f2b",
   "metadata": {},
   "outputs": [],
   "source": [
    "#4.fix known missing values\n",
    "final_df.loc[10,'showstopper'] = 'Orange Blossom Celebration Cake'\n",
    "final_df.loc[113,'showstopper'] = 'Chocolate Orange Bagels'"
   ]
  },
  {
   "cell_type": "code",
   "execution_count": 45,
   "id": "ddf4dc0e",
   "metadata": {},
   "outputs": [],
   "source": [
    "#4.fill the remaining nulls with \"Unkown\"\n",
    "final_df.showstopper.fillna(\"Unknown\",inplace=True)"
   ]
  },
  {
   "cell_type": "code",
   "execution_count": 46,
   "id": "f1504c0e",
   "metadata": {},
   "outputs": [
    {
     "data": {
      "text/html": [
       "<div>\n",
       "<style scoped>\n",
       "    .dataframe tbody tr th:only-of-type {\n",
       "        vertical-align: middle;\n",
       "    }\n",
       "\n",
       "    .dataframe tbody tr th {\n",
       "        vertical-align: top;\n",
       "    }\n",
       "\n",
       "    .dataframe thead th {\n",
       "        text-align: right;\n",
       "    }\n",
       "</style>\n",
       "<table border=\"1\" class=\"dataframe\">\n",
       "  <thead>\n",
       "    <tr style=\"text-align: right;\">\n",
       "      <th></th>\n",
       "      <th>Season</th>\n",
       "      <th>Week_Number</th>\n",
       "      <th>Week_Name</th>\n",
       "      <th>Baker</th>\n",
       "      <th>Gender</th>\n",
       "      <th>Age</th>\n",
       "      <th>Signature_Handshake</th>\n",
       "      <th>Technical_Rank</th>\n",
       "      <th>Showstopper_Handshake</th>\n",
       "      <th>Favorite</th>\n",
       "      <th>Least_Favorite</th>\n",
       "      <th>Star_Baker</th>\n",
       "      <th>Eliminated</th>\n",
       "      <th>Winner</th>\n",
       "      <th>signature</th>\n",
       "      <th>showstopper</th>\n",
       "    </tr>\n",
       "  </thead>\n",
       "  <tbody>\n",
       "    <tr>\n",
       "      <th>583</th>\n",
       "      <td>6</td>\n",
       "      <td>10</td>\n",
       "      <td>Final</td>\n",
       "      <td>Stu</td>\n",
       "      <td>M</td>\n",
       "      <td>35</td>\n",
       "      <td>0</td>\n",
       "      <td>3.0</td>\n",
       "      <td>0</td>\n",
       "      <td>0.0</td>\n",
       "      <td>0</td>\n",
       "      <td>0</td>\n",
       "      <td>0</td>\n",
       "      <td>0</td>\n",
       "      <td>NaN</td>\n",
       "      <td>Unknown</td>\n",
       "    </tr>\n",
       "  </tbody>\n",
       "</table>\n",
       "</div>"
      ],
      "text/plain": [
       "     Season Week_Number Week_Name Baker Gender  Age  Signature_Handshake  \\\n",
       "583       6          10     Final   Stu      M   35                    0   \n",
       "\n",
       "     Technical_Rank  Showstopper_Handshake  Favorite  Least_Favorite  \\\n",
       "583             3.0                      0       0.0               0   \n",
       "\n",
       "     Star_Baker  Eliminated  Winner signature showstopper  \n",
       "583           0           0       0       NaN     Unknown  "
      ]
     },
     "execution_count": 46,
     "metadata": {},
     "output_type": "execute_result"
    }
   ],
   "source": [
    "#stu was eliminated in week 1 of season 6\n",
    "final_df[final_df.signature.isna()]"
   ]
  },
  {
   "cell_type": "code",
   "execution_count": 47,
   "id": "b6799378",
   "metadata": {},
   "outputs": [],
   "source": [
    "delete = final_df[final_df.signature.isna()].index\n",
    "final_df.drop(delete,inplace=True)"
   ]
  },
  {
   "cell_type": "code",
   "execution_count": 48,
   "id": "52b927ff",
   "metadata": {},
   "outputs": [
    {
     "data": {
      "text/plain": [
       "Season                   0\n",
       "Week_Number              0\n",
       "Week_Name                0\n",
       "Baker                    0\n",
       "Gender                   0\n",
       "Age                      0\n",
       "Signature_Handshake      0\n",
       "Technical_Rank           0\n",
       "Showstopper_Handshake    0\n",
       "Favorite                 0\n",
       "Least_Favorite           0\n",
       "Star_Baker               0\n",
       "Eliminated               0\n",
       "Winner                   0\n",
       "signature                0\n",
       "showstopper              0\n",
       "dtype: int64"
      ]
     },
     "execution_count": 48,
     "metadata": {},
     "output_type": "execute_result"
    }
   ],
   "source": [
    "#4.Make sure we have no nulls!\n",
    "final_df.isnull().sum()"
   ]
  },
  {
   "cell_type": "code",
   "execution_count": 49,
   "id": "614f18be",
   "metadata": {},
   "outputs": [
    {
     "data": {
      "text/plain": [
       "Season                      int64\n",
       "Week_Number              category\n",
       "Week_Name                  object\n",
       "Baker                      object\n",
       "Gender                     object\n",
       "Age                         int64\n",
       "Signature_Handshake         int64\n",
       "Technical_Rank            float64\n",
       "Showstopper_Handshake       int64\n",
       "Favorite                  float64\n",
       "Least_Favorite              int64\n",
       "Star_Baker                  int64\n",
       "Eliminated                  int64\n",
       "Winner                      int64\n",
       "signature                  object\n",
       "showstopper                object\n",
       "dtype: object"
      ]
     },
     "execution_count": 49,
     "metadata": {},
     "output_type": "execute_result"
    }
   ],
   "source": [
    "final_df.dtypes"
   ]
  },
  {
   "cell_type": "code",
   "execution_count": 50,
   "id": "b81b8e36",
   "metadata": {
    "scrolled": false
   },
   "outputs": [],
   "source": [
    "# After the merge, the datatpyes changed. \n",
    "final_df= final_df.astype({'Season':'category','Week_Name':'category','Baker':'category','Gender':'category','Technical_Rank':'int64'})\n"
   ]
  },
  {
   "cell_type": "code",
   "execution_count": 51,
   "id": "641fdcbb",
   "metadata": {
    "scrolled": true
   },
   "outputs": [
    {
     "data": {
      "text/plain": [
       "Season                   category\n",
       "Week_Number              category\n",
       "Week_Name                category\n",
       "Baker                    category\n",
       "Gender                   category\n",
       "Age                         int64\n",
       "Signature_Handshake         int64\n",
       "Technical_Rank              int64\n",
       "Showstopper_Handshake       int64\n",
       "Favorite                  float64\n",
       "Least_Favorite              int64\n",
       "Star_Baker                  int64\n",
       "Eliminated                  int64\n",
       "Winner                      int64\n",
       "signature                  object\n",
       "showstopper                object\n",
       "dtype: object"
      ]
     },
     "execution_count": 51,
     "metadata": {},
     "output_type": "execute_result"
    }
   ],
   "source": [
    "final_df.dtypes"
   ]
  },
  {
   "cell_type": "code",
   "execution_count": 52,
   "id": "c90c5314",
   "metadata": {},
   "outputs": [],
   "source": [
    "final_df.to_csv('data/final_df.csv')"
   ]
  }
 ],
 "metadata": {
  "kernelspec": {
   "display_name": "Python 3 (ipykernel)",
   "language": "python",
   "name": "python3"
  },
  "language_info": {
   "codemirror_mode": {
    "name": "ipython",
    "version": 3
   },
   "file_extension": ".py",
   "mimetype": "text/x-python",
   "name": "python",
   "nbconvert_exporter": "python",
   "pygments_lexer": "ipython3",
   "version": "3.9.13"
  }
 },
 "nbformat": 4,
 "nbformat_minor": 5
}
