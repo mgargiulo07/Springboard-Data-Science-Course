{
 "cells": [
  {
   "cell_type": "markdown",
   "id": "c9c0c2c4",
   "metadata": {},
   "source": [
    "# QUESTIONS\n",
    "1. Why did merging the dataframes change the datatype?\n",
    "2. Do I need to create splits for each of my questions?\n",
    "    - What leads to elimination?\n",
    "    - What leads to star Baker?\n",
    "    - What reciepes are most impactful?\n",
    "3. How do I deal with correlation on categorical features. \n",
    "4. Is there a difference between features that are most important in a model and features that are most likely to result in a 1 for our class?\n",
    "5. Is setting stratify= y the only thing that I need to do for my train_test_split.\n",
    "6. When I view my confusion matrix, I show different total values for my y_pred target feature. i.e:\n",
    "    - y_test shows 173 False's and 27 True's\n",
    "    - Random Forest is showing 195 False's and 6 Trues (actual values)\n",
    "    - Logistic Regression is showing 177 False's and 18 Trues (actual values)"
   ]
  },
  {
   "cell_type": "code",
   "execution_count": null,
   "id": "71c9e168",
   "metadata": {},
   "outputs": [],
   "source": []
  }
 ],
 "metadata": {
  "kernelspec": {
   "display_name": "Python 3 (ipykernel)",
   "language": "python",
   "name": "python3"
  },
  "language_info": {
   "codemirror_mode": {
    "name": "ipython",
    "version": 3
   },
   "file_extension": ".py",
   "mimetype": "text/x-python",
   "name": "python",
   "nbconvert_exporter": "python",
   "pygments_lexer": "ipython3",
   "version": "3.9.13"
  }
 },
 "nbformat": 4,
 "nbformat_minor": 5
}
