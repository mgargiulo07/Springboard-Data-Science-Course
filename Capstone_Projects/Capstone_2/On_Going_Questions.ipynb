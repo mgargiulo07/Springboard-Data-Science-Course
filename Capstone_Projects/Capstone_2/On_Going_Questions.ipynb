{
 "cells": [
  {
   "cell_type": "markdown",
   "id": "c9c0c2c4",
   "metadata": {},
   "source": [
    "# QUESTIONS\n",
    "1. If evaluate 4 models and 1 is best without CV can I assume that model is also best with CV?\n",
    "2. Can I use a model (say knn) for further analysis but use feature selection via a different model, say logistic regression?"
   ]
  },
  {
   "cell_type": "code",
   "execution_count": null,
   "id": "71c9e168",
   "metadata": {},
   "outputs": [],
   "source": []
  }
 ],
 "metadata": {
  "kernelspec": {
   "display_name": "Python 3 (ipykernel)",
   "language": "python",
   "name": "python3"
  },
  "language_info": {
   "codemirror_mode": {
    "name": "ipython",
    "version": 3
   },
   "file_extension": ".py",
   "mimetype": "text/x-python",
   "name": "python",
   "nbconvert_exporter": "python",
   "pygments_lexer": "ipython3",
   "version": "3.9.13"
  }
 },
 "nbformat": 4,
 "nbformat_minor": 5
}
