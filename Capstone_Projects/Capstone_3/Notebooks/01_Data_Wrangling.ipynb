{
 "cells": [
  {
   "cell_type": "markdown",
   "id": "1cdd5386",
   "metadata": {},
   "source": [
    "# Project Idea:\n",
    "### I plan to use NLP to analyze the responses given by cities around the world to a questionaire pertaining to environmental and social endeavors. The questionaire is distributed by CDP (formely known as Carbon Disclosure Project). Questionaires are located '../data/raw_data/Cities/Cities Questionaires \n",
    "    "
   ]
  },
  {
   "cell_type": "code",
   "execution_count": 10,
   "id": "fc7a4484",
   "metadata": {},
   "outputs": [],
   "source": [
    "#libraries\n",
    "import pandas as pd\n",
    "import numpy as np"
   ]
  },
  {
   "cell_type": "markdown",
   "id": "893e8e08",
   "metadata": {},
   "source": [
    "## Disclosure Documents"
   ]
  },
  {
   "cell_type": "markdown",
   "id": "6d97e39e",
   "metadata": {},
   "source": [
    "#### importing Data"
   ]
  },
  {
   "cell_type": "code",
   "execution_count": 11,
   "id": "82e42916",
   "metadata": {},
   "outputs": [],
   "source": [
    "#Import Cities Data\n",
    "cities_2018_disclosure = pd.read_csv('../data/raw_data/Cities/Cities Disclosing/2018_Cities_Disclosing_to_CDP.csv')\n",
    "cities_2019_disclosure = pd.read_csv('../data/raw_data/Cities/Cities Disclosing/2019_Cities_Disclosing_to_CDP.csv')\n",
    "cities_2020_disclosure = pd.read_csv('../data/raw_data/Cities/Cities Disclosing/2020_Cities_Disclosing_to_CDP.csv')"
   ]
  },
  {
   "cell_type": "code",
   "execution_count": 12,
   "id": "3ae047b1",
   "metadata": {},
   "outputs": [
    {
     "data": {
      "text/html": [
       "<div>\n",
       "<style scoped>\n",
       "    .dataframe tbody tr th:only-of-type {\n",
       "        vertical-align: middle;\n",
       "    }\n",
       "\n",
       "    .dataframe tbody tr th {\n",
       "        vertical-align: top;\n",
       "    }\n",
       "\n",
       "    .dataframe thead th {\n",
       "        text-align: right;\n",
       "    }\n",
       "</style>\n",
       "<table border=\"1\" class=\"dataframe\">\n",
       "  <thead>\n",
       "    <tr style=\"text-align: right;\">\n",
       "      <th></th>\n",
       "      <th>Reporting_Year</th>\n",
       "      <th>Account_Num</th>\n",
       "      <th>Org</th>\n",
       "      <th>City</th>\n",
       "      <th>Country</th>\n",
       "      <th>CDP_Reg</th>\n",
       "      <th>Reporting_Auth</th>\n",
       "      <th>Access</th>\n",
       "      <th>First_Time_Disc</th>\n",
       "      <th>Pop</th>\n",
       "      <th>Pop_Year</th>\n",
       "      <th>City_Loc</th>\n",
       "      <th>Last_Update</th>\n",
       "    </tr>\n",
       "  </thead>\n",
       "  <tbody>\n",
       "    <tr>\n",
       "      <th>0</th>\n",
       "      <td>2019</td>\n",
       "      <td>1093</td>\n",
       "      <td>City of Atlanta</td>\n",
       "      <td>Atlanta</td>\n",
       "      <td>United States of America</td>\n",
       "      <td>North America</td>\n",
       "      <td>CDP Cities,ICLEI - Local Governments for Susta...</td>\n",
       "      <td>public</td>\n",
       "      <td>No</td>\n",
       "      <td>450182.0</td>\n",
       "      <td>2017</td>\n",
       "      <td>POINT (-84.388 33.749)</td>\n",
       "      <td>2020-06-25T04:52:51.327</td>\n",
       "    </tr>\n",
       "    <tr>\n",
       "      <th>1</th>\n",
       "      <td>2018</td>\n",
       "      <td>1093</td>\n",
       "      <td>City of Atlanta</td>\n",
       "      <td>Atlanta</td>\n",
       "      <td>United States of America</td>\n",
       "      <td>North America</td>\n",
       "      <td>CDP Cities</td>\n",
       "      <td>public</td>\n",
       "      <td>No</td>\n",
       "      <td>450182.0</td>\n",
       "      <td>2017</td>\n",
       "      <td>POINT (-84.388 33.749)</td>\n",
       "      <td>2020-06-25T04:52:49.050</td>\n",
       "    </tr>\n",
       "    <tr>\n",
       "      <th>2</th>\n",
       "      <td>2018</td>\n",
       "      <td>1184</td>\n",
       "      <td>City of Austin</td>\n",
       "      <td>Austin</td>\n",
       "      <td>United States of America</td>\n",
       "      <td>North America</td>\n",
       "      <td>C40,CDP Cities</td>\n",
       "      <td>public</td>\n",
       "      <td>No</td>\n",
       "      <td>1265974.0</td>\n",
       "      <td>2017</td>\n",
       "      <td>POINT (-97.7431 30.2672)</td>\n",
       "      <td>2020-06-25T04:52:49.050</td>\n",
       "    </tr>\n",
       "    <tr>\n",
       "      <th>3</th>\n",
       "      <td>2020</td>\n",
       "      <td>1184</td>\n",
       "      <td>City of Austin</td>\n",
       "      <td>Austin</td>\n",
       "      <td>United States of America</td>\n",
       "      <td>North America</td>\n",
       "      <td>C40,CDP Cities,ICLEI - Local Governments for S...</td>\n",
       "      <td>public</td>\n",
       "      <td>No</td>\n",
       "      <td>964254.0</td>\n",
       "      <td>2019</td>\n",
       "      <td>POINT (-97.7431 30.2672)</td>\n",
       "      <td>2020-09-07T09:45:19.793</td>\n",
       "    </tr>\n",
       "    <tr>\n",
       "      <th>4</th>\n",
       "      <td>2019</td>\n",
       "      <td>1184</td>\n",
       "      <td>City of Austin</td>\n",
       "      <td>Austin</td>\n",
       "      <td>United States of America</td>\n",
       "      <td>North America</td>\n",
       "      <td>C40,CDP Cities,ICLEI - Local Governments for S...</td>\n",
       "      <td>public</td>\n",
       "      <td>No</td>\n",
       "      <td>1227000.0</td>\n",
       "      <td>2017</td>\n",
       "      <td>POINT (-97.7431 30.2672)</td>\n",
       "      <td>2020-06-25T04:52:51.327</td>\n",
       "    </tr>\n",
       "  </tbody>\n",
       "</table>\n",
       "</div>"
      ],
      "text/plain": [
       "   Reporting_Year  Account_Num              Org     City  \\\n",
       "0            2019         1093  City of Atlanta  Atlanta   \n",
       "1            2018         1093  City of Atlanta  Atlanta   \n",
       "2            2018         1184   City of Austin   Austin   \n",
       "3            2020         1184   City of Austin   Austin   \n",
       "4            2019         1184   City of Austin   Austin   \n",
       "\n",
       "                    Country        CDP_Reg  \\\n",
       "0  United States of America  North America   \n",
       "1  United States of America  North America   \n",
       "2  United States of America  North America   \n",
       "3  United States of America  North America   \n",
       "4  United States of America  North America   \n",
       "\n",
       "                                      Reporting_Auth  Access First_Time_Disc  \\\n",
       "0  CDP Cities,ICLEI - Local Governments for Susta...  public              No   \n",
       "1                                         CDP Cities  public              No   \n",
       "2                                     C40,CDP Cities  public              No   \n",
       "3  C40,CDP Cities,ICLEI - Local Governments for S...  public              No   \n",
       "4  C40,CDP Cities,ICLEI - Local Governments for S...  public              No   \n",
       "\n",
       "         Pop  Pop_Year                  City_Loc              Last_Update  \n",
       "0   450182.0      2017    POINT (-84.388 33.749)  2020-06-25T04:52:51.327  \n",
       "1   450182.0      2017    POINT (-84.388 33.749)  2020-06-25T04:52:49.050  \n",
       "2  1265974.0      2017  POINT (-97.7431 30.2672)  2020-06-25T04:52:49.050  \n",
       "3   964254.0      2019  POINT (-97.7431 30.2672)  2020-09-07T09:45:19.793  \n",
       "4  1227000.0      2017  POINT (-97.7431 30.2672)  2020-06-25T04:52:51.327  "
      ]
     },
     "execution_count": 12,
     "metadata": {},
     "output_type": "execute_result"
    }
   ],
   "source": [
    "#combine files\n",
    "cities_disclosure=[cities_2018_disclosure,cities_2019_disclosure,cities_2020_disclosure]\n",
    "cities_disclosure= pd.concat(cities_disclosure).sort_values('Account Number').reset_index(drop=True)\n",
    "\n",
    "#Adjust column names\n",
    "cities_disclosure.columns=['Reporting_Year','Account_Num','Org','City','Country','CDP_Reg','Reporting_Auth',\\\n",
    "                          'Access','First_Time_Disc','Pop','Pop_Year','City_Loc','Last_Update']\n",
    "cities_disclosure.head()\n",
    "\n",
    "#cities_disclosure.shape (20168,13)"
   ]
  },
  {
   "cell_type": "code",
   "execution_count": 13,
   "id": "3292ce64",
   "metadata": {},
   "outputs": [
    {
     "data": {
      "text/plain": [
       "96"
      ]
     },
     "execution_count": 13,
     "metadata": {},
     "output_type": "execute_result"
    }
   ],
   "source": [
    "len(cities_disclosure.Country.unique())"
   ]
  },
  {
   "cell_type": "markdown",
   "id": "fce37725",
   "metadata": {},
   "source": [
    "### Dealing with Nulls"
   ]
  },
  {
   "cell_type": "markdown",
   "id": "a0767aaa",
   "metadata": {},
   "source": [
    "##### City"
   ]
  },
  {
   "cell_type": "code",
   "execution_count": 14,
   "id": "12340c74",
   "metadata": {
    "scrolled": true
   },
   "outputs": [
    {
     "data": {
      "text/plain": [
       "Reporting_Year       0\n",
       "Account_Num          0\n",
       "Org                  0\n",
       "City               352\n",
       "Country              0\n",
       "CDP_Reg              0\n",
       "Reporting_Auth       0\n",
       "Access               0\n",
       "First_Time_Disc      0\n",
       "Pop                284\n",
       "Pop_Year             0\n",
       "City_Loc           438\n",
       "Last_Update          0\n",
       "dtype: int64"
      ]
     },
     "execution_count": 14,
     "metadata": {},
     "output_type": "execute_result"
    }
   ],
   "source": [
    "#Lets look at nulls\n",
    "cities_disclosure.isnull().sum()"
   ]
  },
  {
   "cell_type": "markdown",
   "id": "fdd99810",
   "metadata": {},
   "source": [
    "The dataset contains data from both inside and outside of the US. It may be more common for countries to not list a city (since they may not use cities). I'll set non-US nulls to \"Not Listed\" and remove US nulls if the number of missing data is less than 5%."
   ]
  },
  {
   "cell_type": "code",
   "execution_count": 15,
   "id": "fd4ab1bb",
   "metadata": {},
   "outputs": [],
   "source": [
    "#Nulls from outside the US\n",
    "cities_disclosure.loc[(cities_disclosure.City.isnull())&\\\n",
    "                      (cities_disclosure.Country!='United States of America'),'City']='Not Listed'"
   ]
  },
  {
   "cell_type": "code",
   "execution_count": 16,
   "id": "00a6d899",
   "metadata": {},
   "outputs": [
    {
     "name": "stdout",
     "output_type": "stream",
     "text": [
      "Total percentage of missing nulls are 2.03%\n"
     ]
    }
   ],
   "source": [
    "#Nulls from inside the US\n",
    "num = cities_disclosure.loc[(cities_disclosure.City.isnull())&\\\n",
    "                      (cities_disclosure.Country=='United States of America')].shape[0]\n",
    "denom = cities_disclosure['City'].shape[0]\n",
    "\n",
    "print('Total percentage of missing nulls are {}%'.format(round((num/denom)*100,2)))"
   ]
  },
  {
   "cell_type": "markdown",
   "id": "0e68eeae",
   "metadata": {},
   "source": [
    "##### Population"
   ]
  },
  {
   "cell_type": "markdown",
   "id": "22eef701",
   "metadata": {},
   "source": [
    "Find an example where we have populations for some dates but not others"
   ]
  },
  {
   "cell_type": "code",
   "execution_count": 17,
   "id": "fb122f47",
   "metadata": {
    "scrolled": true
   },
   "outputs": [
    {
     "data": {
      "text/html": [
       "<div>\n",
       "<style scoped>\n",
       "    .dataframe tbody tr th:only-of-type {\n",
       "        vertical-align: middle;\n",
       "    }\n",
       "\n",
       "    .dataframe tbody tr th {\n",
       "        vertical-align: top;\n",
       "    }\n",
       "\n",
       "    .dataframe thead th {\n",
       "        text-align: right;\n",
       "    }\n",
       "</style>\n",
       "<table border=\"1\" class=\"dataframe\">\n",
       "  <thead>\n",
       "    <tr style=\"text-align: right;\">\n",
       "      <th></th>\n",
       "      <th>Reporting_Year</th>\n",
       "      <th>Account_Num</th>\n",
       "      <th>Org</th>\n",
       "      <th>City</th>\n",
       "      <th>Country</th>\n",
       "      <th>CDP_Reg</th>\n",
       "      <th>Reporting_Auth</th>\n",
       "      <th>Access</th>\n",
       "      <th>First_Time_Disc</th>\n",
       "      <th>Pop</th>\n",
       "      <th>Pop_Year</th>\n",
       "      <th>City_Loc</th>\n",
       "      <th>Last_Update</th>\n",
       "    </tr>\n",
       "  </thead>\n",
       "  <tbody>\n",
       "    <tr>\n",
       "      <th>33</th>\n",
       "      <td>2018</td>\n",
       "      <td>10894</td>\n",
       "      <td>City of Los Angeles</td>\n",
       "      <td>Los Angeles</td>\n",
       "      <td>United States of America</td>\n",
       "      <td>North America</td>\n",
       "      <td>C40,CDP Cities</td>\n",
       "      <td>non public</td>\n",
       "      <td>No</td>\n",
       "      <td>4030904.0</td>\n",
       "      <td>2016</td>\n",
       "      <td>POINT (-118.244 34.0522)</td>\n",
       "      <td>2020-06-25T04:52:49.050</td>\n",
       "    </tr>\n",
       "    <tr>\n",
       "      <th>34</th>\n",
       "      <td>2020</td>\n",
       "      <td>10894</td>\n",
       "      <td>City of Los Angeles</td>\n",
       "      <td>Los Angeles</td>\n",
       "      <td>United States of America</td>\n",
       "      <td>North America</td>\n",
       "      <td>C40,CDP Cities,ICLEI - Local Governments for S...</td>\n",
       "      <td>public</td>\n",
       "      <td>No</td>\n",
       "      <td>4021488.0</td>\n",
       "      <td>2018</td>\n",
       "      <td>POINT (-118.244 34.0522)</td>\n",
       "      <td>2020-09-07T09:45:19.793</td>\n",
       "    </tr>\n",
       "    <tr>\n",
       "      <th>35</th>\n",
       "      <td>2019</td>\n",
       "      <td>10894</td>\n",
       "      <td>City of Los Angeles</td>\n",
       "      <td>Los Angeles</td>\n",
       "      <td>United States of America</td>\n",
       "      <td>North America</td>\n",
       "      <td>C40,CDP Cities,ICLEI - Local Governments for S...</td>\n",
       "      <td>public</td>\n",
       "      <td>No</td>\n",
       "      <td>NaN</td>\n",
       "      <td>0</td>\n",
       "      <td>POINT (-118.244 34.0522)</td>\n",
       "      <td>2020-06-25T04:52:51.327</td>\n",
       "    </tr>\n",
       "  </tbody>\n",
       "</table>\n",
       "</div>"
      ],
      "text/plain": [
       "    Reporting_Year  Account_Num                  Org         City  \\\n",
       "33            2018        10894  City of Los Angeles  Los Angeles   \n",
       "34            2020        10894  City of Los Angeles  Los Angeles   \n",
       "35            2019        10894  City of Los Angeles  Los Angeles   \n",
       "\n",
       "                     Country        CDP_Reg  \\\n",
       "33  United States of America  North America   \n",
       "34  United States of America  North America   \n",
       "35  United States of America  North America   \n",
       "\n",
       "                                       Reporting_Auth      Access  \\\n",
       "33                                     C40,CDP Cities  non public   \n",
       "34  C40,CDP Cities,ICLEI - Local Governments for S...      public   \n",
       "35  C40,CDP Cities,ICLEI - Local Governments for S...      public   \n",
       "\n",
       "   First_Time_Disc        Pop  Pop_Year                  City_Loc  \\\n",
       "33              No  4030904.0      2016  POINT (-118.244 34.0522)   \n",
       "34              No  4021488.0      2018  POINT (-118.244 34.0522)   \n",
       "35              No        NaN         0  POINT (-118.244 34.0522)   \n",
       "\n",
       "                Last_Update  \n",
       "33  2020-06-25T04:52:49.050  \n",
       "34  2020-09-07T09:45:19.793  \n",
       "35  2020-06-25T04:52:51.327  "
      ]
     },
     "execution_count": 17,
     "metadata": {},
     "output_type": "execute_result"
    }
   ],
   "source": [
    "#isolate an example\n",
    "cities_disclosure.loc[cities_disclosure['Account_Num']==10894]"
   ]
  },
  {
   "cell_type": "code",
   "execution_count": 18,
   "id": "33786479",
   "metadata": {},
   "outputs": [],
   "source": [
    "#fill the nulls with the mean values\n",
    "cities_disclosure['Pop'] = \\\n",
    "cities_disclosure.groupby(['Account_Num'],sort=False)['Pop'].apply(lambda x: x.fillna(x.mean()))"
   ]
  },
  {
   "cell_type": "code",
   "execution_count": 19,
   "id": "c351971a",
   "metadata": {},
   "outputs": [],
   "source": [
    "#verify that our solution is correct\n",
    "assert cities_disclosure.loc[35,'Pop']==4026196.0"
   ]
  },
  {
   "cell_type": "markdown",
   "id": "90435a93",
   "metadata": {},
   "source": [
    "##### Population Year"
   ]
  },
  {
   "cell_type": "markdown",
   "id": "72203f75",
   "metadata": {},
   "source": [
    "Replace pop_year with average year (to match us taking the average population value)"
   ]
  },
  {
   "cell_type": "code",
   "execution_count": 20,
   "id": "4f482b63",
   "metadata": {},
   "outputs": [],
   "source": [
    "#replace 0s with nulls\n",
    "cities_disclosure['Pop_Year'] = \\\n",
    "cities_disclosure.groupby(['Account_Num'])['Pop_Year'].apply(lambda x: x.replace(0,np.nan))\n",
    "\n",
    "\n",
    "#replace nulls with averag value\n",
    "\n",
    "cities_disclosure['Pop_Year'] = \\\n",
    "cities_disclosure.groupby(['Account_Num'])['Pop_Year'].apply(lambda x: x.fillna(x.mean()))"
   ]
  },
  {
   "cell_type": "code",
   "execution_count": 21,
   "id": "9bbe2a9d",
   "metadata": {},
   "outputs": [],
   "source": [
    "assert cities_disclosure.loc[35,'Pop_Year']==2017"
   ]
  },
  {
   "cell_type": "code",
   "execution_count": 22,
   "id": "9372af65",
   "metadata": {},
   "outputs": [
    {
     "data": {
      "text/plain": [
       "array([2017. , 2019. , 2018. , 2015. , 2016. , 2020. , 2012. , 2011. ,\n",
       "       2017.5, 2013. , 2010. , 2014. , 2016.5,    nan, 2018.5, 2013.5,\n",
       "          7. , 1013. , 2007. ,  214. , 2005. , 2012.5, 2019.5,  216. ,\n",
       "        217. ,   19. , 2003. , 2014.5, 2009. , 2008. ,  218. ,  219. ,\n",
       "         21. , 1537. ,  211. , 2002. ])"
      ]
     },
     "execution_count": 22,
     "metadata": {},
     "output_type": "execute_result"
    }
   ],
   "source": [
    "cities_disclosure.Pop_Year.unique()"
   ]
  },
  {
   "cell_type": "markdown",
   "id": "631d217e",
   "metadata": {},
   "source": [
    "From the output, we still have some issues. We need to cirlce back to these"
   ]
  },
  {
   "cell_type": "markdown",
   "id": "80afdb70",
   "metadata": {},
   "source": [
    "## Responses"
   ]
  },
  {
   "cell_type": "code",
   "execution_count": 25,
   "id": "901b9411",
   "metadata": {},
   "outputs": [
    {
     "data": {
      "text/html": [
       "<div>\n",
       "<style scoped>\n",
       "    .dataframe tbody tr th:only-of-type {\n",
       "        vertical-align: middle;\n",
       "    }\n",
       "\n",
       "    .dataframe tbody tr th {\n",
       "        vertical-align: top;\n",
       "    }\n",
       "\n",
       "    .dataframe thead th {\n",
       "        text-align: right;\n",
       "    }\n",
       "</style>\n",
       "<table border=\"1\" class=\"dataframe\">\n",
       "  <thead>\n",
       "    <tr style=\"text-align: right;\">\n",
       "      <th></th>\n",
       "      <th>Questionnaire</th>\n",
       "      <th>Year Reported to CDP</th>\n",
       "      <th>Account Number</th>\n",
       "      <th>Organization</th>\n",
       "      <th>Country</th>\n",
       "      <th>CDP Region</th>\n",
       "      <th>Parent Section</th>\n",
       "      <th>Section</th>\n",
       "      <th>Question Number</th>\n",
       "      <th>Question Name</th>\n",
       "      <th>Column Number</th>\n",
       "      <th>Column Name</th>\n",
       "      <th>Row Number</th>\n",
       "      <th>Row Name</th>\n",
       "      <th>Response Answer</th>\n",
       "      <th>Comments</th>\n",
       "      <th>File Name</th>\n",
       "      <th>Last update</th>\n",
       "    </tr>\n",
       "  </thead>\n",
       "  <tbody>\n",
       "    <tr>\n",
       "      <th>0</th>\n",
       "      <td>Cities 2019</td>\n",
       "      <td>2019</td>\n",
       "      <td>1093</td>\n",
       "      <td>City of Atlanta</td>\n",
       "      <td>United States of America</td>\n",
       "      <td>North America</td>\n",
       "      <td>Opportunities</td>\n",
       "      <td>Opportunities</td>\n",
       "      <td>6.2</td>\n",
       "      <td>List any emission reduction, adaptation, water...</td>\n",
       "      <td>5</td>\n",
       "      <td>Project description</td>\n",
       "      <td>2</td>\n",
       "      <td>NaN</td>\n",
       "      <td>Renew Atlanta is an infrastructure improvement...</td>\n",
       "      <td>NaN</td>\n",
       "      <td>NaN</td>\n",
       "      <td>24/06/2020 05:30:36 AM</td>\n",
       "    </tr>\n",
       "    <tr>\n",
       "      <th>1</th>\n",
       "      <td>CDP Cities 2018</td>\n",
       "      <td>2018</td>\n",
       "      <td>1093</td>\n",
       "      <td>City of Atlanta</td>\n",
       "      <td>United States of America</td>\n",
       "      <td>North America</td>\n",
       "      <td>City Wide Emissions</td>\n",
       "      <td>GHG Emissions Data</td>\n",
       "      <td>7.5</td>\n",
       "      <td>Please attach your city-wide inventory in the ...</td>\n",
       "      <td>4</td>\n",
       "      <td>Comment on level of confidence</td>\n",
       "      <td>1</td>\n",
       "      <td>NaN</td>\n",
       "      <td>We were unable to retrieve natural gas data fr...</td>\n",
       "      <td>NaN</td>\n",
       "      <td>NaN</td>\n",
       "      <td>24/06/2020 05:28:18 AM</td>\n",
       "    </tr>\n",
       "    <tr>\n",
       "      <th>2</th>\n",
       "      <td>Cities 2019</td>\n",
       "      <td>2019</td>\n",
       "      <td>1093</td>\n",
       "      <td>City of Atlanta</td>\n",
       "      <td>United States of America</td>\n",
       "      <td>North America</td>\n",
       "      <td>Emissions Reduction</td>\n",
       "      <td>Mitigation Target setting</td>\n",
       "      <td>5.0a</td>\n",
       "      <td>Please provide details of your total city-wide...</td>\n",
       "      <td>12</td>\n",
       "      <td>Please indicate to which sector(s) the target ...</td>\n",
       "      <td>1</td>\n",
       "      <td>NaN</td>\n",
       "      <td>Public facility</td>\n",
       "      <td>NaN</td>\n",
       "      <td>NaN</td>\n",
       "      <td>24/06/2020 05:30:36 AM</td>\n",
       "    </tr>\n",
       "    <tr>\n",
       "      <th>3</th>\n",
       "      <td>Cities 2019</td>\n",
       "      <td>2019</td>\n",
       "      <td>1093</td>\n",
       "      <td>City of Atlanta</td>\n",
       "      <td>United States of America</td>\n",
       "      <td>North America</td>\n",
       "      <td>Emissions Reduction</td>\n",
       "      <td>Mitigation Target setting</td>\n",
       "      <td>5.0a</td>\n",
       "      <td>Please provide details of your total city-wide...</td>\n",
       "      <td>9</td>\n",
       "      <td>Target year absolute emissions (metric tonnes ...</td>\n",
       "      <td>1</td>\n",
       "      <td>NaN</td>\n",
       "      <td>NaN</td>\n",
       "      <td>NaN</td>\n",
       "      <td>NaN</td>\n",
       "      <td>24/06/2020 05:30:36 AM</td>\n",
       "    </tr>\n",
       "    <tr>\n",
       "      <th>4</th>\n",
       "      <td>Cities 2019</td>\n",
       "      <td>2019</td>\n",
       "      <td>1093</td>\n",
       "      <td>City of Atlanta</td>\n",
       "      <td>United States of America</td>\n",
       "      <td>North America</td>\n",
       "      <td>Climate Hazards &amp; Vulnerability</td>\n",
       "      <td>Climate Hazards</td>\n",
       "      <td>2.2</td>\n",
       "      <td>Please identify and describe the factors that ...</td>\n",
       "      <td>2</td>\n",
       "      <td>Support / Challenge</td>\n",
       "      <td>4</td>\n",
       "      <td>NaN</td>\n",
       "      <td>Challenge</td>\n",
       "      <td>NaN</td>\n",
       "      <td>NaN</td>\n",
       "      <td>24/06/2020 05:30:36 AM</td>\n",
       "    </tr>\n",
       "  </tbody>\n",
       "</table>\n",
       "</div>"
      ],
      "text/plain": [
       "     Questionnaire  Year Reported to CDP  Account Number     Organization  \\\n",
       "0      Cities 2019                  2019            1093  City of Atlanta   \n",
       "1  CDP Cities 2018                  2018            1093  City of Atlanta   \n",
       "2      Cities 2019                  2019            1093  City of Atlanta   \n",
       "3      Cities 2019                  2019            1093  City of Atlanta   \n",
       "4      Cities 2019                  2019            1093  City of Atlanta   \n",
       "\n",
       "                    Country     CDP Region                   Parent Section  \\\n",
       "0  United States of America  North America                    Opportunities   \n",
       "1  United States of America  North America              City Wide Emissions   \n",
       "2  United States of America  North America              Emissions Reduction   \n",
       "3  United States of America  North America              Emissions Reduction   \n",
       "4  United States of America  North America  Climate Hazards & Vulnerability   \n",
       "\n",
       "                     Section Question Number  \\\n",
       "0              Opportunities             6.2   \n",
       "1         GHG Emissions Data             7.5   \n",
       "2  Mitigation Target setting            5.0a   \n",
       "3  Mitigation Target setting            5.0a   \n",
       "4            Climate Hazards             2.2   \n",
       "\n",
       "                                       Question Name  Column Number  \\\n",
       "0  List any emission reduction, adaptation, water...              5   \n",
       "1  Please attach your city-wide inventory in the ...              4   \n",
       "2  Please provide details of your total city-wide...             12   \n",
       "3  Please provide details of your total city-wide...              9   \n",
       "4  Please identify and describe the factors that ...              2   \n",
       "\n",
       "                                         Column Name  Row Number Row Name  \\\n",
       "0                                Project description           2      NaN   \n",
       "1                     Comment on level of confidence           1      NaN   \n",
       "2  Please indicate to which sector(s) the target ...           1      NaN   \n",
       "3  Target year absolute emissions (metric tonnes ...           1      NaN   \n",
       "4                                Support / Challenge           4      NaN   \n",
       "\n",
       "                                     Response Answer Comments File Name  \\\n",
       "0  Renew Atlanta is an infrastructure improvement...      NaN       NaN   \n",
       "1  We were unable to retrieve natural gas data fr...      NaN       NaN   \n",
       "2                                    Public facility      NaN       NaN   \n",
       "3                                                NaN      NaN       NaN   \n",
       "4                                          Challenge      NaN       NaN   \n",
       "\n",
       "              Last update  \n",
       "0  24/06/2020 05:30:36 AM  \n",
       "1  24/06/2020 05:28:18 AM  \n",
       "2  24/06/2020 05:30:36 AM  \n",
       "3  24/06/2020 05:30:36 AM  \n",
       "4  24/06/2020 05:30:36 AM  "
      ]
     },
     "execution_count": 25,
     "metadata": {},
     "output_type": "execute_result"
    }
   ],
   "source": [
    "#pull in data and merge like above\n",
    "Cities_2018_Responses = pd.read_csv('../data/raw_data/Cities/Cities Responses/2018_Full_Cities_Dataset.csv')\n",
    "Cities_2019_Responses = pd.read_csv('../data/raw_data/Cities/Cities Responses/2019_Full_Cities_Dataset.csv')\n",
    "Cities_2020_Responses = pd.read_csv('../data/raw_data/Cities/Cities Responses/2020_Full_Cities_Dataset.csv')\n",
    "\n",
    "Cities_Responses=pd.concat([Cities_2018_Responses,Cities_2019_Responses,Cities_2020_Responses])\\\n",
    ".sort_values('Account Number').reset_index(drop=True)\n",
    "Cities_Responses.head()"
   ]
  },
  {
   "cell_type": "code",
   "execution_count": 26,
   "id": "ff3ac42e",
   "metadata": {},
   "outputs": [],
   "source": [
    "#drop the columns that are also present in the disclosure file\n",
    "Cities_Responses.drop(columns=['Questionnaire','Organization','Country','CDP Region',\\\n",
    "                               'File Name','Last update','Comments'],inplace=True)"
   ]
  },
  {
   "cell_type": "code",
   "execution_count": 27,
   "id": "cc6c58b4",
   "metadata": {
    "scrolled": false
   },
   "outputs": [
    {
     "data": {
      "text/html": [
       "<div>\n",
       "<style scoped>\n",
       "    .dataframe tbody tr th:only-of-type {\n",
       "        vertical-align: middle;\n",
       "    }\n",
       "\n",
       "    .dataframe tbody tr th {\n",
       "        vertical-align: top;\n",
       "    }\n",
       "\n",
       "    .dataframe thead th {\n",
       "        text-align: right;\n",
       "    }\n",
       "</style>\n",
       "<table border=\"1\" class=\"dataframe\">\n",
       "  <thead>\n",
       "    <tr style=\"text-align: right;\">\n",
       "      <th></th>\n",
       "      <th>Year</th>\n",
       "      <th>Account_Num</th>\n",
       "      <th>Parent_Sect</th>\n",
       "      <th>Sect</th>\n",
       "      <th>Q_Num</th>\n",
       "      <th>Q_Name</th>\n",
       "      <th>Col_Num</th>\n",
       "      <th>Col_Name</th>\n",
       "      <th>Row_Num</th>\n",
       "      <th>Row_Name</th>\n",
       "      <th>Answer</th>\n",
       "    </tr>\n",
       "  </thead>\n",
       "  <tbody>\n",
       "    <tr>\n",
       "      <th>0</th>\n",
       "      <td>2019</td>\n",
       "      <td>1093</td>\n",
       "      <td>Opportunities</td>\n",
       "      <td>Opportunities</td>\n",
       "      <td>6.2</td>\n",
       "      <td>List any emission reduction, adaptation, water...</td>\n",
       "      <td>5</td>\n",
       "      <td>Project description</td>\n",
       "      <td>2</td>\n",
       "      <td>NaN</td>\n",
       "      <td>Renew Atlanta is an infrastructure improvement...</td>\n",
       "    </tr>\n",
       "    <tr>\n",
       "      <th>1</th>\n",
       "      <td>2018</td>\n",
       "      <td>1093</td>\n",
       "      <td>City Wide Emissions</td>\n",
       "      <td>GHG Emissions Data</td>\n",
       "      <td>7.5</td>\n",
       "      <td>Please attach your city-wide inventory in the ...</td>\n",
       "      <td>4</td>\n",
       "      <td>Comment on level of confidence</td>\n",
       "      <td>1</td>\n",
       "      <td>NaN</td>\n",
       "      <td>We were unable to retrieve natural gas data fr...</td>\n",
       "    </tr>\n",
       "    <tr>\n",
       "      <th>2</th>\n",
       "      <td>2019</td>\n",
       "      <td>1093</td>\n",
       "      <td>Emissions Reduction</td>\n",
       "      <td>Mitigation Target setting</td>\n",
       "      <td>5.0a</td>\n",
       "      <td>Please provide details of your total city-wide...</td>\n",
       "      <td>12</td>\n",
       "      <td>Please indicate to which sector(s) the target ...</td>\n",
       "      <td>1</td>\n",
       "      <td>NaN</td>\n",
       "      <td>Public facility</td>\n",
       "    </tr>\n",
       "    <tr>\n",
       "      <th>3</th>\n",
       "      <td>2019</td>\n",
       "      <td>1093</td>\n",
       "      <td>Emissions Reduction</td>\n",
       "      <td>Mitigation Target setting</td>\n",
       "      <td>5.0a</td>\n",
       "      <td>Please provide details of your total city-wide...</td>\n",
       "      <td>9</td>\n",
       "      <td>Target year absolute emissions (metric tonnes ...</td>\n",
       "      <td>1</td>\n",
       "      <td>NaN</td>\n",
       "      <td>NaN</td>\n",
       "    </tr>\n",
       "    <tr>\n",
       "      <th>4</th>\n",
       "      <td>2019</td>\n",
       "      <td>1093</td>\n",
       "      <td>Climate Hazards &amp; Vulnerability</td>\n",
       "      <td>Climate Hazards</td>\n",
       "      <td>2.2</td>\n",
       "      <td>Please identify and describe the factors that ...</td>\n",
       "      <td>2</td>\n",
       "      <td>Support / Challenge</td>\n",
       "      <td>4</td>\n",
       "      <td>NaN</td>\n",
       "      <td>Challenge</td>\n",
       "    </tr>\n",
       "  </tbody>\n",
       "</table>\n",
       "</div>"
      ],
      "text/plain": [
       "   Year  Account_Num                      Parent_Sect  \\\n",
       "0  2019         1093                    Opportunities   \n",
       "1  2018         1093              City Wide Emissions   \n",
       "2  2019         1093              Emissions Reduction   \n",
       "3  2019         1093              Emissions Reduction   \n",
       "4  2019         1093  Climate Hazards & Vulnerability   \n",
       "\n",
       "                        Sect Q_Num  \\\n",
       "0              Opportunities   6.2   \n",
       "1         GHG Emissions Data   7.5   \n",
       "2  Mitigation Target setting  5.0a   \n",
       "3  Mitigation Target setting  5.0a   \n",
       "4            Climate Hazards   2.2   \n",
       "\n",
       "                                              Q_Name  Col_Num  \\\n",
       "0  List any emission reduction, adaptation, water...        5   \n",
       "1  Please attach your city-wide inventory in the ...        4   \n",
       "2  Please provide details of your total city-wide...       12   \n",
       "3  Please provide details of your total city-wide...        9   \n",
       "4  Please identify and describe the factors that ...        2   \n",
       "\n",
       "                                            Col_Name  Row_Num Row_Name  \\\n",
       "0                                Project description        2      NaN   \n",
       "1                     Comment on level of confidence        1      NaN   \n",
       "2  Please indicate to which sector(s) the target ...        1      NaN   \n",
       "3  Target year absolute emissions (metric tonnes ...        1      NaN   \n",
       "4                                Support / Challenge        4      NaN   \n",
       "\n",
       "                                              Answer  \n",
       "0  Renew Atlanta is an infrastructure improvement...  \n",
       "1  We were unable to retrieve natural gas data fr...  \n",
       "2                                    Public facility  \n",
       "3                                                NaN  \n",
       "4                                          Challenge  "
      ]
     },
     "execution_count": 27,
     "metadata": {},
     "output_type": "execute_result"
    }
   ],
   "source": [
    "#rename columns\n",
    "Cities_Responses.columns=['Year','Account_Num','Parent_Sect','Sect','Q_Num','Q_Name',\\\n",
    "                          'Col_Num','Col_Name','Row_Num','Row_Name','Answer']\n",
    "Cities_Responses.head()"
   ]
  },
  {
   "cell_type": "markdown",
   "id": "dae2cb12",
   "metadata": {},
   "source": [
    "# THIS TOOK ME FOREVER TO FIGURE OUT!"
   ]
  },
  {
   "cell_type": "markdown",
   "id": "623ac80b",
   "metadata": {},
   "source": [
    "the raw data actually provides an additional records in instances where the respondee could provide multiple answers without identifying them via a new unique identifier(a different row_num tag). Therefore I'll group responses together on like IDs and merge the answers together via a join"
   ]
  },
  {
   "cell_type": "code",
   "execution_count": 28,
   "id": "66827495",
   "metadata": {},
   "outputs": [],
   "source": [
    "Cities_Responses.Answer = Cities_Responses.Answer.astype('str')"
   ]
  },
  {
   "cell_type": "code",
   "execution_count": 32,
   "id": "7ef01b0b",
   "metadata": {},
   "outputs": [
    {
     "data": {
      "text/html": [
       "<div>\n",
       "<style scoped>\n",
       "    .dataframe tbody tr th:only-of-type {\n",
       "        vertical-align: middle;\n",
       "    }\n",
       "\n",
       "    .dataframe tbody tr th {\n",
       "        vertical-align: top;\n",
       "    }\n",
       "\n",
       "    .dataframe thead th {\n",
       "        text-align: right;\n",
       "    }\n",
       "</style>\n",
       "<table border=\"1\" class=\"dataframe\">\n",
       "  <thead>\n",
       "    <tr style=\"text-align: right;\">\n",
       "      <th></th>\n",
       "      <th>Year</th>\n",
       "      <th>Account_Num</th>\n",
       "      <th>Parent_Sect</th>\n",
       "      <th>Sect</th>\n",
       "      <th>Q_Num</th>\n",
       "      <th>Col_Num</th>\n",
       "      <th>Row_Num</th>\n",
       "      <th>size</th>\n",
       "    </tr>\n",
       "  </thead>\n",
       "  <tbody>\n",
       "    <tr>\n",
       "      <th>104</th>\n",
       "      <td>2018</td>\n",
       "      <td>1093</td>\n",
       "      <td>Climate Hazards</td>\n",
       "      <td>Climate Hazards</td>\n",
       "      <td>2.2a</td>\n",
       "      <td>9</td>\n",
       "      <td>1</td>\n",
       "      <td>3</td>\n",
       "    </tr>\n",
       "    <tr>\n",
       "      <th>105</th>\n",
       "      <td>2018</td>\n",
       "      <td>1093</td>\n",
       "      <td>Climate Hazards</td>\n",
       "      <td>Climate Hazards</td>\n",
       "      <td>2.2a</td>\n",
       "      <td>9</td>\n",
       "      <td>2</td>\n",
       "      <td>3</td>\n",
       "    </tr>\n",
       "    <tr>\n",
       "      <th>106</th>\n",
       "      <td>2018</td>\n",
       "      <td>1093</td>\n",
       "      <td>Climate Hazards</td>\n",
       "      <td>Climate Hazards</td>\n",
       "      <td>2.2a</td>\n",
       "      <td>9</td>\n",
       "      <td>3</td>\n",
       "      <td>3</td>\n",
       "    </tr>\n",
       "    <tr>\n",
       "      <th>107</th>\n",
       "      <td>2018</td>\n",
       "      <td>1093</td>\n",
       "      <td>Climate Hazards</td>\n",
       "      <td>Climate Hazards</td>\n",
       "      <td>2.2a</td>\n",
       "      <td>9</td>\n",
       "      <td>4</td>\n",
       "      <td>3</td>\n",
       "    </tr>\n",
       "    <tr>\n",
       "      <th>108</th>\n",
       "      <td>2018</td>\n",
       "      <td>1093</td>\n",
       "      <td>Climate Hazards</td>\n",
       "      <td>Climate Hazards</td>\n",
       "      <td>2.2a</td>\n",
       "      <td>9</td>\n",
       "      <td>5</td>\n",
       "      <td>3</td>\n",
       "    </tr>\n",
       "    <tr>\n",
       "      <th>...</th>\n",
       "      <td>...</td>\n",
       "      <td>...</td>\n",
       "      <td>...</td>\n",
       "      <td>...</td>\n",
       "      <td>...</td>\n",
       "      <td>...</td>\n",
       "      <td>...</td>\n",
       "      <td>...</td>\n",
       "    </tr>\n",
       "    <tr>\n",
       "      <th>1140759</th>\n",
       "      <td>2020</td>\n",
       "      <td>848478</td>\n",
       "      <td>Climate Hazards and Vulnerability</td>\n",
       "      <td>Climate Hazards</td>\n",
       "      <td>2.1</td>\n",
       "      <td>6</td>\n",
       "      <td>1</td>\n",
       "      <td>2</td>\n",
       "    </tr>\n",
       "    <tr>\n",
       "      <th>1140760</th>\n",
       "      <td>2020</td>\n",
       "      <td>848478</td>\n",
       "      <td>Climate Hazards and Vulnerability</td>\n",
       "      <td>Climate Hazards</td>\n",
       "      <td>2.1</td>\n",
       "      <td>6</td>\n",
       "      <td>2</td>\n",
       "      <td>2</td>\n",
       "    </tr>\n",
       "    <tr>\n",
       "      <th>1140761</th>\n",
       "      <td>2020</td>\n",
       "      <td>848478</td>\n",
       "      <td>Climate Hazards and Vulnerability</td>\n",
       "      <td>Climate Hazards</td>\n",
       "      <td>2.1</td>\n",
       "      <td>7</td>\n",
       "      <td>1</td>\n",
       "      <td>2</td>\n",
       "    </tr>\n",
       "    <tr>\n",
       "      <th>1140815</th>\n",
       "      <td>2020</td>\n",
       "      <td>848478</td>\n",
       "      <td>Emissions Reduction</td>\n",
       "      <td>Mitigation Actions</td>\n",
       "      <td>5.4</td>\n",
       "      <td>9</td>\n",
       "      <td>1</td>\n",
       "      <td>4</td>\n",
       "    </tr>\n",
       "    <tr>\n",
       "      <th>1141051</th>\n",
       "      <td>2020</td>\n",
       "      <td>848478</td>\n",
       "      <td>Water Security</td>\n",
       "      <td>Water Supply</td>\n",
       "      <td>14.0</td>\n",
       "      <td>0</td>\n",
       "      <td>0</td>\n",
       "      <td>2</td>\n",
       "    </tr>\n",
       "  </tbody>\n",
       "</table>\n",
       "<p>36814 rows × 8 columns</p>\n",
       "</div>"
      ],
      "text/plain": [
       "         Year  Account_Num                        Parent_Sect  \\\n",
       "104      2018         1093                    Climate Hazards   \n",
       "105      2018         1093                    Climate Hazards   \n",
       "106      2018         1093                    Climate Hazards   \n",
       "107      2018         1093                    Climate Hazards   \n",
       "108      2018         1093                    Climate Hazards   \n",
       "...       ...          ...                                ...   \n",
       "1140759  2020       848478  Climate Hazards and Vulnerability   \n",
       "1140760  2020       848478  Climate Hazards and Vulnerability   \n",
       "1140761  2020       848478  Climate Hazards and Vulnerability   \n",
       "1140815  2020       848478                Emissions Reduction   \n",
       "1141051  2020       848478                     Water Security   \n",
       "\n",
       "                       Sect Q_Num  Col_Num  Row_Num  size  \n",
       "104         Climate Hazards  2.2a        9        1     3  \n",
       "105         Climate Hazards  2.2a        9        2     3  \n",
       "106         Climate Hazards  2.2a        9        3     3  \n",
       "107         Climate Hazards  2.2a        9        4     3  \n",
       "108         Climate Hazards  2.2a        9        5     3  \n",
       "...                     ...   ...      ...      ...   ...  \n",
       "1140759     Climate Hazards   2.1        6        1     2  \n",
       "1140760     Climate Hazards   2.1        6        2     2  \n",
       "1140761     Climate Hazards   2.1        7        1     2  \n",
       "1140815  Mitigation Actions   5.4        9        1     4  \n",
       "1141051        Water Supply  14.0        0        0     2  \n",
       "\n",
       "[36814 rows x 8 columns]"
      ]
     },
     "execution_count": 32,
     "metadata": {},
     "output_type": "execute_result"
    }
   ],
   "source": [
    "report_questions = Cities_Responses.groupby(['Year',\n",
    "                          'Account_Num',\n",
    "                          'Parent_Sect',\n",
    "                          'Sect',\n",
    "                          'Q_Num',\n",
    "                          'Col_Num',\n",
    "                          'Row_Num'], as_index=False).size()\n",
    "report_questions.query(\"size>1\")"
   ]
  },
  {
   "cell_type": "code",
   "execution_count": 34,
   "id": "b1dba6f2",
   "metadata": {},
   "outputs": [
    {
     "data": {
      "text/html": [
       "<div>\n",
       "<style scoped>\n",
       "    .dataframe tbody tr th:only-of-type {\n",
       "        vertical-align: middle;\n",
       "    }\n",
       "\n",
       "    .dataframe tbody tr th {\n",
       "        vertical-align: top;\n",
       "    }\n",
       "\n",
       "    .dataframe thead th {\n",
       "        text-align: right;\n",
       "    }\n",
       "</style>\n",
       "<table border=\"1\" class=\"dataframe\">\n",
       "  <thead>\n",
       "    <tr style=\"text-align: right;\">\n",
       "      <th></th>\n",
       "      <th>Year</th>\n",
       "      <th>Account_Num</th>\n",
       "      <th>Parent_Sect</th>\n",
       "      <th>Sect</th>\n",
       "      <th>Q_Num</th>\n",
       "      <th>Q_Name</th>\n",
       "      <th>Col_Num</th>\n",
       "      <th>Col_Name</th>\n",
       "      <th>Row_Num</th>\n",
       "      <th>Row_Name</th>\n",
       "      <th>Answer</th>\n",
       "    </tr>\n",
       "  </thead>\n",
       "  <tbody>\n",
       "    <tr>\n",
       "      <th>62</th>\n",
       "      <td>2018</td>\n",
       "      <td>1093</td>\n",
       "      <td>Climate Hazards</td>\n",
       "      <td>Climate Hazards</td>\n",
       "      <td>2.2a</td>\n",
       "      <td>Please list the most significant climate hazar...</td>\n",
       "      <td>9</td>\n",
       "      <td>Top three assets/ services affected</td>\n",
       "      <td>1</td>\n",
       "      <td>NaN</td>\n",
       "      <td>Emergency management</td>\n",
       "    </tr>\n",
       "    <tr>\n",
       "      <th>241</th>\n",
       "      <td>2018</td>\n",
       "      <td>1093</td>\n",
       "      <td>Climate Hazards</td>\n",
       "      <td>Climate Hazards</td>\n",
       "      <td>2.2a</td>\n",
       "      <td>Please list the most significant climate hazar...</td>\n",
       "      <td>9</td>\n",
       "      <td>Top three assets/ services affected</td>\n",
       "      <td>1</td>\n",
       "      <td>NaN</td>\n",
       "      <td>Food &amp; agriculture</td>\n",
       "    </tr>\n",
       "    <tr>\n",
       "      <th>747</th>\n",
       "      <td>2018</td>\n",
       "      <td>1093</td>\n",
       "      <td>Climate Hazards</td>\n",
       "      <td>Climate Hazards</td>\n",
       "      <td>2.2a</td>\n",
       "      <td>Please list the most significant climate hazar...</td>\n",
       "      <td>9</td>\n",
       "      <td>Top three assets/ services affected</td>\n",
       "      <td>1</td>\n",
       "      <td>NaN</td>\n",
       "      <td>Water supply &amp; sanitation</td>\n",
       "    </tr>\n",
       "  </tbody>\n",
       "</table>\n",
       "</div>"
      ],
      "text/plain": [
       "     Year  Account_Num      Parent_Sect             Sect Q_Num  \\\n",
       "62   2018         1093  Climate Hazards  Climate Hazards  2.2a   \n",
       "241  2018         1093  Climate Hazards  Climate Hazards  2.2a   \n",
       "747  2018         1093  Climate Hazards  Climate Hazards  2.2a   \n",
       "\n",
       "                                                Q_Name  Col_Num  \\\n",
       "62   Please list the most significant climate hazar...        9   \n",
       "241  Please list the most significant climate hazar...        9   \n",
       "747  Please list the most significant climate hazar...        9   \n",
       "\n",
       "                                Col_Name  Row_Num Row_Name  \\\n",
       "62   Top three assets/ services affected        1      NaN   \n",
       "241  Top three assets/ services affected        1      NaN   \n",
       "747  Top three assets/ services affected        1      NaN   \n",
       "\n",
       "                        Answer  \n",
       "62        Emergency management  \n",
       "241         Food & agriculture  \n",
       "747  Water supply & sanitation  "
      ]
     },
     "execution_count": 34,
     "metadata": {},
     "output_type": "execute_result"
    }
   ],
   "source": [
    "Cities_Responses.query(\"Account_Num ==1093 & Sect=='Climate Hazards' & Q_Num =='2.2a' & Col_Num ==9 & Row_Num ==1\")"
   ]
  },
  {
   "cell_type": "code",
   "execution_count": 45,
   "id": "d352d864",
   "metadata": {},
   "outputs": [],
   "source": [
    "Cities_Responses_Grouped = Cities_Responses.groupby(['Year',\n",
    "                          'Account_Num',\n",
    "                          'Parent_Sect',\n",
    "                          'Sect',\n",
    "                          'Q_Num',\n",
    "                          'Col_Num',\n",
    "                          'Row_Num'], as_index=False)['Answer'].apply(', '.join)       "
   ]
  },
  {
   "cell_type": "code",
   "execution_count": 46,
   "id": "7444395c",
   "metadata": {},
   "outputs": [
    {
     "data": {
      "text/html": [
       "<div>\n",
       "<style scoped>\n",
       "    .dataframe tbody tr th:only-of-type {\n",
       "        vertical-align: middle;\n",
       "    }\n",
       "\n",
       "    .dataframe tbody tr th {\n",
       "        vertical-align: top;\n",
       "    }\n",
       "\n",
       "    .dataframe thead th {\n",
       "        text-align: right;\n",
       "    }\n",
       "</style>\n",
       "<table border=\"1\" class=\"dataframe\">\n",
       "  <thead>\n",
       "    <tr style=\"text-align: right;\">\n",
       "      <th></th>\n",
       "      <th>Year</th>\n",
       "      <th>Account_Num</th>\n",
       "      <th>Parent_Sect</th>\n",
       "      <th>Sect</th>\n",
       "      <th>Q_Num</th>\n",
       "      <th>Col_Num</th>\n",
       "      <th>Row_Num</th>\n",
       "      <th>Answer</th>\n",
       "    </tr>\n",
       "  </thead>\n",
       "  <tbody>\n",
       "    <tr>\n",
       "      <th>104</th>\n",
       "      <td>2018</td>\n",
       "      <td>1093</td>\n",
       "      <td>Climate Hazards</td>\n",
       "      <td>Climate Hazards</td>\n",
       "      <td>2.2a</td>\n",
       "      <td>9</td>\n",
       "      <td>1</td>\n",
       "      <td>Emergency management, Food &amp; agriculture, Wate...</td>\n",
       "    </tr>\n",
       "  </tbody>\n",
       "</table>\n",
       "</div>"
      ],
      "text/plain": [
       "     Year  Account_Num      Parent_Sect             Sect Q_Num  Col_Num  \\\n",
       "104  2018         1093  Climate Hazards  Climate Hazards  2.2a        9   \n",
       "\n",
       "     Row_Num                                             Answer  \n",
       "104        1  Emergency management, Food & agriculture, Wate...  "
      ]
     },
     "execution_count": 46,
     "metadata": {},
     "output_type": "execute_result"
    }
   ],
   "source": [
    "Cities_Responses_Grouped.query(\"Account_Num ==1093 & Sect=='Climate Hazards' & Q_Num =='2.2a' & Col_Num ==9 & Row_Num ==1\")"
   ]
  },
  {
   "cell_type": "markdown",
   "id": "4b382ef9",
   "metadata": {},
   "source": [
    "## Constructing Relational Datasets"
   ]
  },
  {
   "cell_type": "code",
   "execution_count": 47,
   "id": "0d0ee186",
   "metadata": {},
   "outputs": [
    {
     "data": {
      "text/html": [
       "<div>\n",
       "<style scoped>\n",
       "    .dataframe tbody tr th:only-of-type {\n",
       "        vertical-align: middle;\n",
       "    }\n",
       "\n",
       "    .dataframe tbody tr th {\n",
       "        vertical-align: top;\n",
       "    }\n",
       "\n",
       "    .dataframe thead th {\n",
       "        text-align: right;\n",
       "    }\n",
       "</style>\n",
       "<table border=\"1\" class=\"dataframe\">\n",
       "  <thead>\n",
       "    <tr style=\"text-align: right;\">\n",
       "      <th></th>\n",
       "      <th>Question_ID</th>\n",
       "      <th>Year</th>\n",
       "      <th>Parent_Sect</th>\n",
       "      <th>Sect</th>\n",
       "      <th>Q_Num</th>\n",
       "      <th>Q_Name</th>\n",
       "      <th>Col_Num</th>\n",
       "      <th>Col_Name</th>\n",
       "      <th>Row_Num</th>\n",
       "      <th>Row_Name</th>\n",
       "    </tr>\n",
       "  </thead>\n",
       "  <tbody>\n",
       "    <tr>\n",
       "      <th>0</th>\n",
       "      <td>0</td>\n",
       "      <td>2019</td>\n",
       "      <td>Adaptation</td>\n",
       "      <td>Adaptation Actions</td>\n",
       "      <td>3.0</td>\n",
       "      <td>Please describe the main actions you are takin...</td>\n",
       "      <td>1</td>\n",
       "      <td>Climate hazards</td>\n",
       "      <td>0</td>\n",
       "      <td>NaN</td>\n",
       "    </tr>\n",
       "    <tr>\n",
       "      <th>1</th>\n",
       "      <td>1</td>\n",
       "      <td>2020</td>\n",
       "      <td>Adaptation</td>\n",
       "      <td>Adaptation Actions</td>\n",
       "      <td>3.0</td>\n",
       "      <td>Please describe the main actions you are takin...</td>\n",
       "      <td>1</td>\n",
       "      <td>Climate hazards</td>\n",
       "      <td>0</td>\n",
       "      <td>NaN</td>\n",
       "    </tr>\n",
       "    <tr>\n",
       "      <th>2</th>\n",
       "      <td>2</td>\n",
       "      <td>2019</td>\n",
       "      <td>Adaptation</td>\n",
       "      <td>Adaptation Actions</td>\n",
       "      <td>3.0</td>\n",
       "      <td>Please describe the main actions you are takin...</td>\n",
       "      <td>1</td>\n",
       "      <td>Climate hazards</td>\n",
       "      <td>1</td>\n",
       "      <td>NaN</td>\n",
       "    </tr>\n",
       "    <tr>\n",
       "      <th>3</th>\n",
       "      <td>3</td>\n",
       "      <td>2020</td>\n",
       "      <td>Adaptation</td>\n",
       "      <td>Adaptation Actions</td>\n",
       "      <td>3.0</td>\n",
       "      <td>Please describe the main actions you are takin...</td>\n",
       "      <td>1</td>\n",
       "      <td>Climate hazards</td>\n",
       "      <td>1</td>\n",
       "      <td>NaN</td>\n",
       "    </tr>\n",
       "    <tr>\n",
       "      <th>4</th>\n",
       "      <td>4</td>\n",
       "      <td>2019</td>\n",
       "      <td>Adaptation</td>\n",
       "      <td>Adaptation Actions</td>\n",
       "      <td>3.0</td>\n",
       "      <td>Please describe the main actions you are takin...</td>\n",
       "      <td>1</td>\n",
       "      <td>Climate hazards</td>\n",
       "      <td>2</td>\n",
       "      <td>NaN</td>\n",
       "    </tr>\n",
       "  </tbody>\n",
       "</table>\n",
       "</div>"
      ],
      "text/plain": [
       "   Question_ID  Year Parent_Sect                Sect Q_Num  \\\n",
       "0            0  2019  Adaptation  Adaptation Actions   3.0   \n",
       "1            1  2020  Adaptation  Adaptation Actions   3.0   \n",
       "2            2  2019  Adaptation  Adaptation Actions   3.0   \n",
       "3            3  2020  Adaptation  Adaptation Actions   3.0   \n",
       "4            4  2019  Adaptation  Adaptation Actions   3.0   \n",
       "\n",
       "                                              Q_Name  Col_Num  \\\n",
       "0  Please describe the main actions you are takin...        1   \n",
       "1  Please describe the main actions you are takin...        1   \n",
       "2  Please describe the main actions you are takin...        1   \n",
       "3  Please describe the main actions you are takin...        1   \n",
       "4  Please describe the main actions you are takin...        1   \n",
       "\n",
       "          Col_Name  Row_Num Row_Name  \n",
       "0  Climate hazards        0      NaN  \n",
       "1  Climate hazards        0      NaN  \n",
       "2  Climate hazards        1      NaN  \n",
       "3  Climate hazards        1      NaN  \n",
       "4  Climate hazards        2      NaN  "
      ]
     },
     "execution_count": 47,
     "metadata": {},
     "output_type": "execute_result"
    }
   ],
   "source": [
    "#Create table of unique questions from the questionaire\n",
    "Questionaire_Questions =Cities_Responses[['Year','Parent_Sect','Sect','Q_Num',\\\n",
    "                                          'Q_Name','Col_Num','Col_Name','Row_Num','Row_Name']].drop_duplicates()\n",
    "#reset index\n",
    "Questionaire_Questions=Questionaire_Questions.\\\n",
    "        sort_values(['Parent_Sect','Sect','Q_Num','Col_Num','Row_Num','Year'])\n",
    "\n",
    "#we now need to drop duplicate rows \n",
    "Questionaire_Questions.drop_duplicates(inplace=True)\n",
    "\n",
    "#add a unique ID for each row via indexing\n",
    "Questionaire_Questions = Questionaire_Questions.reset_index(drop=True)\n",
    "\n",
    "#Change index name to Question ID\n",
    "Questionaire_Questions.index.name=\"Question_ID\"\n",
    "Questionaire_Questions.reset_index(inplace=True)\n",
    "\n",
    "#Head\n",
    "Questionaire_Questions.head()"
   ]
  },
  {
   "cell_type": "code",
   "execution_count": 48,
   "id": "4ac6464c",
   "metadata": {},
   "outputs": [],
   "source": [
    "#create our new FACT_DF \n",
    "    #that contains Account_Num(Key from disclosure DF) and \n",
    "    #Question_Id (Key from questionare_question df)\n",
    "    \n",
    "df = Cities_Responses_Grouped.merge(Questionaire_Questions,on=['Parent_Sect','Sect','Year','Q_Num','Col_Num','Row_Num'])\n",
    "\n",
    "#subset\n",
    "df = df[['Year','Account_Num','Question_ID','Answer']]"
   ]
  },
  {
   "cell_type": "code",
   "execution_count": 49,
   "id": "fb4d07e9",
   "metadata": {},
   "outputs": [
    {
     "data": {
      "text/plain": [
       "['Year', 'Account_Num', 'Question_ID', 'Answer']"
      ]
     },
     "execution_count": 49,
     "metadata": {},
     "output_type": "execute_result"
    }
   ],
   "source": [
    "df.columns.to_list()"
   ]
  },
  {
   "cell_type": "markdown",
   "id": "73b2e5e0",
   "metadata": {},
   "source": [
    "Lets test to make sure that the question_ID corresponds to the correct Answer."
   ]
  },
  {
   "cell_type": "code",
   "execution_count": 50,
   "id": "8a85e2bb",
   "metadata": {},
   "outputs": [],
   "source": [
    "#Create a function to test that our merges line up properly. \n",
    "def test_merge_Q_id(account_Num,Question_ID,answer):\n",
    "    '''\n",
    "    This is to make sure that I lined up the Questionare_Questions DF to the Cities_Response DataFrame.\n",
    "    Enter an account_Num, Question_ID, and the answer that you are expecting\n",
    "    '''\n",
    "    \n",
    "    #isolate from the questionaire df\n",
    "    qq=Questionaire_Questions.loc[Questionaire_Questions.Question_ID==Question_ID] \n",
    "    \n",
    "    #isolate from the responses df\n",
    "    cr=Cities_Responses.loc[Cities_Responses['Account_Num']==account_Num]\\\n",
    "    [['Answer','Year','Q_Num','Q_Name','Col_Num','Col_Name','Row_Num','Row_Name']]\n",
    "    \n",
    "    #make sure the data matches \n",
    "    result = cr.loc[(cr.Year.isin(qq.Year))&\\\n",
    "                    (cr.Q_Num.isin(qq.Q_Num))&\\\n",
    "                    (cr.Col_Num.isin(qq.Col_Num))&\\\n",
    "                    (cr.Row_Num.isin(qq.Row_Num)),'Answer']\n",
    "    \n",
    "    #make sure the answers match\n",
    "    assert answer == result.values\n"
   ]
  },
  {
   "cell_type": "code",
   "execution_count": 51,
   "id": "eaacf410",
   "metadata": {
    "scrolled": true
   },
   "outputs": [],
   "source": [
    "#test the function by pluging in an account_num, quesitno_id and the expected answer\n",
    "test_merge_Q_id(56276,5926,'250')\n",
    "test_merge_Q_id(31182,18414,'EV Charging Infrastructure. \\\n",
    "The Port of San Francisco is currently seeking an outside \\\n",
    "partner to install EV charging infrastructure on Port property \\\n",
    "and make it available for public charging.')"
   ]
  },
  {
   "cell_type": "markdown",
   "id": "c2aaf5b3",
   "metadata": {},
   "source": [
    "All good! No errors"
   ]
  },
  {
   "cell_type": "markdown",
   "id": "9c8be796",
   "metadata": {},
   "source": [
    "## Cleaning up the df"
   ]
  },
  {
   "cell_type": "code",
   "execution_count": 52,
   "id": "5f252832",
   "metadata": {},
   "outputs": [
    {
     "data": {
      "text/plain": [
       "Year            int64\n",
       "Account_Num     int64\n",
       "Question_ID     int64\n",
       "Answer         object\n",
       "dtype: object"
      ]
     },
     "execution_count": 52,
     "metadata": {},
     "output_type": "execute_result"
    }
   ],
   "source": [
    "df.dtypes"
   ]
  },
  {
   "cell_type": "code",
   "execution_count": 53,
   "id": "d9212a82",
   "metadata": {},
   "outputs": [
    {
     "data": {
      "text/plain": [
       "Year           0\n",
       "Account_Num    0\n",
       "Question_ID    0\n",
       "Answer         0\n",
       "dtype: int64"
      ]
     },
     "execution_count": 53,
     "metadata": {},
     "output_type": "execute_result"
    }
   ],
   "source": [
    "#Check for nulls\n",
    "df.isnull().sum()"
   ]
  },
  {
   "cell_type": "code",
   "execution_count": 54,
   "id": "cc8b632c",
   "metadata": {},
   "outputs": [
    {
     "data": {
      "text/html": [
       "<div>\n",
       "<style scoped>\n",
       "    .dataframe tbody tr th:only-of-type {\n",
       "        vertical-align: middle;\n",
       "    }\n",
       "\n",
       "    .dataframe tbody tr th {\n",
       "        vertical-align: top;\n",
       "    }\n",
       "\n",
       "    .dataframe thead th {\n",
       "        text-align: right;\n",
       "    }\n",
       "</style>\n",
       "<table border=\"1\" class=\"dataframe\">\n",
       "  <thead>\n",
       "    <tr style=\"text-align: right;\">\n",
       "      <th></th>\n",
       "      <th>Year</th>\n",
       "      <th>Account_Num</th>\n",
       "      <th>Question_ID</th>\n",
       "      <th>Answer</th>\n",
       "    </tr>\n",
       "  </thead>\n",
       "  <tbody>\n",
       "  </tbody>\n",
       "</table>\n",
       "</div>"
      ],
      "text/plain": [
       "Empty DataFrame\n",
       "Columns: [Year, Account_Num, Question_ID, Answer]\n",
       "Index: []"
      ]
     },
     "execution_count": 54,
     "metadata": {},
     "output_type": "execute_result"
    }
   ],
   "source": [
    "df.loc[df.Answer.isna()]"
   ]
  },
  {
   "cell_type": "markdown",
   "id": "cefd8393",
   "metadata": {},
   "source": [
    "we can remove these from our df since they are blanks"
   ]
  },
  {
   "cell_type": "code",
   "execution_count": 55,
   "id": "e25d54b1",
   "metadata": {},
   "outputs": [],
   "source": [
    "df.dropna(inplace=True)"
   ]
  },
  {
   "cell_type": "code",
   "execution_count": 56,
   "id": "237dce82",
   "metadata": {},
   "outputs": [
    {
     "data": {
      "text/html": [
       "<div>\n",
       "<style scoped>\n",
       "    .dataframe tbody tr th:only-of-type {\n",
       "        vertical-align: middle;\n",
       "    }\n",
       "\n",
       "    .dataframe tbody tr th {\n",
       "        vertical-align: top;\n",
       "    }\n",
       "\n",
       "    .dataframe thead th {\n",
       "        text-align: right;\n",
       "    }\n",
       "</style>\n",
       "<table border=\"1\" class=\"dataframe\">\n",
       "  <thead>\n",
       "    <tr style=\"text-align: right;\">\n",
       "      <th></th>\n",
       "      <th>Year</th>\n",
       "      <th>Account_Num</th>\n",
       "      <th>Question_ID</th>\n",
       "      <th>Answer</th>\n",
       "    </tr>\n",
       "  </thead>\n",
       "  <tbody>\n",
       "    <tr>\n",
       "      <th>0</th>\n",
       "      <td>2018</td>\n",
       "      <td>1093</td>\n",
       "      <td>1655</td>\n",
       "      <td>Rain storm</td>\n",
       "    </tr>\n",
       "    <tr>\n",
       "      <th>1</th>\n",
       "      <td>2018</td>\n",
       "      <td>1184</td>\n",
       "      <td>1655</td>\n",
       "      <td>nan</td>\n",
       "    </tr>\n",
       "    <tr>\n",
       "      <th>2</th>\n",
       "      <td>2018</td>\n",
       "      <td>1499</td>\n",
       "      <td>1655</td>\n",
       "      <td>Rain storm</td>\n",
       "    </tr>\n",
       "    <tr>\n",
       "      <th>3</th>\n",
       "      <td>2018</td>\n",
       "      <td>3203</td>\n",
       "      <td>1655</td>\n",
       "      <td>Flash/surface flood</td>\n",
       "    </tr>\n",
       "    <tr>\n",
       "      <th>4</th>\n",
       "      <td>2018</td>\n",
       "      <td>3417</td>\n",
       "      <td>1655</td>\n",
       "      <td>Coastal flood</td>\n",
       "    </tr>\n",
       "  </tbody>\n",
       "</table>\n",
       "</div>"
      ],
      "text/plain": [
       "   Year  Account_Num  Question_ID               Answer\n",
       "0  2018         1093         1655           Rain storm\n",
       "1  2018         1184         1655                  nan\n",
       "2  2018         1499         1655           Rain storm\n",
       "3  2018         3203         1655  Flash/surface flood\n",
       "4  2018         3417         1655        Coastal flood"
      ]
     },
     "execution_count": 56,
     "metadata": {},
     "output_type": "execute_result"
    }
   ],
   "source": [
    "df.head()"
   ]
  },
  {
   "cell_type": "markdown",
   "id": "b880a549",
   "metadata": {},
   "source": [
    "## Inspect Geospatial Analysis"
   ]
  },
  {
   "cell_type": "code",
   "execution_count": 57,
   "id": "55ce68dc",
   "metadata": {},
   "outputs": [
    {
     "data": {
      "text/plain": [
       "array(['POINT (-84.388 33.749)', 'POINT (-97.7431 30.2672)',\n",
       "       'POINT (2.1775 41.3823)', nan, 'POINT (-73.2121 44.4759)',\n",
       "       'POINT (-87.6298 41.8781)', 'POINT (-74.0059 40.7128)',\n",
       "       'POINT (-0.07868 51.5048)', 'POINT (18.0686 59.3293)',\n",
       "       'POINT (24.941 60.1733)'], dtype=object)"
      ]
     },
     "execution_count": 57,
     "metadata": {},
     "output_type": "execute_result"
    }
   ],
   "source": [
    "#review values\n",
    "cities_disclosure.City_Loc.unique()[:10]"
   ]
  },
  {
   "cell_type": "code",
   "execution_count": 58,
   "id": "5a32e265",
   "metadata": {},
   "outputs": [],
   "source": [
    "#rename the geo data to match convention\n",
    "cities_disclosure.rename(columns={'City_Loc':'geometry'},inplace=True)"
   ]
  },
  {
   "cell_type": "code",
   "execution_count": 59,
   "id": "61c9462c",
   "metadata": {},
   "outputs": [],
   "source": [
    "#remove null geopoints from the dataset\n",
    "CD_df = cities_disclosure.dropna()"
   ]
  },
  {
   "cell_type": "code",
   "execution_count": 60,
   "id": "4d777466",
   "metadata": {},
   "outputs": [
    {
     "name": "stderr",
     "output_type": "stream",
     "text": [
      "/var/folders/r8/kdff6gm9553_wdcqb3x5r7vh0000gq/T/ipykernel_8682/742568004.py:2: SettingWithCopyWarning: \n",
      "A value is trying to be set on a copy of a slice from a DataFrame.\n",
      "Try using .loc[row_indexer,col_indexer] = value instead\n",
      "\n",
      "See the caveats in the documentation: https://pandas.pydata.org/pandas-docs/stable/user_guide/indexing.html#returning-a-view-versus-a-copy\n",
      "  CD_df['lat']=CD_df.geometry.apply(lambda x: x.split(' ')[2].strip(')'))\n",
      "/var/folders/r8/kdff6gm9553_wdcqb3x5r7vh0000gq/T/ipykernel_8682/742568004.py:3: SettingWithCopyWarning: \n",
      "A value is trying to be set on a copy of a slice from a DataFrame.\n",
      "Try using .loc[row_indexer,col_indexer] = value instead\n",
      "\n",
      "See the caveats in the documentation: https://pandas.pydata.org/pandas-docs/stable/user_guide/indexing.html#returning-a-view-versus-a-copy\n",
      "  CD_df['long']=CD_df.geometry.apply(lambda x: x.split(' ')[1].strip('('))\n"
     ]
    }
   ],
   "source": [
    "#add Lat Long coords\n",
    "CD_df['lat']=CD_df.geometry.apply(lambda x: x.split(' ')[2].strip(')'))\n",
    "CD_df['long']=CD_df.geometry.apply(lambda x: x.split(' ')[1].strip('('))"
   ]
  },
  {
   "cell_type": "code",
   "execution_count": 61,
   "id": "4b7f619e",
   "metadata": {},
   "outputs": [],
   "source": [
    "### Saving Data to interim folder\n",
    "CD_df.to_csv('../data/interim_data/dim_cd_df.csv')\n",
    "df.to_csv('../data/interim_data/FACT_df.csv')\n",
    "Questionaire_Questions.to_csv('../data/interim_data/dim_qq_df.csv')"
   ]
  },
  {
   "cell_type": "code",
   "execution_count": null,
   "id": "7490c19c",
   "metadata": {},
   "outputs": [],
   "source": []
  },
  {
   "cell_type": "code",
   "execution_count": null,
   "id": "602f607b",
   "metadata": {},
   "outputs": [],
   "source": []
  }
 ],
 "metadata": {
  "kernelspec": {
   "display_name": "Python 3 (ipykernel)",
   "language": "python",
   "name": "python3"
  },
  "language_info": {
   "codemirror_mode": {
    "name": "ipython",
    "version": 3
   },
   "file_extension": ".py",
   "mimetype": "text/x-python",
   "name": "python",
   "nbconvert_exporter": "python",
   "pygments_lexer": "ipython3",
   "version": "3.9.13"
  }
 },
 "nbformat": 4,
 "nbformat_minor": 5
}
