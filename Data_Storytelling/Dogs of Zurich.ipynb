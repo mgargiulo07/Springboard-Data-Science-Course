{
 "cells": [
  {
   "cell_type": "markdown",
   "id": "cd749383",
   "metadata": {},
   "source": [
    "# Dogs of Zurich"
   ]
  },
  {
   "cell_type": "markdown",
   "id": "9bd5de0f",
   "metadata": {},
   "source": [
    "## Libraries"
   ]
  },
  {
   "cell_type": "code",
   "execution_count": 1,
   "id": "c190b458",
   "metadata": {},
   "outputs": [],
   "source": [
    "import pandas as pd\n",
    "import numpy as np\n",
    "import matplotlib.pyplot as plt\n",
    "import seaborn as sns\n",
    "from datetime import datetime"
   ]
  },
  {
   "cell_type": "markdown",
   "id": "f38db71f",
   "metadata": {},
   "source": [
    "### Import Data"
   ]
  },
  {
   "cell_type": "code",
   "execution_count": 2,
   "id": "ecf8edea",
   "metadata": {},
   "outputs": [],
   "source": [
    "d2015 = pd.read_csv('data/20151001hundehalter.csv')\n",
    "d2016 = pd.read_csv('data/20160307hundehalter.csv')\n",
    "d2017 = pd.read_csv('data/20170308hundehalter.csv')\n",
    "#metadata = pd.read_csv('data/zuordnungstabellehunderassehundetyp.csv')"
   ]
  },
  {
   "cell_type": "markdown",
   "id": "964bea6f",
   "metadata": {},
   "source": [
    "### Merge Data and change column names"
   ]
  },
  {
   "cell_type": "code",
   "execution_count": 3,
   "id": "94b1e261",
   "metadata": {},
   "outputs": [],
   "source": [
    "df =pd.concat([d2015,d2016,d2017])\n",
    "df.columns=['ID',\n",
    "            'Age',\n",
    "            'Gender',\n",
    "            'City_District',\n",
    "            'City_Quarter',\n",
    "            'Primary_Breed',\n",
    "            'Primary_Breed_Mixed',\n",
    "            'Secondary_Breed',\n",
    "            'Secondary_Breed_Mixed',\n",
    "            'Breed_Type',\n",
    "            'Dog_Birth_Year',\n",
    "            'Dog_Gender',\n",
    "            'Dog_Color']"
   ]
  },
  {
   "cell_type": "code",
   "execution_count": 4,
   "id": "055cd71a",
   "metadata": {},
   "outputs": [
    {
     "data": {
      "text/html": [
       "<div>\n",
       "<style scoped>\n",
       "    .dataframe tbody tr th:only-of-type {\n",
       "        vertical-align: middle;\n",
       "    }\n",
       "\n",
       "    .dataframe tbody tr th {\n",
       "        vertical-align: top;\n",
       "    }\n",
       "\n",
       "    .dataframe thead th {\n",
       "        text-align: right;\n",
       "    }\n",
       "</style>\n",
       "<table border=\"1\" class=\"dataframe\">\n",
       "  <thead>\n",
       "    <tr style=\"text-align: right;\">\n",
       "      <th></th>\n",
       "      <th>ID</th>\n",
       "      <th>Age</th>\n",
       "      <th>Gender</th>\n",
       "      <th>City_District</th>\n",
       "      <th>City_Quarter</th>\n",
       "      <th>Primary_Breed</th>\n",
       "      <th>Primary_Breed_Mixed</th>\n",
       "      <th>Secondary_Breed</th>\n",
       "      <th>Secondary_Breed_Mixed</th>\n",
       "      <th>Breed_Type</th>\n",
       "      <th>Dog_Birth_Year</th>\n",
       "      <th>Dog_Gender</th>\n",
       "      <th>Dog_Color</th>\n",
       "    </tr>\n",
       "  </thead>\n",
       "  <tbody>\n",
       "    <tr>\n",
       "      <th>0</th>\n",
       "      <td>126</td>\n",
       "      <td>51-60</td>\n",
       "      <td>m</td>\n",
       "      <td>9.0</td>\n",
       "      <td>92.0</td>\n",
       "      <td>Welsh Terrier</td>\n",
       "      <td>NaN</td>\n",
       "      <td>NaN</td>\n",
       "      <td>NaN</td>\n",
       "      <td>K</td>\n",
       "      <td>2011</td>\n",
       "      <td>w</td>\n",
       "      <td>schwarz/braun</td>\n",
       "    </tr>\n",
       "    <tr>\n",
       "      <th>1</th>\n",
       "      <td>574</td>\n",
       "      <td>61-70</td>\n",
       "      <td>w</td>\n",
       "      <td>2.0</td>\n",
       "      <td>23.0</td>\n",
       "      <td>Cairn Terrier</td>\n",
       "      <td>NaN</td>\n",
       "      <td>NaN</td>\n",
       "      <td>NaN</td>\n",
       "      <td>K</td>\n",
       "      <td>2002</td>\n",
       "      <td>w</td>\n",
       "      <td>brindle</td>\n",
       "    </tr>\n",
       "    <tr>\n",
       "      <th>2</th>\n",
       "      <td>695</td>\n",
       "      <td>41-50</td>\n",
       "      <td>m</td>\n",
       "      <td>6.0</td>\n",
       "      <td>63.0</td>\n",
       "      <td>Labrador Retriever</td>\n",
       "      <td>NaN</td>\n",
       "      <td>NaN</td>\n",
       "      <td>NaN</td>\n",
       "      <td>I</td>\n",
       "      <td>2012</td>\n",
       "      <td>w</td>\n",
       "      <td>braun</td>\n",
       "    </tr>\n",
       "    <tr>\n",
       "      <th>3</th>\n",
       "      <td>893</td>\n",
       "      <td>61-70</td>\n",
       "      <td>w</td>\n",
       "      <td>7.0</td>\n",
       "      <td>71.0</td>\n",
       "      <td>Mittelschnauzer</td>\n",
       "      <td>NaN</td>\n",
       "      <td>NaN</td>\n",
       "      <td>NaN</td>\n",
       "      <td>I</td>\n",
       "      <td>2010</td>\n",
       "      <td>w</td>\n",
       "      <td>schwarz</td>\n",
       "    </tr>\n",
       "    <tr>\n",
       "      <th>4</th>\n",
       "      <td>1177</td>\n",
       "      <td>51-60</td>\n",
       "      <td>m</td>\n",
       "      <td>10.0</td>\n",
       "      <td>102.0</td>\n",
       "      <td>Shih Tzu</td>\n",
       "      <td>NaN</td>\n",
       "      <td>NaN</td>\n",
       "      <td>NaN</td>\n",
       "      <td>K</td>\n",
       "      <td>2011</td>\n",
       "      <td>m</td>\n",
       "      <td>schwarz/weiss</td>\n",
       "    </tr>\n",
       "  </tbody>\n",
       "</table>\n",
       "</div>"
      ],
      "text/plain": [
       "     ID    Age Gender  City_District  City_Quarter       Primary_Breed  \\\n",
       "0   126  51-60      m            9.0          92.0       Welsh Terrier   \n",
       "1   574  61-70      w            2.0          23.0       Cairn Terrier   \n",
       "2   695  41-50      m            6.0          63.0  Labrador Retriever   \n",
       "3   893  61-70      w            7.0          71.0     Mittelschnauzer   \n",
       "4  1177  51-60      m           10.0         102.0            Shih Tzu   \n",
       "\n",
       "  Primary_Breed_Mixed Secondary_Breed  Secondary_Breed_Mixed Breed_Type  \\\n",
       "0                 NaN             NaN                    NaN          K   \n",
       "1                 NaN             NaN                    NaN          K   \n",
       "2                 NaN             NaN                    NaN          I   \n",
       "3                 NaN             NaN                    NaN          I   \n",
       "4                 NaN             NaN                    NaN          K   \n",
       "\n",
       "   Dog_Birth_Year Dog_Gender      Dog_Color  \n",
       "0            2011          w  schwarz/braun  \n",
       "1            2002          w        brindle  \n",
       "2            2012          w          braun  \n",
       "3            2010          w        schwarz  \n",
       "4            2011          m  schwarz/weiss  "
      ]
     },
     "execution_count": 4,
     "metadata": {},
     "output_type": "execute_result"
    }
   ],
   "source": [
    "df.head()"
   ]
  },
  {
   "cell_type": "markdown",
   "id": "09ed1861",
   "metadata": {},
   "source": [
    "### Initial Data Checks"
   ]
  },
  {
   "cell_type": "code",
   "execution_count": 5,
   "id": "8bcf7aef",
   "metadata": {},
   "outputs": [
    {
     "name": "stdout",
     "output_type": "stream",
     "text": [
      "Shape\n",
      "(21065, 13)\n",
      "-----------------------\n",
      "Info\n",
      "<class 'pandas.core.frame.DataFrame'>\n",
      "Int64Index: 21065 entries, 0 to 7154\n",
      "Data columns (total 13 columns):\n",
      " #   Column                 Non-Null Count  Dtype  \n",
      "---  ------                 --------------  -----  \n",
      " 0   ID                     21065 non-null  int64  \n",
      " 1   Age                    21060 non-null  object \n",
      " 2   Gender                 21065 non-null  object \n",
      " 3   City_District          21060 non-null  float64\n",
      " 4   City_Quarter           21060 non-null  float64\n",
      " 5   Primary_Breed          21065 non-null  object \n",
      " 6   Primary_Breed_Mixed    1939 non-null   object \n",
      " 7   Secondary_Breed        1590 non-null   object \n",
      " 8   Secondary_Breed_Mixed  0 non-null      float64\n",
      " 9   Breed_Type             20891 non-null  object \n",
      " 10  Dog_Birth_Year         21065 non-null  int64  \n",
      " 11  Dog_Gender             21065 non-null  object \n",
      " 12  Dog_Color              21065 non-null  object \n",
      "dtypes: float64(3), int64(2), object(8)\n",
      "memory usage: 2.2+ MB\n",
      "None\n",
      "-----------------------\n",
      "Stats\n",
      "                  ID  City_District  City_Quarter  Secondary_Breed_Mixed  \\\n",
      "count   21065.000000   21060.000000  21060.000000                    0.0   \n",
      "mean   103405.173985       7.414672     76.712915                    NaN   \n",
      "std     20036.586161       3.258463     33.017563                    NaN   \n",
      "min       126.000000       1.000000      2.000000                    NaN   \n",
      "25%     88068.000000       5.000000     51.000000                    NaN   \n",
      "50%    102060.000000       8.000000     81.000000                    NaN   \n",
      "75%    121585.000000      10.000000    102.000000                    NaN   \n",
      "max    135731.000000      12.000000    123.000000                    NaN   \n",
      "\n",
      "       Dog_Birth_Year  \n",
      "count    21065.000000  \n",
      "mean      2009.078519  \n",
      "std         35.427394  \n",
      "min          1.000000  \n",
      "25%       2006.000000  \n",
      "50%       2009.000000  \n",
      "75%       2012.000000  \n",
      "max       5012.000000  \n",
      "-----------------------\n",
      "dtypes\n",
      "ID                         int64\n",
      "Age                       object\n",
      "Gender                    object\n",
      "City_District            float64\n",
      "City_Quarter             float64\n",
      "Primary_Breed             object\n",
      "Primary_Breed_Mixed       object\n",
      "Secondary_Breed           object\n",
      "Secondary_Breed_Mixed    float64\n",
      "Breed_Type                object\n",
      "Dog_Birth_Year             int64\n",
      "Dog_Gender                object\n",
      "Dog_Color                 object\n",
      "dtype: object\n"
     ]
    }
   ],
   "source": [
    "print('Shape')\n",
    "print(df.shape)\n",
    "print('-----------------------')\n",
    "print('Info')\n",
    "print(df.info())\n",
    "print('-----------------------')\n",
    "print('Stats')     \n",
    "print(df.describe())\n",
    "print('-----------------------')\n",
    "print('dtypes')\n",
    "print(df.dtypes)"
   ]
  },
  {
   "cell_type": "markdown",
   "id": "c95d1fc1",
   "metadata": {},
   "source": [
    "# Questions\n",
    "1. What trends exist between owners and dog breeds?\n",
    "    -Age and breeds?\n",
    "    -Gender and breeds?\n",
    "    -Location and breeds?\n",
    "2. is there a relationship between breed, dog gender and dog color?"
   ]
  },
  {
   "cell_type": "markdown",
   "id": "dc106516",
   "metadata": {},
   "source": [
    "# Cleaning Up the Data"
   ]
  },
  {
   "cell_type": "code",
   "execution_count": 6,
   "id": "61abdcb3",
   "metadata": {},
   "outputs": [
    {
     "data": {
      "text/plain": [
       "ID                         0.000000\n",
       "Age                        0.023736\n",
       "Gender                     0.000000\n",
       "City_District              0.023736\n",
       "City_Quarter               0.023736\n",
       "Primary_Breed              0.000000\n",
       "Primary_Breed_Mixed       90.795158\n",
       "Secondary_Breed           92.451934\n",
       "Secondary_Breed_Mixed    100.000000\n",
       "Breed_Type                 0.826015\n",
       "Dog_Birth_Year             0.000000\n",
       "Dog_Gender                 0.000000\n",
       "Dog_Color                  0.000000\n",
       "dtype: float64"
      ]
     },
     "execution_count": 6,
     "metadata": {},
     "output_type": "execute_result"
    }
   ],
   "source": [
    "#check for nulls\n",
    "df.isnull().sum()/ df.shape[0] * 100"
   ]
  },
  {
   "cell_type": "markdown",
   "id": "883d3148",
   "metadata": {},
   "source": [
    "### Secondary_Breed_Mixed"
   ]
  },
  {
   "cell_type": "code",
   "execution_count": 7,
   "id": "d03576a6",
   "metadata": {},
   "outputs": [],
   "source": [
    "df.drop(columns='Secondary_Breed_Mixed',inplace=True)"
   ]
  },
  {
   "cell_type": "code",
   "execution_count": 8,
   "id": "2f80648c",
   "metadata": {},
   "outputs": [],
   "source": [
    "#Cleaning the Primary_Breed_Mixed column \n",
    "#Setting Mischling to 'Mixed', null to 'Pure'"
   ]
  },
  {
   "cell_type": "markdown",
   "id": "2164a3cf",
   "metadata": {},
   "source": [
    "### Primary_Breed_Mixed"
   ]
  },
  {
   "cell_type": "markdown",
   "id": "4fc57055",
   "metadata": {},
   "source": [
    "Mischling is german for mixed, so we'll set those values to \"mixed\" and the others (na's) to \"pure\""
   ]
  },
  {
   "cell_type": "code",
   "execution_count": 9,
   "id": "c50348cb",
   "metadata": {},
   "outputs": [],
   "source": [
    "df.loc[df.Primary_Breed_Mixed=='Mischling','Primary_Breed_Mixed'] ='Mixed'\n",
    "df.Primary_Breed_Mixed.fillna('Pure',inplace=True)"
   ]
  },
  {
   "cell_type": "code",
   "execution_count": 10,
   "id": "1ee0cce5",
   "metadata": {},
   "outputs": [
    {
     "data": {
      "text/plain": [
       "array(['Pure', 'Mixed'], dtype=object)"
      ]
     },
     "execution_count": 10,
     "metadata": {},
     "output_type": "execute_result"
    }
   ],
   "source": [
    "df.Primary_Breed_Mixed.unique()"
   ]
  },
  {
   "cell_type": "markdown",
   "id": "af6b9e6b",
   "metadata": {},
   "source": [
    "### Age"
   ]
  },
  {
   "cell_type": "code",
   "execution_count": 11,
   "id": "5e409b5b",
   "metadata": {},
   "outputs": [
    {
     "data": {
      "text/plain": [
       "array(['51-60', '61-70', '41-50', '71-80', '31-40', '81-90', '21-30',\n",
       "       '91-100', nan, '11-20'], dtype=object)"
      ]
     },
     "execution_count": 11,
     "metadata": {},
     "output_type": "execute_result"
    }
   ],
   "source": [
    "df.Age.unique()"
   ]
  },
  {
   "cell_type": "code",
   "execution_count": 12,
   "id": "ba2d2ebf",
   "metadata": {},
   "outputs": [
    {
     "data": {
      "text/plain": [
       "Int64Index([1348, 2556, 1273, 2407, 2234], dtype='int64')"
      ]
     },
     "execution_count": 12,
     "metadata": {},
     "output_type": "execute_result"
    }
   ],
   "source": [
    "df[df.Age.isnull()].index"
   ]
  },
  {
   "cell_type": "code",
   "execution_count": 13,
   "id": "96cb5c9d",
   "metadata": {},
   "outputs": [],
   "source": [
    "#Since the missing are so small (.02 %), we'll delete those missing rows\n",
    "df.drop(df[df.Age.isnull()].index,inplace=True)"
   ]
  },
  {
   "cell_type": "code",
   "execution_count": 14,
   "id": "f762def9",
   "metadata": {},
   "outputs": [
    {
     "data": {
      "text/plain": [
       "0"
      ]
     },
     "execution_count": 14,
     "metadata": {},
     "output_type": "execute_result"
    }
   ],
   "source": [
    "df.Age.isnull().sum()"
   ]
  },
  {
   "cell_type": "markdown",
   "id": "bd48cd74",
   "metadata": {},
   "source": [
    "### City Quarter & City District\n"
   ]
  },
  {
   "cell_type": "markdown",
   "id": "bbc2bde9",
   "metadata": {},
   "source": [
    "City Quarter and District are missing .009% of values. We'll just remove from the dataset"
   ]
  },
  {
   "cell_type": "code",
   "execution_count": 15,
   "id": "476df7ce",
   "metadata": {},
   "outputs": [
    {
     "data": {
      "text/plain": [
       "[(36, 36), (34, 34)]"
      ]
     },
     "execution_count": 15,
     "metadata": {},
     "output_type": "execute_result"
    }
   ],
   "source": [
    "i=[]\n",
    "missingQ = df[df.City_Quarter.isnull()].index\n",
    "missingD = df[df.City_District.isnull()].index\n",
    "list(zip(missingQ,missingD))"
   ]
  },
  {
   "cell_type": "code",
   "execution_count": 16,
   "id": "95db6ebc",
   "metadata": {},
   "outputs": [],
   "source": [
    "df.drop(index=[34,36],inplace=True)"
   ]
  },
  {
   "cell_type": "markdown",
   "id": "421a129d",
   "metadata": {},
   "source": [
    "### Breed Type"
   ]
  },
  {
   "cell_type": "markdown",
   "id": "a566d250",
   "metadata": {},
   "source": [
    "Droping null values, .52% of values are null"
   ]
  },
  {
   "cell_type": "code",
   "execution_count": 17,
   "id": "0f8a0bf9",
   "metadata": {},
   "outputs": [],
   "source": [
    "df.drop(df[df.Breed_Type.isnull()].index,inplace=True)"
   ]
  },
  {
   "cell_type": "markdown",
   "id": "e34790ce",
   "metadata": {},
   "source": [
    "### Secondary Breed"
   ]
  },
  {
   "cell_type": "code",
   "execution_count": 18,
   "id": "0a2af7ac",
   "metadata": {},
   "outputs": [
    {
     "data": {
      "text/plain": [
       "Labrador Retriever          119\n",
       "Golden Retriever             67\n",
       "Pudel                        67\n",
       "Chihuahua                    64\n",
       "Schäfer                      62\n",
       "                           ... \n",
       "American Pitbull Terrier      1\n",
       "Lhasa Apso                    1\n",
       "Welsh Corgi                   1\n",
       "Harzer Fuchs                  1\n",
       "Podenco Ibicenco              1\n",
       "Name: Secondary_Breed, Length: 130, dtype: int64"
      ]
     },
     "execution_count": 18,
     "metadata": {},
     "output_type": "execute_result"
    }
   ],
   "source": [
    "df.Secondary_Breed.value_counts()"
   ]
  },
  {
   "cell_type": "code",
   "execution_count": 19,
   "id": "32d1bb2b",
   "metadata": {},
   "outputs": [
    {
     "data": {
      "text/html": [
       "<div>\n",
       "<style scoped>\n",
       "    .dataframe tbody tr th:only-of-type {\n",
       "        vertical-align: middle;\n",
       "    }\n",
       "\n",
       "    .dataframe tbody tr th {\n",
       "        vertical-align: top;\n",
       "    }\n",
       "\n",
       "    .dataframe thead th {\n",
       "        text-align: right;\n",
       "    }\n",
       "</style>\n",
       "<table border=\"1\" class=\"dataframe\">\n",
       "  <thead>\n",
       "    <tr style=\"text-align: right;\">\n",
       "      <th></th>\n",
       "      <th>ID</th>\n",
       "      <th>Age</th>\n",
       "      <th>Gender</th>\n",
       "      <th>City_District</th>\n",
       "      <th>City_Quarter</th>\n",
       "      <th>Primary_Breed</th>\n",
       "      <th>Primary_Breed_Mixed</th>\n",
       "      <th>Secondary_Breed</th>\n",
       "      <th>Breed_Type</th>\n",
       "      <th>Dog_Birth_Year</th>\n",
       "      <th>Dog_Gender</th>\n",
       "      <th>Dog_Color</th>\n",
       "    </tr>\n",
       "  </thead>\n",
       "  <tbody>\n",
       "    <tr>\n",
       "      <th>9</th>\n",
       "      <td>4215</td>\n",
       "      <td>41-50</td>\n",
       "      <td>w</td>\n",
       "      <td>8.0</td>\n",
       "      <td>81.0</td>\n",
       "      <td>Bergamasker</td>\n",
       "      <td>Mixed</td>\n",
       "      <td>NaN</td>\n",
       "      <td>I</td>\n",
       "      <td>2004</td>\n",
       "      <td>w</td>\n",
       "      <td>schwarz</td>\n",
       "    </tr>\n",
       "    <tr>\n",
       "      <th>10</th>\n",
       "      <td>4215</td>\n",
       "      <td>41-50</td>\n",
       "      <td>w</td>\n",
       "      <td>8.0</td>\n",
       "      <td>81.0</td>\n",
       "      <td>Border Collie</td>\n",
       "      <td>Mixed</td>\n",
       "      <td>NaN</td>\n",
       "      <td>I</td>\n",
       "      <td>2001</td>\n",
       "      <td>m</td>\n",
       "      <td>schwarz</td>\n",
       "    </tr>\n",
       "    <tr>\n",
       "      <th>11</th>\n",
       "      <td>4215</td>\n",
       "      <td>41-50</td>\n",
       "      <td>w</td>\n",
       "      <td>8.0</td>\n",
       "      <td>81.0</td>\n",
       "      <td>Bergamasker</td>\n",
       "      <td>Mixed</td>\n",
       "      <td>NaN</td>\n",
       "      <td>I</td>\n",
       "      <td>2001</td>\n",
       "      <td>w</td>\n",
       "      <td>grau/braun</td>\n",
       "    </tr>\n",
       "    <tr>\n",
       "      <th>12</th>\n",
       "      <td>4239</td>\n",
       "      <td>61-70</td>\n",
       "      <td>w</td>\n",
       "      <td>10.0</td>\n",
       "      <td>102.0</td>\n",
       "      <td>Pinscher</td>\n",
       "      <td>Mixed</td>\n",
       "      <td>NaN</td>\n",
       "      <td>K</td>\n",
       "      <td>2013</td>\n",
       "      <td>w</td>\n",
       "      <td>braun/schwarz</td>\n",
       "    </tr>\n",
       "    <tr>\n",
       "      <th>41</th>\n",
       "      <td>6629</td>\n",
       "      <td>51-60</td>\n",
       "      <td>w</td>\n",
       "      <td>4.0</td>\n",
       "      <td>41.0</td>\n",
       "      <td>Spitz</td>\n",
       "      <td>Mixed</td>\n",
       "      <td>NaN</td>\n",
       "      <td>K</td>\n",
       "      <td>1997</td>\n",
       "      <td>w</td>\n",
       "      <td>hellbraun</td>\n",
       "    </tr>\n",
       "    <tr>\n",
       "      <th>...</th>\n",
       "      <td>...</td>\n",
       "      <td>...</td>\n",
       "      <td>...</td>\n",
       "      <td>...</td>\n",
       "      <td>...</td>\n",
       "      <td>...</td>\n",
       "      <td>...</td>\n",
       "      <td>...</td>\n",
       "      <td>...</td>\n",
       "      <td>...</td>\n",
       "      <td>...</td>\n",
       "      <td>...</td>\n",
       "    </tr>\n",
       "    <tr>\n",
       "      <th>7044</th>\n",
       "      <td>135039</td>\n",
       "      <td>21-30</td>\n",
       "      <td>w</td>\n",
       "      <td>11.0</td>\n",
       "      <td>111.0</td>\n",
       "      <td>Labrador Retriever</td>\n",
       "      <td>Mixed</td>\n",
       "      <td>NaN</td>\n",
       "      <td>I</td>\n",
       "      <td>2011</td>\n",
       "      <td>m</td>\n",
       "      <td>schwarz/weiss</td>\n",
       "    </tr>\n",
       "    <tr>\n",
       "      <th>7132</th>\n",
       "      <td>135618</td>\n",
       "      <td>31-40</td>\n",
       "      <td>m</td>\n",
       "      <td>9.0</td>\n",
       "      <td>91.0</td>\n",
       "      <td>Cocker Spaniel</td>\n",
       "      <td>Mixed</td>\n",
       "      <td>NaN</td>\n",
       "      <td>K</td>\n",
       "      <td>2016</td>\n",
       "      <td>m</td>\n",
       "      <td>choco</td>\n",
       "    </tr>\n",
       "    <tr>\n",
       "      <th>7145</th>\n",
       "      <td>135694</td>\n",
       "      <td>21-30</td>\n",
       "      <td>m</td>\n",
       "      <td>10.0</td>\n",
       "      <td>102.0</td>\n",
       "      <td>Spitz</td>\n",
       "      <td>Mixed</td>\n",
       "      <td>NaN</td>\n",
       "      <td>K</td>\n",
       "      <td>2014</td>\n",
       "      <td>w</td>\n",
       "      <td>braun</td>\n",
       "    </tr>\n",
       "    <tr>\n",
       "      <th>7148</th>\n",
       "      <td>135697</td>\n",
       "      <td>31-40</td>\n",
       "      <td>m</td>\n",
       "      <td>10.0</td>\n",
       "      <td>102.0</td>\n",
       "      <td>Labrador Retriever</td>\n",
       "      <td>Mixed</td>\n",
       "      <td>NaN</td>\n",
       "      <td>I</td>\n",
       "      <td>2012</td>\n",
       "      <td>m</td>\n",
       "      <td>braun/weiss</td>\n",
       "    </tr>\n",
       "    <tr>\n",
       "      <th>7149</th>\n",
       "      <td>135697</td>\n",
       "      <td>31-40</td>\n",
       "      <td>m</td>\n",
       "      <td>10.0</td>\n",
       "      <td>102.0</td>\n",
       "      <td>Collie</td>\n",
       "      <td>Mixed</td>\n",
       "      <td>NaN</td>\n",
       "      <td>I</td>\n",
       "      <td>2013</td>\n",
       "      <td>w</td>\n",
       "      <td>schwarz/weiss</td>\n",
       "    </tr>\n",
       "  </tbody>\n",
       "</table>\n",
       "<p>1848 rows × 12 columns</p>\n",
       "</div>"
      ],
      "text/plain": [
       "          ID    Age Gender  City_District  City_Quarter       Primary_Breed  \\\n",
       "9       4215  41-50      w            8.0          81.0         Bergamasker   \n",
       "10      4215  41-50      w            8.0          81.0       Border Collie   \n",
       "11      4215  41-50      w            8.0          81.0         Bergamasker   \n",
       "12      4239  61-70      w           10.0         102.0            Pinscher   \n",
       "41      6629  51-60      w            4.0          41.0               Spitz   \n",
       "...      ...    ...    ...            ...           ...                 ...   \n",
       "7044  135039  21-30      w           11.0         111.0  Labrador Retriever   \n",
       "7132  135618  31-40      m            9.0          91.0      Cocker Spaniel   \n",
       "7145  135694  21-30      m           10.0         102.0               Spitz   \n",
       "7148  135697  31-40      m           10.0         102.0  Labrador Retriever   \n",
       "7149  135697  31-40      m           10.0         102.0              Collie   \n",
       "\n",
       "     Primary_Breed_Mixed Secondary_Breed Breed_Type  Dog_Birth_Year  \\\n",
       "9                  Mixed             NaN          I            2004   \n",
       "10                 Mixed             NaN          I            2001   \n",
       "11                 Mixed             NaN          I            2001   \n",
       "12                 Mixed             NaN          K            2013   \n",
       "41                 Mixed             NaN          K            1997   \n",
       "...                  ...             ...        ...             ...   \n",
       "7044               Mixed             NaN          I            2011   \n",
       "7132               Mixed             NaN          K            2016   \n",
       "7145               Mixed             NaN          K            2014   \n",
       "7148               Mixed             NaN          I            2012   \n",
       "7149               Mixed             NaN          I            2013   \n",
       "\n",
       "     Dog_Gender      Dog_Color  \n",
       "9             w        schwarz  \n",
       "10            m        schwarz  \n",
       "11            w     grau/braun  \n",
       "12            w  braun/schwarz  \n",
       "41            w      hellbraun  \n",
       "...         ...            ...  \n",
       "7044          m  schwarz/weiss  \n",
       "7132          m          choco  \n",
       "7145          w          braun  \n",
       "7148          m    braun/weiss  \n",
       "7149          w  schwarz/weiss  \n",
       "\n",
       "[1848 rows x 12 columns]"
      ]
     },
     "execution_count": 19,
     "metadata": {},
     "output_type": "execute_result"
    }
   ],
   "source": [
    "# do any na's exist when the primary breed does not equal pure? if no, then we can set Secondary Breed to \"None\"\n",
    "df.loc[(df.Secondary_Breed.isnull()) & (df.Primary_Breed_Mixed != 'Pure')]"
   ]
  },
  {
   "cell_type": "code",
   "execution_count": 20,
   "id": "4ec00922",
   "metadata": {},
   "outputs": [],
   "source": [
    "df.Secondary_Breed.fillna('None',inplace=True)"
   ]
  },
  {
   "cell_type": "code",
   "execution_count": 21,
   "id": "5f3ef4d5",
   "metadata": {},
   "outputs": [
    {
     "data": {
      "text/html": [
       "<div>\n",
       "<style scoped>\n",
       "    .dataframe tbody tr th:only-of-type {\n",
       "        vertical-align: middle;\n",
       "    }\n",
       "\n",
       "    .dataframe tbody tr th {\n",
       "        vertical-align: top;\n",
       "    }\n",
       "\n",
       "    .dataframe thead th {\n",
       "        text-align: right;\n",
       "    }\n",
       "</style>\n",
       "<table border=\"1\" class=\"dataframe\">\n",
       "  <thead>\n",
       "    <tr style=\"text-align: right;\">\n",
       "      <th></th>\n",
       "      <th>ID</th>\n",
       "      <th>Age</th>\n",
       "      <th>Gender</th>\n",
       "      <th>City_District</th>\n",
       "      <th>City_Quarter</th>\n",
       "      <th>Primary_Breed</th>\n",
       "      <th>Primary_Breed_Mixed</th>\n",
       "      <th>Secondary_Breed</th>\n",
       "      <th>Breed_Type</th>\n",
       "      <th>Dog_Birth_Year</th>\n",
       "      <th>Dog_Gender</th>\n",
       "      <th>Dog_Color</th>\n",
       "    </tr>\n",
       "  </thead>\n",
       "  <tbody>\n",
       "    <tr>\n",
       "      <th>0</th>\n",
       "      <td>126</td>\n",
       "      <td>51-60</td>\n",
       "      <td>m</td>\n",
       "      <td>9.0</td>\n",
       "      <td>92.0</td>\n",
       "      <td>Welsh Terrier</td>\n",
       "      <td>Pure</td>\n",
       "      <td>None</td>\n",
       "      <td>K</td>\n",
       "      <td>2011</td>\n",
       "      <td>w</td>\n",
       "      <td>schwarz/braun</td>\n",
       "    </tr>\n",
       "    <tr>\n",
       "      <th>1</th>\n",
       "      <td>574</td>\n",
       "      <td>61-70</td>\n",
       "      <td>w</td>\n",
       "      <td>2.0</td>\n",
       "      <td>23.0</td>\n",
       "      <td>Cairn Terrier</td>\n",
       "      <td>Pure</td>\n",
       "      <td>None</td>\n",
       "      <td>K</td>\n",
       "      <td>2002</td>\n",
       "      <td>w</td>\n",
       "      <td>brindle</td>\n",
       "    </tr>\n",
       "    <tr>\n",
       "      <th>2</th>\n",
       "      <td>695</td>\n",
       "      <td>41-50</td>\n",
       "      <td>m</td>\n",
       "      <td>6.0</td>\n",
       "      <td>63.0</td>\n",
       "      <td>Labrador Retriever</td>\n",
       "      <td>Pure</td>\n",
       "      <td>None</td>\n",
       "      <td>I</td>\n",
       "      <td>2012</td>\n",
       "      <td>w</td>\n",
       "      <td>braun</td>\n",
       "    </tr>\n",
       "    <tr>\n",
       "      <th>3</th>\n",
       "      <td>893</td>\n",
       "      <td>61-70</td>\n",
       "      <td>w</td>\n",
       "      <td>7.0</td>\n",
       "      <td>71.0</td>\n",
       "      <td>Mittelschnauzer</td>\n",
       "      <td>Pure</td>\n",
       "      <td>None</td>\n",
       "      <td>I</td>\n",
       "      <td>2010</td>\n",
       "      <td>w</td>\n",
       "      <td>schwarz</td>\n",
       "    </tr>\n",
       "    <tr>\n",
       "      <th>4</th>\n",
       "      <td>1177</td>\n",
       "      <td>51-60</td>\n",
       "      <td>m</td>\n",
       "      <td>10.0</td>\n",
       "      <td>102.0</td>\n",
       "      <td>Shih Tzu</td>\n",
       "      <td>Pure</td>\n",
       "      <td>None</td>\n",
       "      <td>K</td>\n",
       "      <td>2011</td>\n",
       "      <td>m</td>\n",
       "      <td>schwarz/weiss</td>\n",
       "    </tr>\n",
       "  </tbody>\n",
       "</table>\n",
       "</div>"
      ],
      "text/plain": [
       "     ID    Age Gender  City_District  City_Quarter       Primary_Breed  \\\n",
       "0   126  51-60      m            9.0          92.0       Welsh Terrier   \n",
       "1   574  61-70      w            2.0          23.0       Cairn Terrier   \n",
       "2   695  41-50      m            6.0          63.0  Labrador Retriever   \n",
       "3   893  61-70      w            7.0          71.0     Mittelschnauzer   \n",
       "4  1177  51-60      m           10.0         102.0            Shih Tzu   \n",
       "\n",
       "  Primary_Breed_Mixed Secondary_Breed Breed_Type  Dog_Birth_Year Dog_Gender  \\\n",
       "0                Pure            None          K            2011          w   \n",
       "1                Pure            None          K            2002          w   \n",
       "2                Pure            None          I            2012          w   \n",
       "3                Pure            None          I            2010          w   \n",
       "4                Pure            None          K            2011          m   \n",
       "\n",
       "       Dog_Color  \n",
       "0  schwarz/braun  \n",
       "1        brindle  \n",
       "2          braun  \n",
       "3        schwarz  \n",
       "4  schwarz/weiss  "
      ]
     },
     "execution_count": 21,
     "metadata": {},
     "output_type": "execute_result"
    }
   ],
   "source": [
    "df.head()"
   ]
  },
  {
   "cell_type": "code",
   "execution_count": 22,
   "id": "b6d39115",
   "metadata": {},
   "outputs": [
    {
     "name": "stdout",
     "output_type": "stream",
     "text": [
      "Age\n",
      "51-60     4440\n",
      "41-50     4358\n",
      "31-40     3860\n",
      "61-70     3004\n",
      "21-30     2296\n",
      "71-80     1903\n",
      "81-90      497\n",
      "11-20      122\n",
      "91-100      43\n",
      "Name: Age, dtype: int64\n",
      "----------------------\n",
      "Gender\n",
      "w    14127\n",
      "m     6396\n",
      "Name: Gender, dtype: int64\n",
      "----------------------\n",
      "City_District\n",
      "11.0    3436\n",
      "7.0     2917\n",
      "9.0     2462\n",
      "10.0    1987\n",
      "3.0     1884\n",
      "2.0     1788\n",
      "12.0    1457\n",
      "6.0     1451\n",
      "4.0     1087\n",
      "8.0     1082\n",
      "5.0      620\n",
      "1.0      352\n",
      "Name: City_District, dtype: int64\n",
      "----------------------\n",
      "City_Quarter\n",
      "92.0     1593\n",
      "101.0    1366\n",
      "111.0    1201\n",
      "119.0    1198\n",
      "115.0    1037\n",
      "74.0     1027\n",
      "21.0      874\n",
      "91.0      869\n",
      "61.0      793\n",
      "31.0      788\n",
      "72.0      727\n",
      "71.0      686\n",
      "63.0      655\n",
      "34.0      642\n",
      "122.0     631\n",
      "102.0     621\n",
      "24.0      552\n",
      "42.0      511\n",
      "123.0     495\n",
      "73.0      477\n",
      "33.0      454\n",
      "44.0      411\n",
      "83.0      383\n",
      "23.0      362\n",
      "82.0      358\n",
      "81.0      341\n",
      "121.0     331\n",
      "52.0      324\n",
      "51.0      296\n",
      "11.0      191\n",
      "41.0      162\n",
      "13.0       83\n",
      "14.0       55\n",
      "12.0       23\n",
      "4.0         3\n",
      "6.0         3\n",
      "Name: City_Quarter, dtype: int64\n",
      "----------------------\n",
      "Primary_Breed\n",
      "Mischling klein          1870\n",
      "Chihuahua                1472\n",
      "Labrador Retriever       1295\n",
      "Jack Russel Terrier       860\n",
      "Yorkshire Terrier         854\n",
      "                         ... \n",
      "Epagneul                    2\n",
      "Powder Puff                 1\n",
      "Norwegischer Buhund         1\n",
      "Perro Dogo Mallorquin       1\n",
      "Kishu                       1\n",
      "Name: Primary_Breed, Length: 311, dtype: int64\n",
      "----------------------\n",
      "Primary_Breed_Mixed\n",
      "Pure     18675\n",
      "Mixed     1848\n",
      "Name: Primary_Breed_Mixed, dtype: int64\n",
      "----------------------\n",
      "Secondary_Breed\n",
      "None                        18958\n",
      "Labrador Retriever            119\n",
      "Golden Retriever               67\n",
      "Pudel                          67\n",
      "Chihuahua                      64\n",
      "                            ...  \n",
      "Minipudel                       1\n",
      "American Pitbull Terrier        1\n",
      "Toypudel                        1\n",
      "Welsh Corgi                     1\n",
      "Podenco Ibicenco                1\n",
      "Name: Secondary_Breed, Length: 131, dtype: int64\n",
      "----------------------\n",
      "Breed_Type\n",
      "K     12829\n",
      "I      7633\n",
      "II       61\n",
      "Name: Breed_Type, dtype: int64\n",
      "----------------------\n",
      "Dog_Birth_Year\n",
      "2012    1830\n",
      "2013    1695\n",
      "2010    1668\n",
      "2014    1660\n",
      "2009    1622\n",
      "2011    1591\n",
      "2008    1479\n",
      "2007    1429\n",
      "2006    1294\n",
      "2005    1217\n",
      "2004    1150\n",
      "2015    1112\n",
      "2003     810\n",
      "2002     637\n",
      "2016     500\n",
      "2001     383\n",
      "2000     245\n",
      "1999     114\n",
      "1998      58\n",
      "1997      16\n",
      "1996       3\n",
      "1980       2\n",
      "5012       2\n",
      "8          1\n",
      "1          1\n",
      "1962       1\n",
      "1995       1\n",
      "1994       1\n",
      "2017       1\n",
      "Name: Dog_Birth_Year, dtype: int64\n",
      "----------------------\n",
      "Dog_Gender\n",
      "w    10385\n",
      "m    10138\n",
      "Name: Dog_Gender, dtype: int64\n",
      "----------------------\n",
      "Dog_Color\n",
      "schwarz             2201\n",
      "tricolor            1979\n",
      "weiss               1613\n",
      "braun               1550\n",
      "schwarz/weiss       1301\n",
      "                    ... \n",
      "wildsaufarbig          2\n",
      "mahagoni/weiss         2\n",
      "creme/schwarz          2\n",
      "silber/weiss           1\n",
      "schwarz melliert       1\n",
      "Name: Dog_Color, Length: 172, dtype: int64\n",
      "----------------------\n"
     ]
    }
   ],
   "source": [
    "#investigate unique counts for each col\n",
    "for col in df.columns[1:]:\n",
    "    print(col)\n",
    "    print(df[col].value_counts())\n",
    "    print('----------------------')"
   ]
  },
  {
   "cell_type": "code",
   "execution_count": 23,
   "id": "324539d2",
   "metadata": {},
   "outputs": [
    {
     "data": {
      "text/plain": [
       "2023"
      ]
     },
     "execution_count": 23,
     "metadata": {},
     "output_type": "execute_result"
    }
   ],
   "source": [
    "datetime.now().year"
   ]
  },
  {
   "cell_type": "code",
   "execution_count": 24,
   "id": "4c4d6f01",
   "metadata": {},
   "outputs": [],
   "source": [
    "#add a col for age and remove birth year\n",
    "df['Dog_Age']= datetime.now().year - df['Dog_Birth_Year']\n",
    "df.drop(columns='Dog_Birth_Year',inplace=True)"
   ]
  },
  {
   "cell_type": "code",
   "execution_count": 25,
   "id": "2ae34eb8",
   "metadata": {},
   "outputs": [
    {
     "data": {
      "text/html": [
       "<div>\n",
       "<style scoped>\n",
       "    .dataframe tbody tr th:only-of-type {\n",
       "        vertical-align: middle;\n",
       "    }\n",
       "\n",
       "    .dataframe tbody tr th {\n",
       "        vertical-align: top;\n",
       "    }\n",
       "\n",
       "    .dataframe thead th {\n",
       "        text-align: right;\n",
       "    }\n",
       "</style>\n",
       "<table border=\"1\" class=\"dataframe\">\n",
       "  <thead>\n",
       "    <tr style=\"text-align: right;\">\n",
       "      <th></th>\n",
       "      <th>ID</th>\n",
       "      <th>Age</th>\n",
       "      <th>Gender</th>\n",
       "      <th>City_District</th>\n",
       "      <th>City_Quarter</th>\n",
       "      <th>Primary_Breed</th>\n",
       "      <th>Primary_Breed_Mixed</th>\n",
       "      <th>Secondary_Breed</th>\n",
       "      <th>Breed_Type</th>\n",
       "      <th>Dog_Gender</th>\n",
       "      <th>Dog_Color</th>\n",
       "      <th>Dog_Age</th>\n",
       "    </tr>\n",
       "  </thead>\n",
       "  <tbody>\n",
       "    <tr>\n",
       "      <th>0</th>\n",
       "      <td>126</td>\n",
       "      <td>51-60</td>\n",
       "      <td>m</td>\n",
       "      <td>9.0</td>\n",
       "      <td>92.0</td>\n",
       "      <td>Welsh Terrier</td>\n",
       "      <td>Pure</td>\n",
       "      <td>None</td>\n",
       "      <td>K</td>\n",
       "      <td>w</td>\n",
       "      <td>schwarz/braun</td>\n",
       "      <td>12</td>\n",
       "    </tr>\n",
       "    <tr>\n",
       "      <th>1</th>\n",
       "      <td>574</td>\n",
       "      <td>61-70</td>\n",
       "      <td>w</td>\n",
       "      <td>2.0</td>\n",
       "      <td>23.0</td>\n",
       "      <td>Cairn Terrier</td>\n",
       "      <td>Pure</td>\n",
       "      <td>None</td>\n",
       "      <td>K</td>\n",
       "      <td>w</td>\n",
       "      <td>brindle</td>\n",
       "      <td>21</td>\n",
       "    </tr>\n",
       "    <tr>\n",
       "      <th>2</th>\n",
       "      <td>695</td>\n",
       "      <td>41-50</td>\n",
       "      <td>m</td>\n",
       "      <td>6.0</td>\n",
       "      <td>63.0</td>\n",
       "      <td>Labrador Retriever</td>\n",
       "      <td>Pure</td>\n",
       "      <td>None</td>\n",
       "      <td>I</td>\n",
       "      <td>w</td>\n",
       "      <td>braun</td>\n",
       "      <td>11</td>\n",
       "    </tr>\n",
       "    <tr>\n",
       "      <th>3</th>\n",
       "      <td>893</td>\n",
       "      <td>61-70</td>\n",
       "      <td>w</td>\n",
       "      <td>7.0</td>\n",
       "      <td>71.0</td>\n",
       "      <td>Mittelschnauzer</td>\n",
       "      <td>Pure</td>\n",
       "      <td>None</td>\n",
       "      <td>I</td>\n",
       "      <td>w</td>\n",
       "      <td>schwarz</td>\n",
       "      <td>13</td>\n",
       "    </tr>\n",
       "    <tr>\n",
       "      <th>4</th>\n",
       "      <td>1177</td>\n",
       "      <td>51-60</td>\n",
       "      <td>m</td>\n",
       "      <td>10.0</td>\n",
       "      <td>102.0</td>\n",
       "      <td>Shih Tzu</td>\n",
       "      <td>Pure</td>\n",
       "      <td>None</td>\n",
       "      <td>K</td>\n",
       "      <td>m</td>\n",
       "      <td>schwarz/weiss</td>\n",
       "      <td>12</td>\n",
       "    </tr>\n",
       "  </tbody>\n",
       "</table>\n",
       "</div>"
      ],
      "text/plain": [
       "     ID    Age Gender  City_District  City_Quarter       Primary_Breed  \\\n",
       "0   126  51-60      m            9.0          92.0       Welsh Terrier   \n",
       "1   574  61-70      w            2.0          23.0       Cairn Terrier   \n",
       "2   695  41-50      m            6.0          63.0  Labrador Retriever   \n",
       "3   893  61-70      w            7.0          71.0     Mittelschnauzer   \n",
       "4  1177  51-60      m           10.0         102.0            Shih Tzu   \n",
       "\n",
       "  Primary_Breed_Mixed Secondary_Breed Breed_Type Dog_Gender      Dog_Color  \\\n",
       "0                Pure            None          K          w  schwarz/braun   \n",
       "1                Pure            None          K          w        brindle   \n",
       "2                Pure            None          I          w          braun   \n",
       "3                Pure            None          I          w        schwarz   \n",
       "4                Pure            None          K          m  schwarz/weiss   \n",
       "\n",
       "   Dog_Age  \n",
       "0       12  \n",
       "1       21  \n",
       "2       11  \n",
       "3       13  \n",
       "4       12  "
      ]
     },
     "execution_count": 25,
     "metadata": {},
     "output_type": "execute_result"
    }
   ],
   "source": [
    "df.head()"
   ]
  },
  {
   "cell_type": "code",
   "execution_count": 26,
   "id": "fcf407a1",
   "metadata": {},
   "outputs": [],
   "source": [
    "#set Age to a category\n",
    "df.Age = df.Age.astype('category')"
   ]
  },
  {
   "cell_type": "markdown",
   "id": "e31c7845",
   "metadata": {},
   "source": [
    "# Exploratory Data Analysis"
   ]
  },
  {
   "cell_type": "code",
   "execution_count": 27,
   "id": "fee7ee2e",
   "metadata": {},
   "outputs": [
    {
     "data": {
      "image/png": "[encoded data removed]",
      "text/plain": [
       "<Figure size 563.5x500 with 1 Axes>"
      ]
     },
     "metadata": {},
     "output_type": "display_data"
    }
   ],
   "source": [
    "# gender by age for dog owners\n",
    "plt.clf\n",
    "sns.catplot(data=df,kind='count',x='Age',hue='Gender')\n",
    "plt.title('How Gender is represented by Age')\n",
    "plt.show()"
   ]
  },
  {
   "cell_type": "code",
   "execution_count": 28,
   "id": "7b87d7dd",
   "metadata": {},
   "outputs": [
    {
     "data": {
      "image/png": "[encoded data removed]",
      "text/plain": [
       "<Figure size 500x500 with 1 Axes>"
      ]
     },
     "metadata": {},
     "output_type": "display_data"
    }
   ],
   "source": [
    "plt.clf\n",
    "sns.catplot(data=df,kind='count',x='City_District')\n",
    "plt.title('Counts per District')\n",
    "plt.show()"
   ]
  },
  {
   "cell_type": "code",
   "execution_count": 69,
   "id": "440c1f25",
   "metadata": {
    "scrolled": false
   },
   "outputs": [
    {
     "data": {
      "text/plain": [
       "<Figure size 2000x1000 with 0 Axes>"
      ]
     },
     "metadata": {},
     "output_type": "display_data"
    },
    {
     "data": {
      "image/png": "[encoded data removed]",
      "text/plain": [
       "<Figure size 581x500 with 1 Axes>"
      ]
     },
     "metadata": {},
     "output_type": "display_data"
    }
   ],
   "source": [
    "plt.clf\n",
    "appended_data = []\n",
    "for dis in df.City_District.unique():\n",
    "    City_counts_df= pd.DataFrame(df.loc[df.City_District ==dis,'Primary_Breed'].value_counts\\\n",
    "             (ascending=False).head(5)).reset_index().rename(columns={'index':'Breed','Primary_Breed':'Count'})\n",
    "    City_counts_df['District'] = dis\n",
    "    appended_data.append(City_counts_df)\n",
    "appended_data = pd.concat(appended_data)    \n",
    "appended_data[['District','Breed','Count']].sort_values(['District','Count'],ascending=[True,False])\n",
    "\n",
    "plt.figure(figsize=(20,10))\n",
    "sns.catplot(data=appended_data,kind='bar',y='Count',x='Breed',hue='District')\n",
    "#sns.catplot(data=appended_data,kind='bar',x='District',y='Count',hue='Breed')\n",
    "plt.xticks(rotation=90)\n",
    "plt.show()\n"
   ]
  },
  {
   "cell_type": "code",
   "execution_count": null,
   "id": "e7498e41",
   "metadata": {},
   "outputs": [],
   "source": []
  }
 ],
 "metadata": {
  "kernelspec": {
   "display_name": "Python 3 (ipykernel)",
   "language": "python",
   "name": "python3"
  },
  "language_info": {
   "codemirror_mode": {
    "name": "ipython",
    "version": 3
   },
   "file_extension": ".py",
   "mimetype": "text/x-python",
   "name": "python",
   "nbconvert_exporter": "python",
   "pygments_lexer": "ipython3",
   "version": "3.9.13"
  }
 },
 "nbformat": 4,
 "nbformat_minor": 5
}
